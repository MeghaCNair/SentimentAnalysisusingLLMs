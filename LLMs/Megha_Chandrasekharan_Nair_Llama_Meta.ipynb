{
  "nbformat": 4,
  "nbformat_minor": 0,
  "metadata": {
    "colab": {
      "provenance": [],
      "gpuType": "A100",
      "machine_shape": "hm"
    },
    "kernelspec": {
      "name": "python3",
      "display_name": "Python 3"
    },
    "language_info": {
      "name": "python"
    },
    "accelerator": "GPU",
    "widgets": {
      "application/vnd.jupyter.widget-state+json": {
        "ec9737c6ebf74717bc5e807800b10668": {
          "model_module": "@jupyter-widgets/controls",
          "model_name": "HBoxModel",
          "model_module_version": "1.5.0",
          "state": {
            "_dom_classes": [],
            "_model_module": "@jupyter-widgets/controls",
            "_model_module_version": "1.5.0",
            "_model_name": "HBoxModel",
            "_view_count": null,
            "_view_module": "@jupyter-widgets/controls",
            "_view_module_version": "1.5.0",
            "_view_name": "HBoxView",
            "box_style": "",
            "children": [
              "IPY_MODEL_0ad6bd0b1e964aea88c923d5f3de4e8a",
              "IPY_MODEL_269d064db8ea43bca521f3f616235b05",
              "IPY_MODEL_e4c74f183c234c518bb0aa25a99c8eb2"
            ],
            "layout": "IPY_MODEL_77ad2c47fa2741dd9a0d202c04453b4f"
          }
        },
        "0ad6bd0b1e964aea88c923d5f3de4e8a": {
          "model_module": "@jupyter-widgets/controls",
          "model_name": "HTMLModel",
          "model_module_version": "1.5.0",
          "state": {
            "_dom_classes": [],
            "_model_module": "@jupyter-widgets/controls",
            "_model_module_version": "1.5.0",
            "_model_name": "HTMLModel",
            "_view_count": null,
            "_view_module": "@jupyter-widgets/controls",
            "_view_module_version": "1.5.0",
            "_view_name": "HTMLView",
            "description": "",
            "description_tooltip": null,
            "layout": "IPY_MODEL_f29b1131f2914756a288537509add809",
            "placeholder": "​",
            "style": "IPY_MODEL_6e53ac0815794c32bd1ec76b2372edc8",
            "value": "Map: 100%"
          }
        },
        "269d064db8ea43bca521f3f616235b05": {
          "model_module": "@jupyter-widgets/controls",
          "model_name": "FloatProgressModel",
          "model_module_version": "1.5.0",
          "state": {
            "_dom_classes": [],
            "_model_module": "@jupyter-widgets/controls",
            "_model_module_version": "1.5.0",
            "_model_name": "FloatProgressModel",
            "_view_count": null,
            "_view_module": "@jupyter-widgets/controls",
            "_view_module_version": "1.5.0",
            "_view_name": "ProgressView",
            "bar_style": "success",
            "description": "",
            "description_tooltip": null,
            "layout": "IPY_MODEL_b6e72f86d1be445ba8c57532da9ef56b",
            "max": 6179,
            "min": 0,
            "orientation": "horizontal",
            "style": "IPY_MODEL_e1e702fa6ab14256ba18e89781315499",
            "value": 6179
          }
        },
        "e4c74f183c234c518bb0aa25a99c8eb2": {
          "model_module": "@jupyter-widgets/controls",
          "model_name": "HTMLModel",
          "model_module_version": "1.5.0",
          "state": {
            "_dom_classes": [],
            "_model_module": "@jupyter-widgets/controls",
            "_model_module_version": "1.5.0",
            "_model_name": "HTMLModel",
            "_view_count": null,
            "_view_module": "@jupyter-widgets/controls",
            "_view_module_version": "1.5.0",
            "_view_name": "HTMLView",
            "description": "",
            "description_tooltip": null,
            "layout": "IPY_MODEL_26e703f969cc4ff09c5190656c947d24",
            "placeholder": "​",
            "style": "IPY_MODEL_b4b555c95c62401a85635d82f221006e",
            "value": " 6179/6179 [00:00&lt;00:00, 22871.67 examples/s]"
          }
        },
        "77ad2c47fa2741dd9a0d202c04453b4f": {
          "model_module": "@jupyter-widgets/base",
          "model_name": "LayoutModel",
          "model_module_version": "1.2.0",
          "state": {
            "_model_module": "@jupyter-widgets/base",
            "_model_module_version": "1.2.0",
            "_model_name": "LayoutModel",
            "_view_count": null,
            "_view_module": "@jupyter-widgets/base",
            "_view_module_version": "1.2.0",
            "_view_name": "LayoutView",
            "align_content": null,
            "align_items": null,
            "align_self": null,
            "border": null,
            "bottom": null,
            "display": null,
            "flex": null,
            "flex_flow": null,
            "grid_area": null,
            "grid_auto_columns": null,
            "grid_auto_flow": null,
            "grid_auto_rows": null,
            "grid_column": null,
            "grid_gap": null,
            "grid_row": null,
            "grid_template_areas": null,
            "grid_template_columns": null,
            "grid_template_rows": null,
            "height": null,
            "justify_content": null,
            "justify_items": null,
            "left": null,
            "margin": null,
            "max_height": null,
            "max_width": null,
            "min_height": null,
            "min_width": null,
            "object_fit": null,
            "object_position": null,
            "order": null,
            "overflow": null,
            "overflow_x": null,
            "overflow_y": null,
            "padding": null,
            "right": null,
            "top": null,
            "visibility": null,
            "width": null
          }
        },
        "f29b1131f2914756a288537509add809": {
          "model_module": "@jupyter-widgets/base",
          "model_name": "LayoutModel",
          "model_module_version": "1.2.0",
          "state": {
            "_model_module": "@jupyter-widgets/base",
            "_model_module_version": "1.2.0",
            "_model_name": "LayoutModel",
            "_view_count": null,
            "_view_module": "@jupyter-widgets/base",
            "_view_module_version": "1.2.0",
            "_view_name": "LayoutView",
            "align_content": null,
            "align_items": null,
            "align_self": null,
            "border": null,
            "bottom": null,
            "display": null,
            "flex": null,
            "flex_flow": null,
            "grid_area": null,
            "grid_auto_columns": null,
            "grid_auto_flow": null,
            "grid_auto_rows": null,
            "grid_column": null,
            "grid_gap": null,
            "grid_row": null,
            "grid_template_areas": null,
            "grid_template_columns": null,
            "grid_template_rows": null,
            "height": null,
            "justify_content": null,
            "justify_items": null,
            "left": null,
            "margin": null,
            "max_height": null,
            "max_width": null,
            "min_height": null,
            "min_width": null,
            "object_fit": null,
            "object_position": null,
            "order": null,
            "overflow": null,
            "overflow_x": null,
            "overflow_y": null,
            "padding": null,
            "right": null,
            "top": null,
            "visibility": null,
            "width": null
          }
        },
        "6e53ac0815794c32bd1ec76b2372edc8": {
          "model_module": "@jupyter-widgets/controls",
          "model_name": "DescriptionStyleModel",
          "model_module_version": "1.5.0",
          "state": {
            "_model_module": "@jupyter-widgets/controls",
            "_model_module_version": "1.5.0",
            "_model_name": "DescriptionStyleModel",
            "_view_count": null,
            "_view_module": "@jupyter-widgets/base",
            "_view_module_version": "1.2.0",
            "_view_name": "StyleView",
            "description_width": ""
          }
        },
        "b6e72f86d1be445ba8c57532da9ef56b": {
          "model_module": "@jupyter-widgets/base",
          "model_name": "LayoutModel",
          "model_module_version": "1.2.0",
          "state": {
            "_model_module": "@jupyter-widgets/base",
            "_model_module_version": "1.2.0",
            "_model_name": "LayoutModel",
            "_view_count": null,
            "_view_module": "@jupyter-widgets/base",
            "_view_module_version": "1.2.0",
            "_view_name": "LayoutView",
            "align_content": null,
            "align_items": null,
            "align_self": null,
            "border": null,
            "bottom": null,
            "display": null,
            "flex": null,
            "flex_flow": null,
            "grid_area": null,
            "grid_auto_columns": null,
            "grid_auto_flow": null,
            "grid_auto_rows": null,
            "grid_column": null,
            "grid_gap": null,
            "grid_row": null,
            "grid_template_areas": null,
            "grid_template_columns": null,
            "grid_template_rows": null,
            "height": null,
            "justify_content": null,
            "justify_items": null,
            "left": null,
            "margin": null,
            "max_height": null,
            "max_width": null,
            "min_height": null,
            "min_width": null,
            "object_fit": null,
            "object_position": null,
            "order": null,
            "overflow": null,
            "overflow_x": null,
            "overflow_y": null,
            "padding": null,
            "right": null,
            "top": null,
            "visibility": null,
            "width": null
          }
        },
        "e1e702fa6ab14256ba18e89781315499": {
          "model_module": "@jupyter-widgets/controls",
          "model_name": "ProgressStyleModel",
          "model_module_version": "1.5.0",
          "state": {
            "_model_module": "@jupyter-widgets/controls",
            "_model_module_version": "1.5.0",
            "_model_name": "ProgressStyleModel",
            "_view_count": null,
            "_view_module": "@jupyter-widgets/base",
            "_view_module_version": "1.2.0",
            "_view_name": "StyleView",
            "bar_color": null,
            "description_width": ""
          }
        },
        "26e703f969cc4ff09c5190656c947d24": {
          "model_module": "@jupyter-widgets/base",
          "model_name": "LayoutModel",
          "model_module_version": "1.2.0",
          "state": {
            "_model_module": "@jupyter-widgets/base",
            "_model_module_version": "1.2.0",
            "_model_name": "LayoutModel",
            "_view_count": null,
            "_view_module": "@jupyter-widgets/base",
            "_view_module_version": "1.2.0",
            "_view_name": "LayoutView",
            "align_content": null,
            "align_items": null,
            "align_self": null,
            "border": null,
            "bottom": null,
            "display": null,
            "flex": null,
            "flex_flow": null,
            "grid_area": null,
            "grid_auto_columns": null,
            "grid_auto_flow": null,
            "grid_auto_rows": null,
            "grid_column": null,
            "grid_gap": null,
            "grid_row": null,
            "grid_template_areas": null,
            "grid_template_columns": null,
            "grid_template_rows": null,
            "height": null,
            "justify_content": null,
            "justify_items": null,
            "left": null,
            "margin": null,
            "max_height": null,
            "max_width": null,
            "min_height": null,
            "min_width": null,
            "object_fit": null,
            "object_position": null,
            "order": null,
            "overflow": null,
            "overflow_x": null,
            "overflow_y": null,
            "padding": null,
            "right": null,
            "top": null,
            "visibility": null,
            "width": null
          }
        },
        "b4b555c95c62401a85635d82f221006e": {
          "model_module": "@jupyter-widgets/controls",
          "model_name": "DescriptionStyleModel",
          "model_module_version": "1.5.0",
          "state": {
            "_model_module": "@jupyter-widgets/controls",
            "_model_module_version": "1.5.0",
            "_model_name": "DescriptionStyleModel",
            "_view_count": null,
            "_view_module": "@jupyter-widgets/base",
            "_view_module_version": "1.2.0",
            "_view_name": "StyleView",
            "description_width": ""
          }
        },
        "93b03c1c895c4a4aa85105b71984b10a": {
          "model_module": "@jupyter-widgets/controls",
          "model_name": "HBoxModel",
          "model_module_version": "1.5.0",
          "state": {
            "_dom_classes": [],
            "_model_module": "@jupyter-widgets/controls",
            "_model_module_version": "1.5.0",
            "_model_name": "HBoxModel",
            "_view_count": null,
            "_view_module": "@jupyter-widgets/controls",
            "_view_module_version": "1.5.0",
            "_view_name": "HBoxView",
            "box_style": "",
            "children": [
              "IPY_MODEL_3f07710528824083a4633165653109d4",
              "IPY_MODEL_8411fbeaa1d6487788ee2592e4a00645",
              "IPY_MODEL_ba64ba60e1d643c68dfe1ac4b7b23346"
            ],
            "layout": "IPY_MODEL_3f1d237098994000b4f4a64795f65847"
          }
        },
        "3f07710528824083a4633165653109d4": {
          "model_module": "@jupyter-widgets/controls",
          "model_name": "HTMLModel",
          "model_module_version": "1.5.0",
          "state": {
            "_dom_classes": [],
            "_model_module": "@jupyter-widgets/controls",
            "_model_module_version": "1.5.0",
            "_model_name": "HTMLModel",
            "_view_count": null,
            "_view_module": "@jupyter-widgets/controls",
            "_view_module_version": "1.5.0",
            "_view_name": "HTMLView",
            "description": "",
            "description_tooltip": null,
            "layout": "IPY_MODEL_e34fd171cf474d79b50c72150156b404",
            "placeholder": "​",
            "style": "IPY_MODEL_786bd6d15fce4be182550ee56b0a60f5",
            "value": "Map: 100%"
          }
        },
        "8411fbeaa1d6487788ee2592e4a00645": {
          "model_module": "@jupyter-widgets/controls",
          "model_name": "FloatProgressModel",
          "model_module_version": "1.5.0",
          "state": {
            "_dom_classes": [],
            "_model_module": "@jupyter-widgets/controls",
            "_model_module_version": "1.5.0",
            "_model_name": "FloatProgressModel",
            "_view_count": null,
            "_view_module": "@jupyter-widgets/controls",
            "_view_module_version": "1.5.0",
            "_view_name": "ProgressView",
            "bar_style": "success",
            "description": "",
            "description_tooltip": null,
            "layout": "IPY_MODEL_fc67818f50124537837af9587323f2ac",
            "max": 1545,
            "min": 0,
            "orientation": "horizontal",
            "style": "IPY_MODEL_a98e529dd6464ce78aaf2d70561ae197",
            "value": 1545
          }
        },
        "ba64ba60e1d643c68dfe1ac4b7b23346": {
          "model_module": "@jupyter-widgets/controls",
          "model_name": "HTMLModel",
          "model_module_version": "1.5.0",
          "state": {
            "_dom_classes": [],
            "_model_module": "@jupyter-widgets/controls",
            "_model_module_version": "1.5.0",
            "_model_name": "HTMLModel",
            "_view_count": null,
            "_view_module": "@jupyter-widgets/controls",
            "_view_module_version": "1.5.0",
            "_view_name": "HTMLView",
            "description": "",
            "description_tooltip": null,
            "layout": "IPY_MODEL_b1fcffb75ea444f78e69f4ad6989cc43",
            "placeholder": "​",
            "style": "IPY_MODEL_0f77b699677546e69c544d7f1c334e7e",
            "value": " 1545/1545 [00:00&lt;00:00, 18264.94 examples/s]"
          }
        },
        "3f1d237098994000b4f4a64795f65847": {
          "model_module": "@jupyter-widgets/base",
          "model_name": "LayoutModel",
          "model_module_version": "1.2.0",
          "state": {
            "_model_module": "@jupyter-widgets/base",
            "_model_module_version": "1.2.0",
            "_model_name": "LayoutModel",
            "_view_count": null,
            "_view_module": "@jupyter-widgets/base",
            "_view_module_version": "1.2.0",
            "_view_name": "LayoutView",
            "align_content": null,
            "align_items": null,
            "align_self": null,
            "border": null,
            "bottom": null,
            "display": null,
            "flex": null,
            "flex_flow": null,
            "grid_area": null,
            "grid_auto_columns": null,
            "grid_auto_flow": null,
            "grid_auto_rows": null,
            "grid_column": null,
            "grid_gap": null,
            "grid_row": null,
            "grid_template_areas": null,
            "grid_template_columns": null,
            "grid_template_rows": null,
            "height": null,
            "justify_content": null,
            "justify_items": null,
            "left": null,
            "margin": null,
            "max_height": null,
            "max_width": null,
            "min_height": null,
            "min_width": null,
            "object_fit": null,
            "object_position": null,
            "order": null,
            "overflow": null,
            "overflow_x": null,
            "overflow_y": null,
            "padding": null,
            "right": null,
            "top": null,
            "visibility": null,
            "width": null
          }
        },
        "e34fd171cf474d79b50c72150156b404": {
          "model_module": "@jupyter-widgets/base",
          "model_name": "LayoutModel",
          "model_module_version": "1.2.0",
          "state": {
            "_model_module": "@jupyter-widgets/base",
            "_model_module_version": "1.2.0",
            "_model_name": "LayoutModel",
            "_view_count": null,
            "_view_module": "@jupyter-widgets/base",
            "_view_module_version": "1.2.0",
            "_view_name": "LayoutView",
            "align_content": null,
            "align_items": null,
            "align_self": null,
            "border": null,
            "bottom": null,
            "display": null,
            "flex": null,
            "flex_flow": null,
            "grid_area": null,
            "grid_auto_columns": null,
            "grid_auto_flow": null,
            "grid_auto_rows": null,
            "grid_column": null,
            "grid_gap": null,
            "grid_row": null,
            "grid_template_areas": null,
            "grid_template_columns": null,
            "grid_template_rows": null,
            "height": null,
            "justify_content": null,
            "justify_items": null,
            "left": null,
            "margin": null,
            "max_height": null,
            "max_width": null,
            "min_height": null,
            "min_width": null,
            "object_fit": null,
            "object_position": null,
            "order": null,
            "overflow": null,
            "overflow_x": null,
            "overflow_y": null,
            "padding": null,
            "right": null,
            "top": null,
            "visibility": null,
            "width": null
          }
        },
        "786bd6d15fce4be182550ee56b0a60f5": {
          "model_module": "@jupyter-widgets/controls",
          "model_name": "DescriptionStyleModel",
          "model_module_version": "1.5.0",
          "state": {
            "_model_module": "@jupyter-widgets/controls",
            "_model_module_version": "1.5.0",
            "_model_name": "DescriptionStyleModel",
            "_view_count": null,
            "_view_module": "@jupyter-widgets/base",
            "_view_module_version": "1.2.0",
            "_view_name": "StyleView",
            "description_width": ""
          }
        },
        "fc67818f50124537837af9587323f2ac": {
          "model_module": "@jupyter-widgets/base",
          "model_name": "LayoutModel",
          "model_module_version": "1.2.0",
          "state": {
            "_model_module": "@jupyter-widgets/base",
            "_model_module_version": "1.2.0",
            "_model_name": "LayoutModel",
            "_view_count": null,
            "_view_module": "@jupyter-widgets/base",
            "_view_module_version": "1.2.0",
            "_view_name": "LayoutView",
            "align_content": null,
            "align_items": null,
            "align_self": null,
            "border": null,
            "bottom": null,
            "display": null,
            "flex": null,
            "flex_flow": null,
            "grid_area": null,
            "grid_auto_columns": null,
            "grid_auto_flow": null,
            "grid_auto_rows": null,
            "grid_column": null,
            "grid_gap": null,
            "grid_row": null,
            "grid_template_areas": null,
            "grid_template_columns": null,
            "grid_template_rows": null,
            "height": null,
            "justify_content": null,
            "justify_items": null,
            "left": null,
            "margin": null,
            "max_height": null,
            "max_width": null,
            "min_height": null,
            "min_width": null,
            "object_fit": null,
            "object_position": null,
            "order": null,
            "overflow": null,
            "overflow_x": null,
            "overflow_y": null,
            "padding": null,
            "right": null,
            "top": null,
            "visibility": null,
            "width": null
          }
        },
        "a98e529dd6464ce78aaf2d70561ae197": {
          "model_module": "@jupyter-widgets/controls",
          "model_name": "ProgressStyleModel",
          "model_module_version": "1.5.0",
          "state": {
            "_model_module": "@jupyter-widgets/controls",
            "_model_module_version": "1.5.0",
            "_model_name": "ProgressStyleModel",
            "_view_count": null,
            "_view_module": "@jupyter-widgets/base",
            "_view_module_version": "1.2.0",
            "_view_name": "StyleView",
            "bar_color": null,
            "description_width": ""
          }
        },
        "b1fcffb75ea444f78e69f4ad6989cc43": {
          "model_module": "@jupyter-widgets/base",
          "model_name": "LayoutModel",
          "model_module_version": "1.2.0",
          "state": {
            "_model_module": "@jupyter-widgets/base",
            "_model_module_version": "1.2.0",
            "_model_name": "LayoutModel",
            "_view_count": null,
            "_view_module": "@jupyter-widgets/base",
            "_view_module_version": "1.2.0",
            "_view_name": "LayoutView",
            "align_content": null,
            "align_items": null,
            "align_self": null,
            "border": null,
            "bottom": null,
            "display": null,
            "flex": null,
            "flex_flow": null,
            "grid_area": null,
            "grid_auto_columns": null,
            "grid_auto_flow": null,
            "grid_auto_rows": null,
            "grid_column": null,
            "grid_gap": null,
            "grid_row": null,
            "grid_template_areas": null,
            "grid_template_columns": null,
            "grid_template_rows": null,
            "height": null,
            "justify_content": null,
            "justify_items": null,
            "left": null,
            "margin": null,
            "max_height": null,
            "max_width": null,
            "min_height": null,
            "min_width": null,
            "object_fit": null,
            "object_position": null,
            "order": null,
            "overflow": null,
            "overflow_x": null,
            "overflow_y": null,
            "padding": null,
            "right": null,
            "top": null,
            "visibility": null,
            "width": null
          }
        },
        "0f77b699677546e69c544d7f1c334e7e": {
          "model_module": "@jupyter-widgets/controls",
          "model_name": "DescriptionStyleModel",
          "model_module_version": "1.5.0",
          "state": {
            "_model_module": "@jupyter-widgets/controls",
            "_model_module_version": "1.5.0",
            "_model_name": "DescriptionStyleModel",
            "_view_count": null,
            "_view_module": "@jupyter-widgets/base",
            "_view_module_version": "1.2.0",
            "_view_name": "StyleView",
            "description_width": ""
          }
        },
        "82fa0e5679dc48ddbb5189763a69ba25": {
          "model_module": "@jupyter-widgets/controls",
          "model_name": "HBoxModel",
          "model_module_version": "1.5.0",
          "state": {
            "_dom_classes": [],
            "_model_module": "@jupyter-widgets/controls",
            "_model_module_version": "1.5.0",
            "_model_name": "HBoxModel",
            "_view_count": null,
            "_view_module": "@jupyter-widgets/controls",
            "_view_module_version": "1.5.0",
            "_view_name": "HBoxView",
            "box_style": "",
            "children": [
              "IPY_MODEL_ad7d573bdeeb496ba148f8ef838e5611",
              "IPY_MODEL_f3a00cd982f94080acf467e6b22fb449",
              "IPY_MODEL_e82646a496af400ca504bfa0dae9cb5c"
            ],
            "layout": "IPY_MODEL_e973b9f828f34d8299ea7613068c37d8"
          }
        },
        "ad7d573bdeeb496ba148f8ef838e5611": {
          "model_module": "@jupyter-widgets/controls",
          "model_name": "HTMLModel",
          "model_module_version": "1.5.0",
          "state": {
            "_dom_classes": [],
            "_model_module": "@jupyter-widgets/controls",
            "_model_module_version": "1.5.0",
            "_model_name": "HTMLModel",
            "_view_count": null,
            "_view_module": "@jupyter-widgets/controls",
            "_view_module_version": "1.5.0",
            "_view_name": "HTMLView",
            "description": "",
            "description_tooltip": null,
            "layout": "IPY_MODEL_0c9c420c13d34ae2a9e710650d3e8d71",
            "placeholder": "​",
            "style": "IPY_MODEL_64e1de07e4e047e3b9db1aaf656b5ee0",
            "value": "Map: 100%"
          }
        },
        "f3a00cd982f94080acf467e6b22fb449": {
          "model_module": "@jupyter-widgets/controls",
          "model_name": "FloatProgressModel",
          "model_module_version": "1.5.0",
          "state": {
            "_dom_classes": [],
            "_model_module": "@jupyter-widgets/controls",
            "_model_module_version": "1.5.0",
            "_model_name": "FloatProgressModel",
            "_view_count": null,
            "_view_module": "@jupyter-widgets/controls",
            "_view_module_version": "1.5.0",
            "_view_name": "ProgressView",
            "bar_style": "success",
            "description": "",
            "description_tooltip": null,
            "layout": "IPY_MODEL_5d9f6078c1ed474a9c4a169637c3b591",
            "max": 6179,
            "min": 0,
            "orientation": "horizontal",
            "style": "IPY_MODEL_4f2ec1122af84dbcb4b5e87de3ea1d2d",
            "value": 6179
          }
        },
        "e82646a496af400ca504bfa0dae9cb5c": {
          "model_module": "@jupyter-widgets/controls",
          "model_name": "HTMLModel",
          "model_module_version": "1.5.0",
          "state": {
            "_dom_classes": [],
            "_model_module": "@jupyter-widgets/controls",
            "_model_module_version": "1.5.0",
            "_model_name": "HTMLModel",
            "_view_count": null,
            "_view_module": "@jupyter-widgets/controls",
            "_view_module_version": "1.5.0",
            "_view_name": "HTMLView",
            "description": "",
            "description_tooltip": null,
            "layout": "IPY_MODEL_5f0f68ab00744829ad0315ff97887ed6",
            "placeholder": "​",
            "style": "IPY_MODEL_7b4d759b41d84d0da8defcf3f4d16dd9",
            "value": " 6179/6179 [00:03&lt;00:00, 1872.80 examples/s]"
          }
        },
        "e973b9f828f34d8299ea7613068c37d8": {
          "model_module": "@jupyter-widgets/base",
          "model_name": "LayoutModel",
          "model_module_version": "1.2.0",
          "state": {
            "_model_module": "@jupyter-widgets/base",
            "_model_module_version": "1.2.0",
            "_model_name": "LayoutModel",
            "_view_count": null,
            "_view_module": "@jupyter-widgets/base",
            "_view_module_version": "1.2.0",
            "_view_name": "LayoutView",
            "align_content": null,
            "align_items": null,
            "align_self": null,
            "border": null,
            "bottom": null,
            "display": null,
            "flex": null,
            "flex_flow": null,
            "grid_area": null,
            "grid_auto_columns": null,
            "grid_auto_flow": null,
            "grid_auto_rows": null,
            "grid_column": null,
            "grid_gap": null,
            "grid_row": null,
            "grid_template_areas": null,
            "grid_template_columns": null,
            "grid_template_rows": null,
            "height": null,
            "justify_content": null,
            "justify_items": null,
            "left": null,
            "margin": null,
            "max_height": null,
            "max_width": null,
            "min_height": null,
            "min_width": null,
            "object_fit": null,
            "object_position": null,
            "order": null,
            "overflow": null,
            "overflow_x": null,
            "overflow_y": null,
            "padding": null,
            "right": null,
            "top": null,
            "visibility": null,
            "width": null
          }
        },
        "0c9c420c13d34ae2a9e710650d3e8d71": {
          "model_module": "@jupyter-widgets/base",
          "model_name": "LayoutModel",
          "model_module_version": "1.2.0",
          "state": {
            "_model_module": "@jupyter-widgets/base",
            "_model_module_version": "1.2.0",
            "_model_name": "LayoutModel",
            "_view_count": null,
            "_view_module": "@jupyter-widgets/base",
            "_view_module_version": "1.2.0",
            "_view_name": "LayoutView",
            "align_content": null,
            "align_items": null,
            "align_self": null,
            "border": null,
            "bottom": null,
            "display": null,
            "flex": null,
            "flex_flow": null,
            "grid_area": null,
            "grid_auto_columns": null,
            "grid_auto_flow": null,
            "grid_auto_rows": null,
            "grid_column": null,
            "grid_gap": null,
            "grid_row": null,
            "grid_template_areas": null,
            "grid_template_columns": null,
            "grid_template_rows": null,
            "height": null,
            "justify_content": null,
            "justify_items": null,
            "left": null,
            "margin": null,
            "max_height": null,
            "max_width": null,
            "min_height": null,
            "min_width": null,
            "object_fit": null,
            "object_position": null,
            "order": null,
            "overflow": null,
            "overflow_x": null,
            "overflow_y": null,
            "padding": null,
            "right": null,
            "top": null,
            "visibility": null,
            "width": null
          }
        },
        "64e1de07e4e047e3b9db1aaf656b5ee0": {
          "model_module": "@jupyter-widgets/controls",
          "model_name": "DescriptionStyleModel",
          "model_module_version": "1.5.0",
          "state": {
            "_model_module": "@jupyter-widgets/controls",
            "_model_module_version": "1.5.0",
            "_model_name": "DescriptionStyleModel",
            "_view_count": null,
            "_view_module": "@jupyter-widgets/base",
            "_view_module_version": "1.2.0",
            "_view_name": "StyleView",
            "description_width": ""
          }
        },
        "5d9f6078c1ed474a9c4a169637c3b591": {
          "model_module": "@jupyter-widgets/base",
          "model_name": "LayoutModel",
          "model_module_version": "1.2.0",
          "state": {
            "_model_module": "@jupyter-widgets/base",
            "_model_module_version": "1.2.0",
            "_model_name": "LayoutModel",
            "_view_count": null,
            "_view_module": "@jupyter-widgets/base",
            "_view_module_version": "1.2.0",
            "_view_name": "LayoutView",
            "align_content": null,
            "align_items": null,
            "align_self": null,
            "border": null,
            "bottom": null,
            "display": null,
            "flex": null,
            "flex_flow": null,
            "grid_area": null,
            "grid_auto_columns": null,
            "grid_auto_flow": null,
            "grid_auto_rows": null,
            "grid_column": null,
            "grid_gap": null,
            "grid_row": null,
            "grid_template_areas": null,
            "grid_template_columns": null,
            "grid_template_rows": null,
            "height": null,
            "justify_content": null,
            "justify_items": null,
            "left": null,
            "margin": null,
            "max_height": null,
            "max_width": null,
            "min_height": null,
            "min_width": null,
            "object_fit": null,
            "object_position": null,
            "order": null,
            "overflow": null,
            "overflow_x": null,
            "overflow_y": null,
            "padding": null,
            "right": null,
            "top": null,
            "visibility": null,
            "width": null
          }
        },
        "4f2ec1122af84dbcb4b5e87de3ea1d2d": {
          "model_module": "@jupyter-widgets/controls",
          "model_name": "ProgressStyleModel",
          "model_module_version": "1.5.0",
          "state": {
            "_model_module": "@jupyter-widgets/controls",
            "_model_module_version": "1.5.0",
            "_model_name": "ProgressStyleModel",
            "_view_count": null,
            "_view_module": "@jupyter-widgets/base",
            "_view_module_version": "1.2.0",
            "_view_name": "StyleView",
            "bar_color": null,
            "description_width": ""
          }
        },
        "5f0f68ab00744829ad0315ff97887ed6": {
          "model_module": "@jupyter-widgets/base",
          "model_name": "LayoutModel",
          "model_module_version": "1.2.0",
          "state": {
            "_model_module": "@jupyter-widgets/base",
            "_model_module_version": "1.2.0",
            "_model_name": "LayoutModel",
            "_view_count": null,
            "_view_module": "@jupyter-widgets/base",
            "_view_module_version": "1.2.0",
            "_view_name": "LayoutView",
            "align_content": null,
            "align_items": null,
            "align_self": null,
            "border": null,
            "bottom": null,
            "display": null,
            "flex": null,
            "flex_flow": null,
            "grid_area": null,
            "grid_auto_columns": null,
            "grid_auto_flow": null,
            "grid_auto_rows": null,
            "grid_column": null,
            "grid_gap": null,
            "grid_row": null,
            "grid_template_areas": null,
            "grid_template_columns": null,
            "grid_template_rows": null,
            "height": null,
            "justify_content": null,
            "justify_items": null,
            "left": null,
            "margin": null,
            "max_height": null,
            "max_width": null,
            "min_height": null,
            "min_width": null,
            "object_fit": null,
            "object_position": null,
            "order": null,
            "overflow": null,
            "overflow_x": null,
            "overflow_y": null,
            "padding": null,
            "right": null,
            "top": null,
            "visibility": null,
            "width": null
          }
        },
        "7b4d759b41d84d0da8defcf3f4d16dd9": {
          "model_module": "@jupyter-widgets/controls",
          "model_name": "DescriptionStyleModel",
          "model_module_version": "1.5.0",
          "state": {
            "_model_module": "@jupyter-widgets/controls",
            "_model_module_version": "1.5.0",
            "_model_name": "DescriptionStyleModel",
            "_view_count": null,
            "_view_module": "@jupyter-widgets/base",
            "_view_module_version": "1.2.0",
            "_view_name": "StyleView",
            "description_width": ""
          }
        },
        "913490bbe1a9492c9c8eb61f624e15cf": {
          "model_module": "@jupyter-widgets/controls",
          "model_name": "HBoxModel",
          "model_module_version": "1.5.0",
          "state": {
            "_dom_classes": [],
            "_model_module": "@jupyter-widgets/controls",
            "_model_module_version": "1.5.0",
            "_model_name": "HBoxModel",
            "_view_count": null,
            "_view_module": "@jupyter-widgets/controls",
            "_view_module_version": "1.5.0",
            "_view_name": "HBoxView",
            "box_style": "",
            "children": [
              "IPY_MODEL_18109378fcda47399b0ae9003b924104",
              "IPY_MODEL_00077a306a564a4e99fa9fc41c325117",
              "IPY_MODEL_4b106401b17641749ebdd98d52a5a120"
            ],
            "layout": "IPY_MODEL_cd91ac9f8f84443593e4e776b95f9952"
          }
        },
        "18109378fcda47399b0ae9003b924104": {
          "model_module": "@jupyter-widgets/controls",
          "model_name": "HTMLModel",
          "model_module_version": "1.5.0",
          "state": {
            "_dom_classes": [],
            "_model_module": "@jupyter-widgets/controls",
            "_model_module_version": "1.5.0",
            "_model_name": "HTMLModel",
            "_view_count": null,
            "_view_module": "@jupyter-widgets/controls",
            "_view_module_version": "1.5.0",
            "_view_name": "HTMLView",
            "description": "",
            "description_tooltip": null,
            "layout": "IPY_MODEL_cc5c0a27ee30480c91630e062b719470",
            "placeholder": "​",
            "style": "IPY_MODEL_6a3bbe1d9fa34ff3a90f516fb71b7eae",
            "value": "Map: 100%"
          }
        },
        "00077a306a564a4e99fa9fc41c325117": {
          "model_module": "@jupyter-widgets/controls",
          "model_name": "FloatProgressModel",
          "model_module_version": "1.5.0",
          "state": {
            "_dom_classes": [],
            "_model_module": "@jupyter-widgets/controls",
            "_model_module_version": "1.5.0",
            "_model_name": "FloatProgressModel",
            "_view_count": null,
            "_view_module": "@jupyter-widgets/controls",
            "_view_module_version": "1.5.0",
            "_view_name": "ProgressView",
            "bar_style": "success",
            "description": "",
            "description_tooltip": null,
            "layout": "IPY_MODEL_57cec80d53f24528a7b51e33466bfff0",
            "max": 1545,
            "min": 0,
            "orientation": "horizontal",
            "style": "IPY_MODEL_10d45ac150d0433ba185b9c4882ff669",
            "value": 1545
          }
        },
        "4b106401b17641749ebdd98d52a5a120": {
          "model_module": "@jupyter-widgets/controls",
          "model_name": "HTMLModel",
          "model_module_version": "1.5.0",
          "state": {
            "_dom_classes": [],
            "_model_module": "@jupyter-widgets/controls",
            "_model_module_version": "1.5.0",
            "_model_name": "HTMLModel",
            "_view_count": null,
            "_view_module": "@jupyter-widgets/controls",
            "_view_module_version": "1.5.0",
            "_view_name": "HTMLView",
            "description": "",
            "description_tooltip": null,
            "layout": "IPY_MODEL_cf7c60c34ef24369bd7b827e350ec415",
            "placeholder": "​",
            "style": "IPY_MODEL_e66d9e0709a743dda5218fbbee802aab",
            "value": " 1545/1545 [00:00&lt;00:00, 2028.17 examples/s]"
          }
        },
        "cd91ac9f8f84443593e4e776b95f9952": {
          "model_module": "@jupyter-widgets/base",
          "model_name": "LayoutModel",
          "model_module_version": "1.2.0",
          "state": {
            "_model_module": "@jupyter-widgets/base",
            "_model_module_version": "1.2.0",
            "_model_name": "LayoutModel",
            "_view_count": null,
            "_view_module": "@jupyter-widgets/base",
            "_view_module_version": "1.2.0",
            "_view_name": "LayoutView",
            "align_content": null,
            "align_items": null,
            "align_self": null,
            "border": null,
            "bottom": null,
            "display": null,
            "flex": null,
            "flex_flow": null,
            "grid_area": null,
            "grid_auto_columns": null,
            "grid_auto_flow": null,
            "grid_auto_rows": null,
            "grid_column": null,
            "grid_gap": null,
            "grid_row": null,
            "grid_template_areas": null,
            "grid_template_columns": null,
            "grid_template_rows": null,
            "height": null,
            "justify_content": null,
            "justify_items": null,
            "left": null,
            "margin": null,
            "max_height": null,
            "max_width": null,
            "min_height": null,
            "min_width": null,
            "object_fit": null,
            "object_position": null,
            "order": null,
            "overflow": null,
            "overflow_x": null,
            "overflow_y": null,
            "padding": null,
            "right": null,
            "top": null,
            "visibility": null,
            "width": null
          }
        },
        "cc5c0a27ee30480c91630e062b719470": {
          "model_module": "@jupyter-widgets/base",
          "model_name": "LayoutModel",
          "model_module_version": "1.2.0",
          "state": {
            "_model_module": "@jupyter-widgets/base",
            "_model_module_version": "1.2.0",
            "_model_name": "LayoutModel",
            "_view_count": null,
            "_view_module": "@jupyter-widgets/base",
            "_view_module_version": "1.2.0",
            "_view_name": "LayoutView",
            "align_content": null,
            "align_items": null,
            "align_self": null,
            "border": null,
            "bottom": null,
            "display": null,
            "flex": null,
            "flex_flow": null,
            "grid_area": null,
            "grid_auto_columns": null,
            "grid_auto_flow": null,
            "grid_auto_rows": null,
            "grid_column": null,
            "grid_gap": null,
            "grid_row": null,
            "grid_template_areas": null,
            "grid_template_columns": null,
            "grid_template_rows": null,
            "height": null,
            "justify_content": null,
            "justify_items": null,
            "left": null,
            "margin": null,
            "max_height": null,
            "max_width": null,
            "min_height": null,
            "min_width": null,
            "object_fit": null,
            "object_position": null,
            "order": null,
            "overflow": null,
            "overflow_x": null,
            "overflow_y": null,
            "padding": null,
            "right": null,
            "top": null,
            "visibility": null,
            "width": null
          }
        },
        "6a3bbe1d9fa34ff3a90f516fb71b7eae": {
          "model_module": "@jupyter-widgets/controls",
          "model_name": "DescriptionStyleModel",
          "model_module_version": "1.5.0",
          "state": {
            "_model_module": "@jupyter-widgets/controls",
            "_model_module_version": "1.5.0",
            "_model_name": "DescriptionStyleModel",
            "_view_count": null,
            "_view_module": "@jupyter-widgets/base",
            "_view_module_version": "1.2.0",
            "_view_name": "StyleView",
            "description_width": ""
          }
        },
        "57cec80d53f24528a7b51e33466bfff0": {
          "model_module": "@jupyter-widgets/base",
          "model_name": "LayoutModel",
          "model_module_version": "1.2.0",
          "state": {
            "_model_module": "@jupyter-widgets/base",
            "_model_module_version": "1.2.0",
            "_model_name": "LayoutModel",
            "_view_count": null,
            "_view_module": "@jupyter-widgets/base",
            "_view_module_version": "1.2.0",
            "_view_name": "LayoutView",
            "align_content": null,
            "align_items": null,
            "align_self": null,
            "border": null,
            "bottom": null,
            "display": null,
            "flex": null,
            "flex_flow": null,
            "grid_area": null,
            "grid_auto_columns": null,
            "grid_auto_flow": null,
            "grid_auto_rows": null,
            "grid_column": null,
            "grid_gap": null,
            "grid_row": null,
            "grid_template_areas": null,
            "grid_template_columns": null,
            "grid_template_rows": null,
            "height": null,
            "justify_content": null,
            "justify_items": null,
            "left": null,
            "margin": null,
            "max_height": null,
            "max_width": null,
            "min_height": null,
            "min_width": null,
            "object_fit": null,
            "object_position": null,
            "order": null,
            "overflow": null,
            "overflow_x": null,
            "overflow_y": null,
            "padding": null,
            "right": null,
            "top": null,
            "visibility": null,
            "width": null
          }
        },
        "10d45ac150d0433ba185b9c4882ff669": {
          "model_module": "@jupyter-widgets/controls",
          "model_name": "ProgressStyleModel",
          "model_module_version": "1.5.0",
          "state": {
            "_model_module": "@jupyter-widgets/controls",
            "_model_module_version": "1.5.0",
            "_model_name": "ProgressStyleModel",
            "_view_count": null,
            "_view_module": "@jupyter-widgets/base",
            "_view_module_version": "1.2.0",
            "_view_name": "StyleView",
            "bar_color": null,
            "description_width": ""
          }
        },
        "cf7c60c34ef24369bd7b827e350ec415": {
          "model_module": "@jupyter-widgets/base",
          "model_name": "LayoutModel",
          "model_module_version": "1.2.0",
          "state": {
            "_model_module": "@jupyter-widgets/base",
            "_model_module_version": "1.2.0",
            "_model_name": "LayoutModel",
            "_view_count": null,
            "_view_module": "@jupyter-widgets/base",
            "_view_module_version": "1.2.0",
            "_view_name": "LayoutView",
            "align_content": null,
            "align_items": null,
            "align_self": null,
            "border": null,
            "bottom": null,
            "display": null,
            "flex": null,
            "flex_flow": null,
            "grid_area": null,
            "grid_auto_columns": null,
            "grid_auto_flow": null,
            "grid_auto_rows": null,
            "grid_column": null,
            "grid_gap": null,
            "grid_row": null,
            "grid_template_areas": null,
            "grid_template_columns": null,
            "grid_template_rows": null,
            "height": null,
            "justify_content": null,
            "justify_items": null,
            "left": null,
            "margin": null,
            "max_height": null,
            "max_width": null,
            "min_height": null,
            "min_width": null,
            "object_fit": null,
            "object_position": null,
            "order": null,
            "overflow": null,
            "overflow_x": null,
            "overflow_y": null,
            "padding": null,
            "right": null,
            "top": null,
            "visibility": null,
            "width": null
          }
        },
        "e66d9e0709a743dda5218fbbee802aab": {
          "model_module": "@jupyter-widgets/controls",
          "model_name": "DescriptionStyleModel",
          "model_module_version": "1.5.0",
          "state": {
            "_model_module": "@jupyter-widgets/controls",
            "_model_module_version": "1.5.0",
            "_model_name": "DescriptionStyleModel",
            "_view_count": null,
            "_view_module": "@jupyter-widgets/base",
            "_view_module_version": "1.2.0",
            "_view_name": "StyleView",
            "description_width": ""
          }
        },
        "927b7f143e6f444184ed7616bd4015fb": {
          "model_module": "@jupyter-widgets/controls",
          "model_name": "HBoxModel",
          "model_module_version": "1.5.0",
          "state": {
            "_dom_classes": [],
            "_model_module": "@jupyter-widgets/controls",
            "_model_module_version": "1.5.0",
            "_model_name": "HBoxModel",
            "_view_count": null,
            "_view_module": "@jupyter-widgets/controls",
            "_view_module_version": "1.5.0",
            "_view_name": "HBoxView",
            "box_style": "",
            "children": [
              "IPY_MODEL_d7a03740baef4dddac5e67835efe88fc",
              "IPY_MODEL_2c759d02f2454a57a25e7d9ec9ff61e3",
              "IPY_MODEL_17a78a5798454f7eb48c96050db1714b"
            ],
            "layout": "IPY_MODEL_9920f7de85c7400fb84372a33fb71e93"
          }
        },
        "d7a03740baef4dddac5e67835efe88fc": {
          "model_module": "@jupyter-widgets/controls",
          "model_name": "HTMLModel",
          "model_module_version": "1.5.0",
          "state": {
            "_dom_classes": [],
            "_model_module": "@jupyter-widgets/controls",
            "_model_module_version": "1.5.0",
            "_model_name": "HTMLModel",
            "_view_count": null,
            "_view_module": "@jupyter-widgets/controls",
            "_view_module_version": "1.5.0",
            "_view_name": "HTMLView",
            "description": "",
            "description_tooltip": null,
            "layout": "IPY_MODEL_268333f957704230ace8fc375dfac926",
            "placeholder": "​",
            "style": "IPY_MODEL_d3f4ad6d02404df7889ecde4c6d40f58",
            "value": "Map: 100%"
          }
        },
        "2c759d02f2454a57a25e7d9ec9ff61e3": {
          "model_module": "@jupyter-widgets/controls",
          "model_name": "FloatProgressModel",
          "model_module_version": "1.5.0",
          "state": {
            "_dom_classes": [],
            "_model_module": "@jupyter-widgets/controls",
            "_model_module_version": "1.5.0",
            "_model_name": "FloatProgressModel",
            "_view_count": null,
            "_view_module": "@jupyter-widgets/controls",
            "_view_module_version": "1.5.0",
            "_view_name": "ProgressView",
            "bar_style": "success",
            "description": "",
            "description_tooltip": null,
            "layout": "IPY_MODEL_36d38bc2dc2949e2bf5bb5424d3fcbd0",
            "max": 3259,
            "min": 0,
            "orientation": "horizontal",
            "style": "IPY_MODEL_9771eb940ad643079bffb1e9d75d1ead",
            "value": 3259
          }
        },
        "17a78a5798454f7eb48c96050db1714b": {
          "model_module": "@jupyter-widgets/controls",
          "model_name": "HTMLModel",
          "model_module_version": "1.5.0",
          "state": {
            "_dom_classes": [],
            "_model_module": "@jupyter-widgets/controls",
            "_model_module_version": "1.5.0",
            "_model_name": "HTMLModel",
            "_view_count": null,
            "_view_module": "@jupyter-widgets/controls",
            "_view_module_version": "1.5.0",
            "_view_name": "HTMLView",
            "description": "",
            "description_tooltip": null,
            "layout": "IPY_MODEL_c2e86de3148a495b946c598a4f1fbc05",
            "placeholder": "​",
            "style": "IPY_MODEL_3084d4130cd5417aa4a0b638f34667cf",
            "value": " 3259/3259 [00:00&lt;00:00, 30533.43 examples/s]"
          }
        },
        "9920f7de85c7400fb84372a33fb71e93": {
          "model_module": "@jupyter-widgets/base",
          "model_name": "LayoutModel",
          "model_module_version": "1.2.0",
          "state": {
            "_model_module": "@jupyter-widgets/base",
            "_model_module_version": "1.2.0",
            "_model_name": "LayoutModel",
            "_view_count": null,
            "_view_module": "@jupyter-widgets/base",
            "_view_module_version": "1.2.0",
            "_view_name": "LayoutView",
            "align_content": null,
            "align_items": null,
            "align_self": null,
            "border": null,
            "bottom": null,
            "display": null,
            "flex": null,
            "flex_flow": null,
            "grid_area": null,
            "grid_auto_columns": null,
            "grid_auto_flow": null,
            "grid_auto_rows": null,
            "grid_column": null,
            "grid_gap": null,
            "grid_row": null,
            "grid_template_areas": null,
            "grid_template_columns": null,
            "grid_template_rows": null,
            "height": null,
            "justify_content": null,
            "justify_items": null,
            "left": null,
            "margin": null,
            "max_height": null,
            "max_width": null,
            "min_height": null,
            "min_width": null,
            "object_fit": null,
            "object_position": null,
            "order": null,
            "overflow": null,
            "overflow_x": null,
            "overflow_y": null,
            "padding": null,
            "right": null,
            "top": null,
            "visibility": null,
            "width": null
          }
        },
        "268333f957704230ace8fc375dfac926": {
          "model_module": "@jupyter-widgets/base",
          "model_name": "LayoutModel",
          "model_module_version": "1.2.0",
          "state": {
            "_model_module": "@jupyter-widgets/base",
            "_model_module_version": "1.2.0",
            "_model_name": "LayoutModel",
            "_view_count": null,
            "_view_module": "@jupyter-widgets/base",
            "_view_module_version": "1.2.0",
            "_view_name": "LayoutView",
            "align_content": null,
            "align_items": null,
            "align_self": null,
            "border": null,
            "bottom": null,
            "display": null,
            "flex": null,
            "flex_flow": null,
            "grid_area": null,
            "grid_auto_columns": null,
            "grid_auto_flow": null,
            "grid_auto_rows": null,
            "grid_column": null,
            "grid_gap": null,
            "grid_row": null,
            "grid_template_areas": null,
            "grid_template_columns": null,
            "grid_template_rows": null,
            "height": null,
            "justify_content": null,
            "justify_items": null,
            "left": null,
            "margin": null,
            "max_height": null,
            "max_width": null,
            "min_height": null,
            "min_width": null,
            "object_fit": null,
            "object_position": null,
            "order": null,
            "overflow": null,
            "overflow_x": null,
            "overflow_y": null,
            "padding": null,
            "right": null,
            "top": null,
            "visibility": null,
            "width": null
          }
        },
        "d3f4ad6d02404df7889ecde4c6d40f58": {
          "model_module": "@jupyter-widgets/controls",
          "model_name": "DescriptionStyleModel",
          "model_module_version": "1.5.0",
          "state": {
            "_model_module": "@jupyter-widgets/controls",
            "_model_module_version": "1.5.0",
            "_model_name": "DescriptionStyleModel",
            "_view_count": null,
            "_view_module": "@jupyter-widgets/base",
            "_view_module_version": "1.2.0",
            "_view_name": "StyleView",
            "description_width": ""
          }
        },
        "36d38bc2dc2949e2bf5bb5424d3fcbd0": {
          "model_module": "@jupyter-widgets/base",
          "model_name": "LayoutModel",
          "model_module_version": "1.2.0",
          "state": {
            "_model_module": "@jupyter-widgets/base",
            "_model_module_version": "1.2.0",
            "_model_name": "LayoutModel",
            "_view_count": null,
            "_view_module": "@jupyter-widgets/base",
            "_view_module_version": "1.2.0",
            "_view_name": "LayoutView",
            "align_content": null,
            "align_items": null,
            "align_self": null,
            "border": null,
            "bottom": null,
            "display": null,
            "flex": null,
            "flex_flow": null,
            "grid_area": null,
            "grid_auto_columns": null,
            "grid_auto_flow": null,
            "grid_auto_rows": null,
            "grid_column": null,
            "grid_gap": null,
            "grid_row": null,
            "grid_template_areas": null,
            "grid_template_columns": null,
            "grid_template_rows": null,
            "height": null,
            "justify_content": null,
            "justify_items": null,
            "left": null,
            "margin": null,
            "max_height": null,
            "max_width": null,
            "min_height": null,
            "min_width": null,
            "object_fit": null,
            "object_position": null,
            "order": null,
            "overflow": null,
            "overflow_x": null,
            "overflow_y": null,
            "padding": null,
            "right": null,
            "top": null,
            "visibility": null,
            "width": null
          }
        },
        "9771eb940ad643079bffb1e9d75d1ead": {
          "model_module": "@jupyter-widgets/controls",
          "model_name": "ProgressStyleModel",
          "model_module_version": "1.5.0",
          "state": {
            "_model_module": "@jupyter-widgets/controls",
            "_model_module_version": "1.5.0",
            "_model_name": "ProgressStyleModel",
            "_view_count": null,
            "_view_module": "@jupyter-widgets/base",
            "_view_module_version": "1.2.0",
            "_view_name": "StyleView",
            "bar_color": null,
            "description_width": ""
          }
        },
        "c2e86de3148a495b946c598a4f1fbc05": {
          "model_module": "@jupyter-widgets/base",
          "model_name": "LayoutModel",
          "model_module_version": "1.2.0",
          "state": {
            "_model_module": "@jupyter-widgets/base",
            "_model_module_version": "1.2.0",
            "_model_name": "LayoutModel",
            "_view_count": null,
            "_view_module": "@jupyter-widgets/base",
            "_view_module_version": "1.2.0",
            "_view_name": "LayoutView",
            "align_content": null,
            "align_items": null,
            "align_self": null,
            "border": null,
            "bottom": null,
            "display": null,
            "flex": null,
            "flex_flow": null,
            "grid_area": null,
            "grid_auto_columns": null,
            "grid_auto_flow": null,
            "grid_auto_rows": null,
            "grid_column": null,
            "grid_gap": null,
            "grid_row": null,
            "grid_template_areas": null,
            "grid_template_columns": null,
            "grid_template_rows": null,
            "height": null,
            "justify_content": null,
            "justify_items": null,
            "left": null,
            "margin": null,
            "max_height": null,
            "max_width": null,
            "min_height": null,
            "min_width": null,
            "object_fit": null,
            "object_position": null,
            "order": null,
            "overflow": null,
            "overflow_x": null,
            "overflow_y": null,
            "padding": null,
            "right": null,
            "top": null,
            "visibility": null,
            "width": null
          }
        },
        "3084d4130cd5417aa4a0b638f34667cf": {
          "model_module": "@jupyter-widgets/controls",
          "model_name": "DescriptionStyleModel",
          "model_module_version": "1.5.0",
          "state": {
            "_model_module": "@jupyter-widgets/controls",
            "_model_module_version": "1.5.0",
            "_model_name": "DescriptionStyleModel",
            "_view_count": null,
            "_view_module": "@jupyter-widgets/base",
            "_view_module_version": "1.2.0",
            "_view_name": "StyleView",
            "description_width": ""
          }
        }
      }
    }
  },
  "cells": [
    {
      "cell_type": "markdown",
      "source": [
        "**<font color=\"blue\">Llama Model</font>**\n",
        "<br/>WANDB Project Link : https://wandb.ai/meghacnair96-the-university-of-texas-at-dallas/llama_emotion_detection?nw=nwusermeghacnair96"
      ],
      "metadata": {
        "id": "WC0Oze49kRXo"
      }
    },
    {
      "cell_type": "code",
      "source": [
        "# If in Colab, then import the drive module from google.colab\n",
        "if 'google.colab' in str(get_ipython()):\n",
        "  from google.colab import drive\n",
        "  # Mount the Google Drive to access files stored there\n",
        "  drive.mount('/content/drive')\n",
        "\n",
        "  # Install the latest version of torchtext library quietly without showing output\n",
        "  # !pip install torchtext -qq\n",
        "  !pip install transformers evaluate wandb datasets accelerate -U peft bitsandbytes  ## NEW LINES ##\n",
        "  basepath = '/content/drive/MyDrive/Applied NLP'\n",
        "else:\n",
        "  basepath = '/home/harpreet/Insync/google_drive_shaannorr/data'"
      ],
      "metadata": {
        "colab": {
          "base_uri": "https://localhost:8080/"
        },
        "id": "gPNGYpPnXwKD",
        "outputId": "5fcdb03f-0292-46a7-cf33-43ed4bfdd06b"
      },
      "execution_count": null,
      "outputs": [
        {
          "output_type": "stream",
          "name": "stdout",
          "text": [
            "Mounted at /content/drive\n",
            "Requirement already satisfied: transformers in /usr/local/lib/python3.10/dist-packages (4.46.2)\n",
            "Collecting evaluate\n",
            "  Downloading evaluate-0.4.3-py3-none-any.whl.metadata (9.2 kB)\n",
            "Requirement already satisfied: wandb in /usr/local/lib/python3.10/dist-packages (0.18.6)\n",
            "Collecting wandb\n",
            "  Downloading wandb-0.18.7-py3-none-manylinux_2_17_x86_64.manylinux2014_x86_64.whl.metadata (9.7 kB)\n",
            "Collecting datasets\n",
            "  Downloading datasets-3.1.0-py3-none-any.whl.metadata (20 kB)\n",
            "Requirement already satisfied: accelerate in /usr/local/lib/python3.10/dist-packages (1.1.1)\n",
            "Requirement already satisfied: peft in /usr/local/lib/python3.10/dist-packages (0.13.2)\n",
            "Collecting bitsandbytes\n",
            "  Downloading bitsandbytes-0.44.1-py3-none-manylinux_2_24_x86_64.whl.metadata (3.5 kB)\n",
            "Requirement already satisfied: filelock in /usr/local/lib/python3.10/dist-packages (from transformers) (3.16.1)\n",
            "Requirement already satisfied: huggingface-hub<1.0,>=0.23.2 in /usr/local/lib/python3.10/dist-packages (from transformers) (0.26.2)\n",
            "Requirement already satisfied: numpy>=1.17 in /usr/local/lib/python3.10/dist-packages (from transformers) (1.26.4)\n",
            "Requirement already satisfied: packaging>=20.0 in /usr/local/lib/python3.10/dist-packages (from transformers) (24.2)\n",
            "Requirement already satisfied: pyyaml>=5.1 in /usr/local/lib/python3.10/dist-packages (from transformers) (6.0.2)\n",
            "Requirement already satisfied: regex!=2019.12.17 in /usr/local/lib/python3.10/dist-packages (from transformers) (2024.9.11)\n",
            "Requirement already satisfied: requests in /usr/local/lib/python3.10/dist-packages (from transformers) (2.32.3)\n",
            "Requirement already satisfied: safetensors>=0.4.1 in /usr/local/lib/python3.10/dist-packages (from transformers) (0.4.5)\n",
            "Requirement already satisfied: tokenizers<0.21,>=0.20 in /usr/local/lib/python3.10/dist-packages (from transformers) (0.20.3)\n",
            "Requirement already satisfied: tqdm>=4.27 in /usr/local/lib/python3.10/dist-packages (from transformers) (4.66.6)\n",
            "Collecting dill (from evaluate)\n",
            "  Downloading dill-0.3.9-py3-none-any.whl.metadata (10 kB)\n",
            "Requirement already satisfied: pandas in /usr/local/lib/python3.10/dist-packages (from evaluate) (2.2.2)\n",
            "Collecting xxhash (from evaluate)\n",
            "  Downloading xxhash-3.5.0-cp310-cp310-manylinux_2_17_x86_64.manylinux2014_x86_64.whl.metadata (12 kB)\n",
            "Collecting multiprocess (from evaluate)\n",
            "  Downloading multiprocess-0.70.17-py310-none-any.whl.metadata (7.2 kB)\n",
            "Requirement already satisfied: fsspec>=2021.05.0 in /usr/local/lib/python3.10/dist-packages (from fsspec[http]>=2021.05.0->evaluate) (2024.10.0)\n",
            "Requirement already satisfied: click!=8.0.0,>=7.1 in /usr/local/lib/python3.10/dist-packages (from wandb) (8.1.7)\n",
            "Requirement already satisfied: docker-pycreds>=0.4.0 in /usr/local/lib/python3.10/dist-packages (from wandb) (0.4.0)\n",
            "Requirement already satisfied: gitpython!=3.1.29,>=1.0.0 in /usr/local/lib/python3.10/dist-packages (from wandb) (3.1.43)\n",
            "Requirement already satisfied: platformdirs in /usr/local/lib/python3.10/dist-packages (from wandb) (4.3.6)\n",
            "Requirement already satisfied: protobuf!=4.21.0,!=5.28.0,<6,>=3.19.0 in /usr/local/lib/python3.10/dist-packages (from wandb) (4.25.5)\n",
            "Requirement already satisfied: psutil>=5.0.0 in /usr/local/lib/python3.10/dist-packages (from wandb) (5.9.5)\n",
            "Requirement already satisfied: sentry-sdk>=2.0.0 in /usr/local/lib/python3.10/dist-packages (from wandb) (2.18.0)\n",
            "Requirement already satisfied: setproctitle in /usr/local/lib/python3.10/dist-packages (from wandb) (1.3.3)\n",
            "Requirement already satisfied: setuptools in /usr/local/lib/python3.10/dist-packages (from wandb) (75.1.0)\n",
            "Requirement already satisfied: typing-extensions<5,>=4.4 in /usr/local/lib/python3.10/dist-packages (from wandb) (4.12.2)\n",
            "Requirement already satisfied: pyarrow>=15.0.0 in /usr/local/lib/python3.10/dist-packages (from datasets) (17.0.0)\n",
            "Collecting dill (from evaluate)\n",
            "  Downloading dill-0.3.8-py3-none-any.whl.metadata (10 kB)\n",
            "Collecting multiprocess (from evaluate)\n",
            "  Downloading multiprocess-0.70.16-py310-none-any.whl.metadata (7.2 kB)\n",
            "Collecting fsspec>=2021.05.0 (from fsspec[http]>=2021.05.0->evaluate)\n",
            "  Downloading fsspec-2024.9.0-py3-none-any.whl.metadata (11 kB)\n",
            "Requirement already satisfied: aiohttp in /usr/local/lib/python3.10/dist-packages (from datasets) (3.10.10)\n",
            "Requirement already satisfied: torch>=1.10.0 in /usr/local/lib/python3.10/dist-packages (from accelerate) (2.5.1+cu121)\n",
            "Requirement already satisfied: six>=1.4.0 in /usr/local/lib/python3.10/dist-packages (from docker-pycreds>=0.4.0->wandb) (1.16.0)\n",
            "Requirement already satisfied: aiohappyeyeballs>=2.3.0 in /usr/local/lib/python3.10/dist-packages (from aiohttp->datasets) (2.4.3)\n",
            "Requirement already satisfied: aiosignal>=1.1.2 in /usr/local/lib/python3.10/dist-packages (from aiohttp->datasets) (1.3.1)\n",
            "Requirement already satisfied: attrs>=17.3.0 in /usr/local/lib/python3.10/dist-packages (from aiohttp->datasets) (24.2.0)\n",
            "Requirement already satisfied: frozenlist>=1.1.1 in /usr/local/lib/python3.10/dist-packages (from aiohttp->datasets) (1.5.0)\n",
            "Requirement already satisfied: multidict<7.0,>=4.5 in /usr/local/lib/python3.10/dist-packages (from aiohttp->datasets) (6.1.0)\n",
            "Requirement already satisfied: yarl<2.0,>=1.12.0 in /usr/local/lib/python3.10/dist-packages (from aiohttp->datasets) (1.17.1)\n",
            "Requirement already satisfied: async-timeout<5.0,>=4.0 in /usr/local/lib/python3.10/dist-packages (from aiohttp->datasets) (4.0.3)\n",
            "Requirement already satisfied: gitdb<5,>=4.0.1 in /usr/local/lib/python3.10/dist-packages (from gitpython!=3.1.29,>=1.0.0->wandb) (4.0.11)\n",
            "Requirement already satisfied: charset-normalizer<4,>=2 in /usr/local/lib/python3.10/dist-packages (from requests->transformers) (3.4.0)\n",
            "Requirement already satisfied: idna<4,>=2.5 in /usr/local/lib/python3.10/dist-packages (from requests->transformers) (3.10)\n",
            "Requirement already satisfied: urllib3<3,>=1.21.1 in /usr/local/lib/python3.10/dist-packages (from requests->transformers) (2.2.3)\n",
            "Requirement already satisfied: certifi>=2017.4.17 in /usr/local/lib/python3.10/dist-packages (from requests->transformers) (2024.8.30)\n",
            "Requirement already satisfied: networkx in /usr/local/lib/python3.10/dist-packages (from torch>=1.10.0->accelerate) (3.4.2)\n",
            "Requirement already satisfied: jinja2 in /usr/local/lib/python3.10/dist-packages (from torch>=1.10.0->accelerate) (3.1.4)\n",
            "Requirement already satisfied: sympy==1.13.1 in /usr/local/lib/python3.10/dist-packages (from torch>=1.10.0->accelerate) (1.13.1)\n",
            "Requirement already satisfied: mpmath<1.4,>=1.1.0 in /usr/local/lib/python3.10/dist-packages (from sympy==1.13.1->torch>=1.10.0->accelerate) (1.3.0)\n",
            "Requirement already satisfied: python-dateutil>=2.8.2 in /usr/local/lib/python3.10/dist-packages (from pandas->evaluate) (2.8.2)\n",
            "Requirement already satisfied: pytz>=2020.1 in /usr/local/lib/python3.10/dist-packages (from pandas->evaluate) (2024.2)\n",
            "Requirement already satisfied: tzdata>=2022.7 in /usr/local/lib/python3.10/dist-packages (from pandas->evaluate) (2024.2)\n",
            "Requirement already satisfied: smmap<6,>=3.0.1 in /usr/local/lib/python3.10/dist-packages (from gitdb<5,>=4.0.1->gitpython!=3.1.29,>=1.0.0->wandb) (5.0.1)\n",
            "Requirement already satisfied: propcache>=0.2.0 in /usr/local/lib/python3.10/dist-packages (from yarl<2.0,>=1.12.0->aiohttp->datasets) (0.2.0)\n",
            "Requirement already satisfied: MarkupSafe>=2.0 in /usr/local/lib/python3.10/dist-packages (from jinja2->torch>=1.10.0->accelerate) (3.0.2)\n",
            "Downloading evaluate-0.4.3-py3-none-any.whl (84 kB)\n",
            "\u001b[2K   \u001b[90m━━━━━━━━━━━━━━━━━━━━━━━━━━━━━━━━━━━━━━━━\u001b[0m \u001b[32m84.0/84.0 kB\u001b[0m \u001b[31m8.4 MB/s\u001b[0m eta \u001b[36m0:00:00\u001b[0m\n",
            "\u001b[?25hDownloading wandb-0.18.7-py3-none-manylinux_2_17_x86_64.manylinux2014_x86_64.whl (16.1 MB)\n",
            "\u001b[2K   \u001b[90m━━━━━━━━━━━━━━━━━━━━━━━━━━━━━━━━━━━━━━━━\u001b[0m \u001b[32m16.1/16.1 MB\u001b[0m \u001b[31m102.0 MB/s\u001b[0m eta \u001b[36m0:00:00\u001b[0m\n",
            "\u001b[?25hDownloading datasets-3.1.0-py3-none-any.whl (480 kB)\n",
            "\u001b[2K   \u001b[90m━━━━━━━━━━━━━━━━━━━━━━━━━━━━━━━━━━━━━━━━\u001b[0m \u001b[32m480.6/480.6 kB\u001b[0m \u001b[31m43.5 MB/s\u001b[0m eta \u001b[36m0:00:00\u001b[0m\n",
            "\u001b[?25hDownloading bitsandbytes-0.44.1-py3-none-manylinux_2_24_x86_64.whl (122.4 MB)\n",
            "\u001b[2K   \u001b[90m━━━━━━━━━━━━━━━━━━━━━━━━━━━━━━━━━━━━━━━━\u001b[0m \u001b[32m122.4/122.4 MB\u001b[0m \u001b[31m18.5 MB/s\u001b[0m eta \u001b[36m0:00:00\u001b[0m\n",
            "\u001b[?25hDownloading dill-0.3.8-py3-none-any.whl (116 kB)\n",
            "\u001b[2K   \u001b[90m━━━━━━━━━━━━━━━━━━━━━━━━━━━━━━━━━━━━━━━━\u001b[0m \u001b[32m116.3/116.3 kB\u001b[0m \u001b[31m11.7 MB/s\u001b[0m eta \u001b[36m0:00:00\u001b[0m\n",
            "\u001b[?25hDownloading fsspec-2024.9.0-py3-none-any.whl (179 kB)\n",
            "\u001b[2K   \u001b[90m━━━━━━━━━━━━━━━━━━━━━━━━━━━━━━━━━━━━━━━━\u001b[0m \u001b[32m179.3/179.3 kB\u001b[0m \u001b[31m19.6 MB/s\u001b[0m eta \u001b[36m0:00:00\u001b[0m\n",
            "\u001b[?25hDownloading multiprocess-0.70.16-py310-none-any.whl (134 kB)\n",
            "\u001b[2K   \u001b[90m━━━━━━━━━━━━━━━━━━━━━━━━━━━━━━━━━━━━━━━━\u001b[0m \u001b[32m134.8/134.8 kB\u001b[0m \u001b[31m15.5 MB/s\u001b[0m eta \u001b[36m0:00:00\u001b[0m\n",
            "\u001b[?25hDownloading xxhash-3.5.0-cp310-cp310-manylinux_2_17_x86_64.manylinux2014_x86_64.whl (194 kB)\n",
            "\u001b[2K   \u001b[90m━━━━━━━━━━━━━━━━━━━━━━━━━━━━━━━━━━━━━━━━\u001b[0m \u001b[32m194.1/194.1 kB\u001b[0m \u001b[31m21.0 MB/s\u001b[0m eta \u001b[36m0:00:00\u001b[0m\n",
            "\u001b[?25hInstalling collected packages: xxhash, fsspec, dill, multiprocess, wandb, bitsandbytes, datasets, evaluate\n",
            "  Attempting uninstall: fsspec\n",
            "    Found existing installation: fsspec 2024.10.0\n",
            "    Uninstalling fsspec-2024.10.0:\n",
            "      Successfully uninstalled fsspec-2024.10.0\n",
            "  Attempting uninstall: wandb\n",
            "    Found existing installation: wandb 0.18.6\n",
            "    Uninstalling wandb-0.18.6:\n",
            "      Successfully uninstalled wandb-0.18.6\n",
            "\u001b[31mERROR: pip's dependency resolver does not currently take into account all the packages that are installed. This behaviour is the source of the following dependency conflicts.\n",
            "gcsfs 2024.10.0 requires fsspec==2024.10.0, but you have fsspec 2024.9.0 which is incompatible.\u001b[0m\u001b[31m\n",
            "\u001b[0mSuccessfully installed bitsandbytes-0.44.1 datasets-3.1.0 dill-0.3.8 evaluate-0.4.3 fsspec-2024.9.0 multiprocess-0.70.16 wandb-0.18.7 xxhash-3.5.0\n"
          ]
        }
      ]
    },
    {
      "cell_type": "code",
      "execution_count": null,
      "metadata": {
        "colab": {
          "base_uri": "https://localhost:8080/"
        },
        "id": "CxM1ZStyNR1x",
        "outputId": "8460cfd8-c71a-41cb-8a3e-b5e6a8bae28c"
      },
      "outputs": [
        {
          "output_type": "stream",
          "name": "stdout",
          "text": [
            "Reading package lists... Done\n",
            "Building dependency tree... Done\n",
            "Reading state information... Done\n",
            "The following NEW packages will be installed:\n",
            "  ninja-build\n",
            "0 upgraded, 1 newly installed, 0 to remove and 49 not upgraded.\n",
            "Need to get 111 kB of archives.\n",
            "After this operation, 358 kB of additional disk space will be used.\n",
            "Get:1 http://archive.ubuntu.com/ubuntu jammy/universe amd64 ninja-build amd64 1.10.1-1 [111 kB]\n",
            "Fetched 111 kB in 1s (124 kB/s)\n",
            "Selecting previously unselected package ninja-build.\n",
            "(Reading database ... 123629 files and directories currently installed.)\n",
            "Preparing to unpack .../ninja-build_1.10.1-1_amd64.deb ...\n",
            "Unpacking ninja-build (1.10.1-1) ...\n",
            "Setting up ninja-build (1.10.1-1) ...\n",
            "Processing triggers for man-db (2.10.2-1) ...\n"
          ]
        }
      ],
      "source": [
        "!apt-get install -y ninja-build"
      ]
    },
    {
      "cell_type": "markdown",
      "source": [
        "**<font color=\"blue\">Step 1: Import the necessary libraries</font>**"
      ],
      "metadata": {
        "id": "afIXfpgpkqyX"
      }
    },
    {
      "cell_type": "code",
      "source": [
        "# standard data science librraies for data handling and v isualization\n",
        "import matplotlib.pyplot as plt\n",
        "import numpy as np\n",
        "import pandas as pd\n",
        "from sklearn.metrics import confusion_matrix\n",
        "import matplotlib.pyplot as plt\n",
        "import seaborn as sns\n",
        "from pathlib import Path\n",
        "import re\n",
        "import gc\n",
        "import time\n",
        "\n",
        "from sklearn.preprocessing import MultiLabelBinarizer\n",
        "from sklearn.model_selection import train_test_split\n",
        "from sklearn.metrics import multilabel_confusion_matrix, precision_score, recall_score, f1_score\n",
        "import joblib\n",
        "\n",
        "import torch\n",
        "import torch.nn as nn\n",
        "import ast\n",
        "\n",
        "\n",
        "# New libraries introduced in this notebook\n",
        "import evaluate\n",
        "from datasets import load_dataset, DatasetDict, Dataset, ClassLabel\n",
        "from transformers import (\n",
        "    TrainingArguments,\n",
        "    Trainer,\n",
        "    set_seed,\n",
        "    AutoTokenizer,\n",
        "    AutoModelForSequenceClassification,\n",
        "    AutoConfig,\n",
        "    pipeline,\n",
        "    BitsAndBytesConfig,\n",
        "    DataCollatorWithPadding\n",
        ")\n",
        "from peft import (\n",
        "    TaskType,\n",
        "    LoraConfig,\n",
        "    prepare_model_for_kbit_training,\n",
        "    get_peft_model,\n",
        ")\n",
        "\n",
        "import wandb\n",
        "from google.colab import userdata\n",
        "from huggingface_hub import login\n",
        "set_seed(42)"
      ],
      "metadata": {
        "id": "6rwnNGMKNyLB"
      },
      "execution_count": null,
      "outputs": []
    },
    {
      "cell_type": "markdown",
      "source": [
        "**<font color=\"blue\">Step 2: Login to Hugging Face and WAND</font>**"
      ],
      "metadata": {
        "id": "nidDtziTlAkn"
      }
    },
    {
      "cell_type": "code",
      "source": [
        "wandb_api_key = userdata.get('WAND_API_KEY')\n",
        "hf_token = userdata.get('HF_Token')"
      ],
      "metadata": {
        "id": "ffSFAHwzOHxr"
      },
      "execution_count": null,
      "outputs": []
    },
    {
      "cell_type": "code",
      "source": [
        "if hf_token:\n",
        "    # Log in to Hugging Face\n",
        "    login(token=hf_token)\n",
        "    print(\"Successfully logged in to Hugging Face!\")\n",
        "else:\n",
        "    print(\"Hugging Face token not found in notebook secrets.\")"
      ],
      "metadata": {
        "colab": {
          "base_uri": "https://localhost:8080/"
        },
        "id": "JSHaIZtHPhg_",
        "outputId": "c4d15818-6e20-47a3-f5d9-c92d4262050b"
      },
      "execution_count": null,
      "outputs": [
        {
          "output_type": "stream",
          "name": "stdout",
          "text": [
            "Successfully logged in to Hugging Face!\n"
          ]
        }
      ]
    },
    {
      "cell_type": "code",
      "source": [
        "if wandb_api_key:\n",
        "  wandb.login(key=wandb_api_key)\n",
        "  print(\"Successfully logged in to WANDB!\")\n",
        "else:\n",
        "    print(\"WANDB key not found in notebook secrets.\")\n"
      ],
      "metadata": {
        "colab": {
          "base_uri": "https://localhost:8080/"
        },
        "id": "S3fWNQHmPi1R",
        "outputId": "c1c9f9f5-089d-4091-890b-8cafaa85feaa"
      },
      "execution_count": null,
      "outputs": [
        {
          "output_type": "stream",
          "name": "stderr",
          "text": [
            "\u001b[34m\u001b[1mwandb\u001b[0m: Using wandb-core as the SDK backend.  Please refer to https://wandb.me/wandb-core for more information.\n",
            "\u001b[34m\u001b[1mwandb\u001b[0m: W&B API key is configured. Use \u001b[1m`wandb login --relogin`\u001b[0m to force relogin\n",
            "\u001b[34m\u001b[1mwandb\u001b[0m: \u001b[33mWARNING\u001b[0m If you're specifying your api key in code, ensure this code is not shared publicly.\n",
            "\u001b[34m\u001b[1mwandb\u001b[0m: \u001b[33mWARNING\u001b[0m Consider setting the WANDB_API_KEY environment variable, or running `wandb login` from the command line.\n",
            "\u001b[34m\u001b[1mwandb\u001b[0m: Appending key for api.wandb.ai to your netrc file: /root/.netrc\n"
          ]
        },
        {
          "output_type": "stream",
          "name": "stdout",
          "text": [
            "Successfully logged in to WANDB!\n"
          ]
        }
      ]
    },
    {
      "cell_type": "code",
      "source": [
        "base_folder = Path(basepath)\n",
        "data_folder = base_folder/'data'\n",
        "model_folder = base_folder/'models'\n",
        "custom_functions = base_folder/'Codes/Custom py classes'"
      ],
      "metadata": {
        "id": "e23rjMfmPn5O"
      },
      "execution_count": null,
      "outputs": []
    },
    {
      "cell_type": "code",
      "source": [
        "base_folder\n"
      ],
      "metadata": {
        "colab": {
          "base_uri": "https://localhost:8080/"
        },
        "id": "4zNwFbz6P_xo",
        "outputId": "a177aace-0ddb-49bd-dd2a-a27a6e2542ad"
      },
      "execution_count": null,
      "outputs": [
        {
          "output_type": "execute_result",
          "data": {
            "text/plain": [
              "PosixPath('/content/drive/MyDrive/Applied NLP')"
            ]
          },
          "metadata": {},
          "execution_count": 8
        }
      ]
    },
    {
      "cell_type": "markdown",
      "source": [
        "**<font color=\"blue\">Step 3: Read data</font>**"
      ],
      "metadata": {
        "id": "mFThA-d1lC41"
      }
    },
    {
      "cell_type": "code",
      "source": [
        "traindata = pd.read_csv(data_folder/'train.csv')\n",
        "testdata = pd.read_csv(data_folder/'test.csv')"
      ],
      "metadata": {
        "id": "xYSP4VldP3dU"
      },
      "execution_count": null,
      "outputs": []
    },
    {
      "cell_type": "code",
      "source": [
        "traindata.head()\n"
      ],
      "metadata": {
        "colab": {
          "base_uri": "https://localhost:8080/",
          "height": 293
        },
        "id": "qJ7SyHKmQp9Z",
        "outputId": "afb87494-7dfe-40c4-a170-a6dcce138488"
      },
      "execution_count": null,
      "outputs": [
        {
          "output_type": "execute_result",
          "data": {
            "text/plain": [
              "           ID                                              Tweet  anger  \\\n",
              "0  2017-21441  “Worry is a down payment on a problem you may ...      0   \n",
              "1  2017-31535  Whatever you decide to do make sure it makes y...      0   \n",
              "2  2017-21068  @Max_Kellerman  it also helps that the majorit...      1   \n",
              "3  2017-31436  Accept the challenges so that you can literall...      0   \n",
              "4  2017-22195  My roommate: it's okay that we can't spell bec...      1   \n",
              "\n",
              "   anticipation  disgust  fear  joy  love  optimism  pessimism  sadness  \\\n",
              "0             1        0     0    0     0         1          0        0   \n",
              "1             0        0     0    1     1         1          0        0   \n",
              "2             0        1     0    1     0         1          0        0   \n",
              "3             0        0     0    1     0         1          0        0   \n",
              "4             0        1     0    0     0         0          0        0   \n",
              "\n",
              "   surprise  trust  \n",
              "0         0      1  \n",
              "1         0      0  \n",
              "2         0      0  \n",
              "3         0      0  \n",
              "4         0      0  "
            ],
            "text/html": [
              "\n",
              "  <div id=\"df-5b8f7136-78ff-44b4-a739-75b620619d01\" class=\"colab-df-container\">\n",
              "    <div>\n",
              "<style scoped>\n",
              "    .dataframe tbody tr th:only-of-type {\n",
              "        vertical-align: middle;\n",
              "    }\n",
              "\n",
              "    .dataframe tbody tr th {\n",
              "        vertical-align: top;\n",
              "    }\n",
              "\n",
              "    .dataframe thead th {\n",
              "        text-align: right;\n",
              "    }\n",
              "</style>\n",
              "<table border=\"1\" class=\"dataframe\">\n",
              "  <thead>\n",
              "    <tr style=\"text-align: right;\">\n",
              "      <th></th>\n",
              "      <th>ID</th>\n",
              "      <th>Tweet</th>\n",
              "      <th>anger</th>\n",
              "      <th>anticipation</th>\n",
              "      <th>disgust</th>\n",
              "      <th>fear</th>\n",
              "      <th>joy</th>\n",
              "      <th>love</th>\n",
              "      <th>optimism</th>\n",
              "      <th>pessimism</th>\n",
              "      <th>sadness</th>\n",
              "      <th>surprise</th>\n",
              "      <th>trust</th>\n",
              "    </tr>\n",
              "  </thead>\n",
              "  <tbody>\n",
              "    <tr>\n",
              "      <th>0</th>\n",
              "      <td>2017-21441</td>\n",
              "      <td>“Worry is a down payment on a problem you may ...</td>\n",
              "      <td>0</td>\n",
              "      <td>1</td>\n",
              "      <td>0</td>\n",
              "      <td>0</td>\n",
              "      <td>0</td>\n",
              "      <td>0</td>\n",
              "      <td>1</td>\n",
              "      <td>0</td>\n",
              "      <td>0</td>\n",
              "      <td>0</td>\n",
              "      <td>1</td>\n",
              "    </tr>\n",
              "    <tr>\n",
              "      <th>1</th>\n",
              "      <td>2017-31535</td>\n",
              "      <td>Whatever you decide to do make sure it makes y...</td>\n",
              "      <td>0</td>\n",
              "      <td>0</td>\n",
              "      <td>0</td>\n",
              "      <td>0</td>\n",
              "      <td>1</td>\n",
              "      <td>1</td>\n",
              "      <td>1</td>\n",
              "      <td>0</td>\n",
              "      <td>0</td>\n",
              "      <td>0</td>\n",
              "      <td>0</td>\n",
              "    </tr>\n",
              "    <tr>\n",
              "      <th>2</th>\n",
              "      <td>2017-21068</td>\n",
              "      <td>@Max_Kellerman  it also helps that the majorit...</td>\n",
              "      <td>1</td>\n",
              "      <td>0</td>\n",
              "      <td>1</td>\n",
              "      <td>0</td>\n",
              "      <td>1</td>\n",
              "      <td>0</td>\n",
              "      <td>1</td>\n",
              "      <td>0</td>\n",
              "      <td>0</td>\n",
              "      <td>0</td>\n",
              "      <td>0</td>\n",
              "    </tr>\n",
              "    <tr>\n",
              "      <th>3</th>\n",
              "      <td>2017-31436</td>\n",
              "      <td>Accept the challenges so that you can literall...</td>\n",
              "      <td>0</td>\n",
              "      <td>0</td>\n",
              "      <td>0</td>\n",
              "      <td>0</td>\n",
              "      <td>1</td>\n",
              "      <td>0</td>\n",
              "      <td>1</td>\n",
              "      <td>0</td>\n",
              "      <td>0</td>\n",
              "      <td>0</td>\n",
              "      <td>0</td>\n",
              "    </tr>\n",
              "    <tr>\n",
              "      <th>4</th>\n",
              "      <td>2017-22195</td>\n",
              "      <td>My roommate: it's okay that we can't spell bec...</td>\n",
              "      <td>1</td>\n",
              "      <td>0</td>\n",
              "      <td>1</td>\n",
              "      <td>0</td>\n",
              "      <td>0</td>\n",
              "      <td>0</td>\n",
              "      <td>0</td>\n",
              "      <td>0</td>\n",
              "      <td>0</td>\n",
              "      <td>0</td>\n",
              "      <td>0</td>\n",
              "    </tr>\n",
              "  </tbody>\n",
              "</table>\n",
              "</div>\n",
              "    <div class=\"colab-df-buttons\">\n",
              "\n",
              "  <div class=\"colab-df-container\">\n",
              "    <button class=\"colab-df-convert\" onclick=\"convertToInteractive('df-5b8f7136-78ff-44b4-a739-75b620619d01')\"\n",
              "            title=\"Convert this dataframe to an interactive table.\"\n",
              "            style=\"display:none;\">\n",
              "\n",
              "  <svg xmlns=\"http://www.w3.org/2000/svg\" height=\"24px\" viewBox=\"0 -960 960 960\">\n",
              "    <path d=\"M120-120v-720h720v720H120Zm60-500h600v-160H180v160Zm220 220h160v-160H400v160Zm0 220h160v-160H400v160ZM180-400h160v-160H180v160Zm440 0h160v-160H620v160ZM180-180h160v-160H180v160Zm440 0h160v-160H620v160Z\"/>\n",
              "  </svg>\n",
              "    </button>\n",
              "\n",
              "  <style>\n",
              "    .colab-df-container {\n",
              "      display:flex;\n",
              "      gap: 12px;\n",
              "    }\n",
              "\n",
              "    .colab-df-convert {\n",
              "      background-color: #E8F0FE;\n",
              "      border: none;\n",
              "      border-radius: 50%;\n",
              "      cursor: pointer;\n",
              "      display: none;\n",
              "      fill: #1967D2;\n",
              "      height: 32px;\n",
              "      padding: 0 0 0 0;\n",
              "      width: 32px;\n",
              "    }\n",
              "\n",
              "    .colab-df-convert:hover {\n",
              "      background-color: #E2EBFA;\n",
              "      box-shadow: 0px 1px 2px rgba(60, 64, 67, 0.3), 0px 1px 3px 1px rgba(60, 64, 67, 0.15);\n",
              "      fill: #174EA6;\n",
              "    }\n",
              "\n",
              "    .colab-df-buttons div {\n",
              "      margin-bottom: 4px;\n",
              "    }\n",
              "\n",
              "    [theme=dark] .colab-df-convert {\n",
              "      background-color: #3B4455;\n",
              "      fill: #D2E3FC;\n",
              "    }\n",
              "\n",
              "    [theme=dark] .colab-df-convert:hover {\n",
              "      background-color: #434B5C;\n",
              "      box-shadow: 0px 1px 3px 1px rgba(0, 0, 0, 0.15);\n",
              "      filter: drop-shadow(0px 1px 2px rgba(0, 0, 0, 0.3));\n",
              "      fill: #FFFFFF;\n",
              "    }\n",
              "  </style>\n",
              "\n",
              "    <script>\n",
              "      const buttonEl =\n",
              "        document.querySelector('#df-5b8f7136-78ff-44b4-a739-75b620619d01 button.colab-df-convert');\n",
              "      buttonEl.style.display =\n",
              "        google.colab.kernel.accessAllowed ? 'block' : 'none';\n",
              "\n",
              "      async function convertToInteractive(key) {\n",
              "        const element = document.querySelector('#df-5b8f7136-78ff-44b4-a739-75b620619d01');\n",
              "        const dataTable =\n",
              "          await google.colab.kernel.invokeFunction('convertToInteractive',\n",
              "                                                    [key], {});\n",
              "        if (!dataTable) return;\n",
              "\n",
              "        const docLinkHtml = 'Like what you see? Visit the ' +\n",
              "          '<a target=\"_blank\" href=https://colab.research.google.com/notebooks/data_table.ipynb>data table notebook</a>'\n",
              "          + ' to learn more about interactive tables.';\n",
              "        element.innerHTML = '';\n",
              "        dataTable['output_type'] = 'display_data';\n",
              "        await google.colab.output.renderOutput(dataTable, element);\n",
              "        const docLink = document.createElement('div');\n",
              "        docLink.innerHTML = docLinkHtml;\n",
              "        element.appendChild(docLink);\n",
              "      }\n",
              "    </script>\n",
              "  </div>\n",
              "\n",
              "\n",
              "<div id=\"df-a6be79ba-be44-4a10-abbf-604c9a333eef\">\n",
              "  <button class=\"colab-df-quickchart\" onclick=\"quickchart('df-a6be79ba-be44-4a10-abbf-604c9a333eef')\"\n",
              "            title=\"Suggest charts\"\n",
              "            style=\"display:none;\">\n",
              "\n",
              "<svg xmlns=\"http://www.w3.org/2000/svg\" height=\"24px\"viewBox=\"0 0 24 24\"\n",
              "     width=\"24px\">\n",
              "    <g>\n",
              "        <path d=\"M19 3H5c-1.1 0-2 .9-2 2v14c0 1.1.9 2 2 2h14c1.1 0 2-.9 2-2V5c0-1.1-.9-2-2-2zM9 17H7v-7h2v7zm4 0h-2V7h2v10zm4 0h-2v-4h2v4z\"/>\n",
              "    </g>\n",
              "</svg>\n",
              "  </button>\n",
              "\n",
              "<style>\n",
              "  .colab-df-quickchart {\n",
              "      --bg-color: #E8F0FE;\n",
              "      --fill-color: #1967D2;\n",
              "      --hover-bg-color: #E2EBFA;\n",
              "      --hover-fill-color: #174EA6;\n",
              "      --disabled-fill-color: #AAA;\n",
              "      --disabled-bg-color: #DDD;\n",
              "  }\n",
              "\n",
              "  [theme=dark] .colab-df-quickchart {\n",
              "      --bg-color: #3B4455;\n",
              "      --fill-color: #D2E3FC;\n",
              "      --hover-bg-color: #434B5C;\n",
              "      --hover-fill-color: #FFFFFF;\n",
              "      --disabled-bg-color: #3B4455;\n",
              "      --disabled-fill-color: #666;\n",
              "  }\n",
              "\n",
              "  .colab-df-quickchart {\n",
              "    background-color: var(--bg-color);\n",
              "    border: none;\n",
              "    border-radius: 50%;\n",
              "    cursor: pointer;\n",
              "    display: none;\n",
              "    fill: var(--fill-color);\n",
              "    height: 32px;\n",
              "    padding: 0;\n",
              "    width: 32px;\n",
              "  }\n",
              "\n",
              "  .colab-df-quickchart:hover {\n",
              "    background-color: var(--hover-bg-color);\n",
              "    box-shadow: 0 1px 2px rgba(60, 64, 67, 0.3), 0 1px 3px 1px rgba(60, 64, 67, 0.15);\n",
              "    fill: var(--button-hover-fill-color);\n",
              "  }\n",
              "\n",
              "  .colab-df-quickchart-complete:disabled,\n",
              "  .colab-df-quickchart-complete:disabled:hover {\n",
              "    background-color: var(--disabled-bg-color);\n",
              "    fill: var(--disabled-fill-color);\n",
              "    box-shadow: none;\n",
              "  }\n",
              "\n",
              "  .colab-df-spinner {\n",
              "    border: 2px solid var(--fill-color);\n",
              "    border-color: transparent;\n",
              "    border-bottom-color: var(--fill-color);\n",
              "    animation:\n",
              "      spin 1s steps(1) infinite;\n",
              "  }\n",
              "\n",
              "  @keyframes spin {\n",
              "    0% {\n",
              "      border-color: transparent;\n",
              "      border-bottom-color: var(--fill-color);\n",
              "      border-left-color: var(--fill-color);\n",
              "    }\n",
              "    20% {\n",
              "      border-color: transparent;\n",
              "      border-left-color: var(--fill-color);\n",
              "      border-top-color: var(--fill-color);\n",
              "    }\n",
              "    30% {\n",
              "      border-color: transparent;\n",
              "      border-left-color: var(--fill-color);\n",
              "      border-top-color: var(--fill-color);\n",
              "      border-right-color: var(--fill-color);\n",
              "    }\n",
              "    40% {\n",
              "      border-color: transparent;\n",
              "      border-right-color: var(--fill-color);\n",
              "      border-top-color: var(--fill-color);\n",
              "    }\n",
              "    60% {\n",
              "      border-color: transparent;\n",
              "      border-right-color: var(--fill-color);\n",
              "    }\n",
              "    80% {\n",
              "      border-color: transparent;\n",
              "      border-right-color: var(--fill-color);\n",
              "      border-bottom-color: var(--fill-color);\n",
              "    }\n",
              "    90% {\n",
              "      border-color: transparent;\n",
              "      border-bottom-color: var(--fill-color);\n",
              "    }\n",
              "  }\n",
              "</style>\n",
              "\n",
              "  <script>\n",
              "    async function quickchart(key) {\n",
              "      const quickchartButtonEl =\n",
              "        document.querySelector('#' + key + ' button');\n",
              "      quickchartButtonEl.disabled = true;  // To prevent multiple clicks.\n",
              "      quickchartButtonEl.classList.add('colab-df-spinner');\n",
              "      try {\n",
              "        const charts = await google.colab.kernel.invokeFunction(\n",
              "            'suggestCharts', [key], {});\n",
              "      } catch (error) {\n",
              "        console.error('Error during call to suggestCharts:', error);\n",
              "      }\n",
              "      quickchartButtonEl.classList.remove('colab-df-spinner');\n",
              "      quickchartButtonEl.classList.add('colab-df-quickchart-complete');\n",
              "    }\n",
              "    (() => {\n",
              "      let quickchartButtonEl =\n",
              "        document.querySelector('#df-a6be79ba-be44-4a10-abbf-604c9a333eef button');\n",
              "      quickchartButtonEl.style.display =\n",
              "        google.colab.kernel.accessAllowed ? 'block' : 'none';\n",
              "    })();\n",
              "  </script>\n",
              "</div>\n",
              "\n",
              "    </div>\n",
              "  </div>\n"
            ],
            "application/vnd.google.colaboratory.intrinsic+json": {
              "type": "dataframe",
              "variable_name": "traindata",
              "summary": "{\n  \"name\": \"traindata\",\n  \"rows\": 7724,\n  \"fields\": [\n    {\n      \"column\": \"ID\",\n      \"properties\": {\n        \"dtype\": \"string\",\n        \"num_unique_values\": 7724,\n        \"samples\": [\n          \"2017-30250\",\n          \"2017-30519\",\n          \"2018-01720\"\n        ],\n        \"semantic_type\": \"\",\n        \"description\": \"\"\n      }\n    },\n    {\n      \"column\": \"Tweet\",\n      \"properties\": {\n        \"dtype\": \"string\",\n        \"num_unique_values\": 7724,\n        \"samples\": [\n          \"I'm due for a big change! I've prayed on it, I think I deserve it #positivity \",\n          \"incetown, age 23, joyful, elevated in hope with the\",\n          \"Never heard of #CaraCaraOranges until today. Very #tasty! I highly recommend them! #delicious #GoodForYou #fruits  #oranges\"\n        ],\n        \"semantic_type\": \"\",\n        \"description\": \"\"\n      }\n    },\n    {\n      \"column\": \"anger\",\n      \"properties\": {\n        \"dtype\": \"number\",\n        \"std\": 0,\n        \"min\": 0,\n        \"max\": 1,\n        \"num_unique_values\": 2,\n        \"samples\": [\n          1,\n          0\n        ],\n        \"semantic_type\": \"\",\n        \"description\": \"\"\n      }\n    },\n    {\n      \"column\": \"anticipation\",\n      \"properties\": {\n        \"dtype\": \"number\",\n        \"std\": 0,\n        \"min\": 0,\n        \"max\": 1,\n        \"num_unique_values\": 2,\n        \"samples\": [\n          0,\n          1\n        ],\n        \"semantic_type\": \"\",\n        \"description\": \"\"\n      }\n    },\n    {\n      \"column\": \"disgust\",\n      \"properties\": {\n        \"dtype\": \"number\",\n        \"std\": 0,\n        \"min\": 0,\n        \"max\": 1,\n        \"num_unique_values\": 2,\n        \"samples\": [\n          1,\n          0\n        ],\n        \"semantic_type\": \"\",\n        \"description\": \"\"\n      }\n    },\n    {\n      \"column\": \"fear\",\n      \"properties\": {\n        \"dtype\": \"number\",\n        \"std\": 0,\n        \"min\": 0,\n        \"max\": 1,\n        \"num_unique_values\": 2,\n        \"samples\": [\n          1,\n          0\n        ],\n        \"semantic_type\": \"\",\n        \"description\": \"\"\n      }\n    },\n    {\n      \"column\": \"joy\",\n      \"properties\": {\n        \"dtype\": \"number\",\n        \"std\": 0,\n        \"min\": 0,\n        \"max\": 1,\n        \"num_unique_values\": 2,\n        \"samples\": [\n          1,\n          0\n        ],\n        \"semantic_type\": \"\",\n        \"description\": \"\"\n      }\n    },\n    {\n      \"column\": \"love\",\n      \"properties\": {\n        \"dtype\": \"number\",\n        \"std\": 0,\n        \"min\": 0,\n        \"max\": 1,\n        \"num_unique_values\": 2,\n        \"samples\": [\n          1,\n          0\n        ],\n        \"semantic_type\": \"\",\n        \"description\": \"\"\n      }\n    },\n    {\n      \"column\": \"optimism\",\n      \"properties\": {\n        \"dtype\": \"number\",\n        \"std\": 0,\n        \"min\": 0,\n        \"max\": 1,\n        \"num_unique_values\": 2,\n        \"samples\": [\n          0,\n          1\n        ],\n        \"semantic_type\": \"\",\n        \"description\": \"\"\n      }\n    },\n    {\n      \"column\": \"pessimism\",\n      \"properties\": {\n        \"dtype\": \"number\",\n        \"std\": 0,\n        \"min\": 0,\n        \"max\": 1,\n        \"num_unique_values\": 2,\n        \"samples\": [\n          1,\n          0\n        ],\n        \"semantic_type\": \"\",\n        \"description\": \"\"\n      }\n    },\n    {\n      \"column\": \"sadness\",\n      \"properties\": {\n        \"dtype\": \"number\",\n        \"std\": 0,\n        \"min\": 0,\n        \"max\": 1,\n        \"num_unique_values\": 2,\n        \"samples\": [\n          1,\n          0\n        ],\n        \"semantic_type\": \"\",\n        \"description\": \"\"\n      }\n    },\n    {\n      \"column\": \"surprise\",\n      \"properties\": {\n        \"dtype\": \"number\",\n        \"std\": 0,\n        \"min\": 0,\n        \"max\": 1,\n        \"num_unique_values\": 2,\n        \"samples\": [\n          1,\n          0\n        ],\n        \"semantic_type\": \"\",\n        \"description\": \"\"\n      }\n    },\n    {\n      \"column\": \"trust\",\n      \"properties\": {\n        \"dtype\": \"number\",\n        \"std\": 0,\n        \"min\": 0,\n        \"max\": 1,\n        \"num_unique_values\": 2,\n        \"samples\": [\n          0,\n          1\n        ],\n        \"semantic_type\": \"\",\n        \"description\": \"\"\n      }\n    }\n  ]\n}"
            }
          },
          "metadata": {},
          "execution_count": 10
        }
      ]
    },
    {
      "cell_type": "markdown",
      "source": [
        "**<font color=\"blue\">Step 4: Since most encoder models can accept only a fixed sequence length it is important to check for the sequence length distribution</font>**"
      ],
      "metadata": {
        "id": "X1NaWCmRloBy"
      }
    },
    {
      "cell_type": "code",
      "source": [
        "import matplotlib.pyplot as plt\n",
        "\n",
        "traindata['Tweet'] =traindata['Tweet'].fillna('')\n",
        "# Calculate words per review\n",
        "traindata['words_per_tweet'] = traindata[\"Tweet\"].str.split().apply(len)\n",
        "# Plot a histogram of the 'words_per_review' column\n",
        "traindata['words_per_tweet'].hist(bins=50, edgecolor='black')\n",
        "\n",
        "# Adding labels and a title for clarity\n",
        "plt.xlabel('Number of Words')\n",
        "plt.ylabel('Frequency')\n",
        "plt.title('Distribution of Words per Tweet')\n",
        "\n",
        "# Display the plot\n",
        "plt.show()"
      ],
      "metadata": {
        "colab": {
          "base_uri": "https://localhost:8080/",
          "height": 472
        },
        "id": "FmAx6y4MmaD_",
        "outputId": "eebb26f9-1496-42be-eb1f-5692906fb526"
      },
      "execution_count": null,
      "outputs": [
        {
          "output_type": "display_data",
          "data": {
            "text/plain": [
              "<Figure size 640x480 with 1 Axes>"
            ],
            "image/png": "[encoded data removed]"
          },
          "metadata": {}
        }
      ]
    },
    {
      "cell_type": "markdown",
      "source": [
        "**<font color=\"blue\">Step 5: Split the data into training and validation sets</font>**"
      ],
      "metadata": {
        "id": "SMVXOo-qm7FN"
      }
    },
    {
      "cell_type": "code",
      "source": [
        "from sklearn.model_selection import train_test_split\n",
        "\n",
        "# Assuming your DataFrame is named df\n",
        "X = traindata['Tweet']  # Features (the text data)\n",
        "y = traindata[['anger', 'anticipation', 'disgust', 'fear', 'joy', 'love', 'optimism', 'pessimism', 'sadness', 'surprise', 'trust']]  # Labels\n",
        "\n",
        "# Splitting into 80% train and 20% validation sets\n",
        "X_train, X_val, y_train, y_val = train_test_split(X, y, test_size=0.2, random_state=42)\n",
        "\n",
        "# Combine the split sets into DataFrames if needed\n",
        "train_df = pd.DataFrame({'Tweet': X_train, **y_train})\n",
        "val_df = pd.DataFrame({'Tweet': X_val, **y_val})\n",
        "\n",
        "test_df = pd.DataFrame({'Tweet': testdata['Tweet']})\n",
        "\n"
      ],
      "metadata": {
        "id": "Qbw4ZI7pQ4pN"
      },
      "execution_count": null,
      "outputs": []
    },
    {
      "cell_type": "markdown",
      "source": [
        "**<font color=\"blue\">Step 6: Create HuggingFace datasets</font>**"
      ],
      "metadata": {
        "id": "IK5DgzJ6nMAx"
      }
    },
    {
      "cell_type": "code",
      "source": [
        "from datasets import Dataset, DatasetDict\n",
        "\n",
        "# Convert train and validation DataFrames to Hugging Face Dataset objects\n",
        "train_dataset = Dataset.from_pandas(train_df)\n",
        "valid_dataset = Dataset.from_pandas(val_df)\n",
        "\n",
        "# Now create the DatasetDict\n",
        "train_val = DatasetDict(\n",
        "    {\"train\": train_dataset, \"valid\": valid_dataset}\n",
        ")\n"
      ],
      "metadata": {
        "id": "a1Dz29ZmRAQD"
      },
      "execution_count": null,
      "outputs": []
    },
    {
      "cell_type": "markdown",
      "source": [
        "**<font color=\"blue\">Step 7: Import tokensizer and tokenize the data</font>**"
      ],
      "metadata": {
        "id": "bwG-_eC0nQb4"
      }
    },
    {
      "cell_type": "code",
      "source": [
        "def free_gpu_memory():\n",
        "    \"\"\"\n",
        "    Frees up GPU memory after CUDA out-of-memory error in Colab.\n",
        "\n",
        "    This function performs the following steps:\n",
        "    1. Deletes all PyTorch objects to clear references.\n",
        "    2. Calls garbage collection to remove unreferenced objects from memory.\n",
        "    3. Uses torch.cuda.empty_cache() to release cached GPU memory.\n",
        "    4. Waits for a moment to ensure memory is fully released.\n",
        "    \"\"\"\n",
        "    try:\n",
        "        # Delete all torch tensors to free up memory\n",
        "        for obj in list(locals().values()):\n",
        "            if torch.is_tensor(obj):\n",
        "                del obj\n",
        "\n",
        "        # Collect garbage to release any remaining unused memory\n",
        "        gc.collect()\n",
        "\n",
        "        # Empty the CUDA cache to release GPU memory\n",
        "        torch.cuda.empty_cache()\n",
        "\n",
        "        # Adding a small delay to allow memory to be fully released\n",
        "        time.sleep(2)\n",
        "\n",
        "        print(\"GPU memory has been freed.\")\n",
        "    except Exception as e:\n",
        "        print(f\"Error while freeing GPU memory: {e}\")\n"
      ],
      "metadata": {
        "id": "bwn7DxsjSp6l"
      },
      "execution_count": null,
      "outputs": []
    },
    {
      "cell_type": "code",
      "source": [
        "free_gpu_memory()"
      ],
      "metadata": {
        "colab": {
          "base_uri": "https://localhost:8080/"
        },
        "id": "ZGPifNP9StN3",
        "outputId": "be2cea79-6728-4353-ef15-e3fe695cc089"
      },
      "execution_count": null,
      "outputs": [
        {
          "output_type": "stream",
          "name": "stdout",
          "text": [
            "GPU memory has been freed.\n"
          ]
        }
      ]
    },
    {
      "cell_type": "code",
      "source": [
        "checkpoint = \"meta-llama/Llama-3.2-1B\"\n",
        "tokenizer = AutoTokenizer.from_pretrained(checkpoint)"
      ],
      "metadata": {
        "id": "1sU8U4_6S8lC"
      },
      "execution_count": null,
      "outputs": []
    },
    {
      "cell_type": "code",
      "source": [
        "tokenizer.pad_token = '<|finetune_right_pad_id|>'"
      ],
      "metadata": {
        "id": "kzLcdnTkOkhE"
      },
      "execution_count": null,
      "outputs": []
    },
    {
      "cell_type": "code",
      "source": [
        "def tokenize_fn(batch):\n",
        "    # Tokenize the text\n",
        "    tokenized_inputs = tokenizer(batch[\"Tweet\"], truncation=True,  max_length=512)\n",
        "    # Extract and format the labels as float32\n",
        "    labels = [\n",
        "        [float(batch[label][i]) for label in [\"anger\", \"anticipation\", \"disgust\", \"fear\", \"joy\",\n",
        "                                              \"love\", \"optimism\", \"pessimism\", \"sadness\",\n",
        "                                              \"surprise\", \"trust\"]]\n",
        "        for i in range(len(batch[\"Tweet\"]))\n",
        "    ]\n",
        "    # Add labels to the tokenized inputs\n",
        "    tokenized_inputs[\"labels\"] = labels\n",
        "    return tokenized_inputs\n"
      ],
      "metadata": {
        "id": "sFy1w9_fVOZo"
      },
      "execution_count": null,
      "outputs": []
    },
    {
      "cell_type": "code",
      "source": [
        "tokenized_dataset= train_val.map(tokenize_fn, batched=True)\n",
        "tokenized_dataset = tokenized_dataset.remove_columns(\n",
        "    ['Tweet','anger', 'anticipation', 'disgust', 'fear', 'joy', 'love', 'optimism', 'pessimism', 'sadness', 'surprise', 'trust']\n",
        ")\n",
        "tokenized_dataset.set_format(type='torch')\n"
      ],
      "metadata": {
        "id": "2Lgd50ihR0k8",
        "colab": {
          "base_uri": "https://localhost:8080/",
          "height": 81,
          "referenced_widgets": [
            "ec9737c6ebf74717bc5e807800b10668",
            "0ad6bd0b1e964aea88c923d5f3de4e8a",
            "269d064db8ea43bca521f3f616235b05",
            "e4c74f183c234c518bb0aa25a99c8eb2",
            "77ad2c47fa2741dd9a0d202c04453b4f",
            "f29b1131f2914756a288537509add809",
            "6e53ac0815794c32bd1ec76b2372edc8",
            "b6e72f86d1be445ba8c57532da9ef56b",
            "e1e702fa6ab14256ba18e89781315499",
            "26e703f969cc4ff09c5190656c947d24",
            "b4b555c95c62401a85635d82f221006e",
            "93b03c1c895c4a4aa85105b71984b10a",
            "3f07710528824083a4633165653109d4",
            "8411fbeaa1d6487788ee2592e4a00645",
            "ba64ba60e1d643c68dfe1ac4b7b23346",
            "3f1d237098994000b4f4a64795f65847",
            "e34fd171cf474d79b50c72150156b404",
            "786bd6d15fce4be182550ee56b0a60f5",
            "fc67818f50124537837af9587323f2ac",
            "a98e529dd6464ce78aaf2d70561ae197",
            "b1fcffb75ea444f78e69f4ad6989cc43",
            "0f77b699677546e69c544d7f1c334e7e"
          ]
        },
        "outputId": "40b57cf0-de9e-43e8-bd17-b692d8d2c868"
      },
      "execution_count": null,
      "outputs": [
        {
          "output_type": "display_data",
          "data": {
            "text/plain": [
              "Map:   0%|          | 0/6179 [00:00<?, ? examples/s]"
            ],
            "application/vnd.jupyter.widget-view+json": {
              "version_major": 2,
              "version_minor": 0,
              "model_id": "ec9737c6ebf74717bc5e807800b10668"
            }
          },
          "metadata": {}
        },
        {
          "output_type": "display_data",
          "data": {
            "text/plain": [
              "Map:   0%|          | 0/1545 [00:00<?, ? examples/s]"
            ],
            "application/vnd.jupyter.widget-view+json": {
              "version_major": 2,
              "version_minor": 0,
              "model_id": "93b03c1c895c4a4aa85105b71984b10a"
            }
          },
          "metadata": {}
        }
      ]
    },
    {
      "cell_type": "code",
      "source": [
        "tokenized_dataset"
      ],
      "metadata": {
        "id": "sHIIQtDiVy6w",
        "colab": {
          "base_uri": "https://localhost:8080/"
        },
        "outputId": "22a8ffc1-0720-4419-973c-31c134a00edb"
      },
      "execution_count": null,
      "outputs": [
        {
          "output_type": "execute_result",
          "data": {
            "text/plain": [
              "DatasetDict({\n",
              "    train: Dataset({\n",
              "        features: ['__index_level_0__', 'input_ids', 'attention_mask', 'labels'],\n",
              "        num_rows: 6179\n",
              "    })\n",
              "    valid: Dataset({\n",
              "        features: ['__index_level_0__', 'input_ids', 'attention_mask', 'labels'],\n",
              "        num_rows: 1545\n",
              "    })\n",
              "})"
            ]
          },
          "metadata": {},
          "execution_count": 88
        }
      ]
    },
    {
      "cell_type": "code",
      "source": [
        "tokenized_dataset = (tokenized_dataset\n",
        "          .map(lambda x : {\"float_label\": x[\"labels\"].to(torch.float)}, remove_columns=[\"labels\"])\n",
        "          .rename_column(\"float_label\", \"labels\"))"
      ],
      "metadata": {
        "id": "68Hwb8AoUky5",
        "colab": {
          "base_uri": "https://localhost:8080/",
          "height": 81,
          "referenced_widgets": [
            "82fa0e5679dc48ddbb5189763a69ba25",
            "ad7d573bdeeb496ba148f8ef838e5611",
            "f3a00cd982f94080acf467e6b22fb449",
            "e82646a496af400ca504bfa0dae9cb5c",
            "e973b9f828f34d8299ea7613068c37d8",
            "0c9c420c13d34ae2a9e710650d3e8d71",
            "64e1de07e4e047e3b9db1aaf656b5ee0",
            "5d9f6078c1ed474a9c4a169637c3b591",
            "4f2ec1122af84dbcb4b5e87de3ea1d2d",
            "5f0f68ab00744829ad0315ff97887ed6",
            "7b4d759b41d84d0da8defcf3f4d16dd9",
            "913490bbe1a9492c9c8eb61f624e15cf",
            "18109378fcda47399b0ae9003b924104",
            "00077a306a564a4e99fa9fc41c325117",
            "4b106401b17641749ebdd98d52a5a120",
            "cd91ac9f8f84443593e4e776b95f9952",
            "cc5c0a27ee30480c91630e062b719470",
            "6a3bbe1d9fa34ff3a90f516fb71b7eae",
            "57cec80d53f24528a7b51e33466bfff0",
            "10d45ac150d0433ba185b9c4882ff669",
            "cf7c60c34ef24369bd7b827e350ec415",
            "e66d9e0709a743dda5218fbbee802aab"
          ]
        },
        "outputId": "a615cf32-24f9-4c0a-a3a5-6cb78ac8416c"
      },
      "execution_count": null,
      "outputs": [
        {
          "output_type": "display_data",
          "data": {
            "text/plain": [
              "Map:   0%|          | 0/6179 [00:00<?, ? examples/s]"
            ],
            "application/vnd.jupyter.widget-view+json": {
              "version_major": 2,
              "version_minor": 0,
              "model_id": "82fa0e5679dc48ddbb5189763a69ba25"
            }
          },
          "metadata": {}
        },
        {
          "output_type": "display_data",
          "data": {
            "text/plain": [
              "Map:   0%|          | 0/1545 [00:00<?, ? examples/s]"
            ],
            "application/vnd.jupyter.widget-view+json": {
              "version_major": 2,
              "version_minor": 0,
              "model_id": "913490bbe1a9492c9c8eb61f624e15cf"
            }
          },
          "metadata": {}
        }
      ]
    },
    {
      "cell_type": "code",
      "source": [
        "tokenized_dataset['train']['labels'][0:3]"
      ],
      "metadata": {
        "id": "gMMPKj-eWKry",
        "colab": {
          "base_uri": "https://localhost:8080/"
        },
        "outputId": "168f693e-b884-4a83-e54d-73ec3cc0a43f"
      },
      "execution_count": null,
      "outputs": [
        {
          "output_type": "execute_result",
          "data": {
            "text/plain": [
              "tensor([[0., 1., 0., 0., 1., 0., 1., 0., 0., 0., 0.],\n",
              "        [0., 0., 0., 0., 1., 1., 1., 0., 0., 0., 0.],\n",
              "        [1., 0., 1., 1., 0., 0., 0., 0., 0., 1., 0.]])"
            ]
          },
          "metadata": {},
          "execution_count": 90
        }
      ]
    },
    {
      "cell_type": "markdown",
      "source": [
        "**<font color=\"blue\">Step 8: Check for class imbalance and then calculate the appropriate weights for each label</font>**"
      ],
      "metadata": {
        "id": "hhJIWJ6xnY9P"
      }
    },
    {
      "cell_type": "code",
      "source": [
        "# Calculate the frequency of each class (emotion)\n",
        "class_counts = traindata[['anger', 'anticipation', 'disgust', 'fear', 'joy', 'love', 'optimism', 'pessimism', 'sadness', 'surprise', 'trust']].sum()\n",
        "\n",
        "# Display the class counts to check for imbalance\n",
        "print(class_counts)\n",
        "#We can see that the class distributions are not balanced"
      ],
      "metadata": {
        "id": "vT9Cl8Brni4e",
        "colab": {
          "base_uri": "https://localhost:8080/"
        },
        "outputId": "3f84f973-63a6-483b-d7ae-25ad14ee4d52"
      },
      "execution_count": null,
      "outputs": [
        {
          "output_type": "stream",
          "name": "stdout",
          "text": [
            "anger           2859\n",
            "anticipation    1102\n",
            "disgust         2921\n",
            "fear            1363\n",
            "joy             2877\n",
            "love             832\n",
            "optimism        2291\n",
            "pessimism        895\n",
            "sadness         2273\n",
            "surprise         396\n",
            "trust            400\n",
            "dtype: int64\n"
          ]
        }
      ]
    },
    {
      "cell_type": "code",
      "source": [
        "import torch\n",
        "def calculate_pos_weights(dataset):\n",
        "    # Initialize counters for all labels\n",
        "    num_labels = len(dataset['train']['labels'][0])\n",
        "    total_positives = [0] * num_labels\n",
        "    total_negatives = [0] * num_labels\n",
        "\n",
        "    # Count positives and negatives for each label\n",
        "    for label_array in dataset['train']['labels']:\n",
        "        for i, label in enumerate(label_array):\n",
        "            if label == 1:\n",
        "                total_positives[i] += 1\n",
        "            else:\n",
        "                total_negatives[i] += 1\n",
        "\n",
        "    # Calculate pos_weight for each label\n",
        "    pos_weight = [total_negatives[i] / max(total_positives[i], 1) for i in range(num_labels)]\n",
        "    return torch.tensor(pos_weight)\n",
        "\n"
      ],
      "metadata": {
        "id": "EC2q_JjHlRy2"
      },
      "execution_count": null,
      "outputs": []
    },
    {
      "cell_type": "code",
      "source": [
        "pos_weights = calculate_pos_weights(tokenized_dataset)"
      ],
      "metadata": {
        "id": "cVwg_8J_lWEr"
      },
      "execution_count": null,
      "outputs": []
    },
    {
      "cell_type": "code",
      "source": [
        "pos_weights"
      ],
      "metadata": {
        "id": "l9zSWplAlg7I",
        "colab": {
          "base_uri": "https://localhost:8080/"
        },
        "outputId": "ec2a7354-02ef-4c73-a3f5-41c3d2af58e3"
      },
      "execution_count": null,
      "outputs": [
        {
          "output_type": "execute_result",
          "data": {
            "text/plain": [
              "tensor([ 1.7018,  6.0216,  1.6576,  4.8403,  1.6657,  8.0734,  2.3256,  7.7274,\n",
              "         2.4082, 17.9540, 19.0617])"
            ]
          },
          "metadata": {},
          "execution_count": 94
        }
      ]
    },
    {
      "cell_type": "markdown",
      "source": [
        "**<font color=\"blue\">Step 9: Import Llama for Sequence Classification</font>**"
      ],
      "metadata": {
        "id": "nAzkXEgLoVyg"
      }
    },
    {
      "cell_type": "code",
      "source": [
        "def get_appropriate_dtype():\n",
        "    if torch.cuda.is_available() and torch.cuda.get_device_capability(0) >= (8, 0):\n",
        "        return torch.bfloat16\n",
        "    return torch.float16"
      ],
      "metadata": {
        "id": "yVSvCFK-WTet"
      },
      "execution_count": null,
      "outputs": []
    },
    {
      "cell_type": "code",
      "source": [
        "torch_data_type = get_appropriate_dtype()\n",
        "torch_data_type"
      ],
      "metadata": {
        "id": "E2QhI1LPWWJO",
        "colab": {
          "base_uri": "https://localhost:8080/"
        },
        "outputId": "e65a4c8b-f1c0-4d2c-ee0f-f5a9bae01a72"
      },
      "execution_count": null,
      "outputs": [
        {
          "output_type": "execute_result",
          "data": {
            "text/plain": [
              "torch.bfloat16"
            ]
          },
          "metadata": {},
          "execution_count": 96
        }
      ]
    },
    {
      "cell_type": "code",
      "source": [
        "bnb_config = BitsAndBytesConfig(\n",
        "  load_in_4bit=True,\n",
        "  bnb_4bit_quant_type=\"nf4\",\n",
        "  bnb_4bit_use_double_quant=True,\n",
        "  bnb_4bit_compute_dtype=torch_data_type,\n",
        "  bnb_4bit_quant_storage=torch_data_type,\n",
        ")"
      ],
      "metadata": {
        "id": "rzrLO1wLWZTM"
      },
      "execution_count": null,
      "outputs": []
    },
    {
      "cell_type": "code",
      "source": [
        "model = AutoModelForSequenceClassification.from_pretrained(checkpoint,\n",
        "                                                           num_labels = 11,\n",
        "                                                           problem_type=\"multi_label_classification\",\n",
        "                                                           quantization_config=bnb_config,\n",
        "                                                           torch_dtype=torch_data_type,\n",
        "                                                           trust_remote_code=True,)\n"
      ],
      "metadata": {
        "id": "VqhX3z0BSZMY",
        "colab": {
          "base_uri": "https://localhost:8080/"
        },
        "outputId": "3637de4b-cd57-4ec8-a680-26e144fe8ba0"
      },
      "execution_count": null,
      "outputs": [
        {
          "output_type": "stream",
          "name": "stderr",
          "text": [
            "`low_cpu_mem_usage` was None, now default to True since model is quantized.\n",
            "Some weights of LlamaForSequenceClassification were not initialized from the model checkpoint at meta-llama/Llama-3.2-1B and are newly initialized: ['score.weight']\n",
            "You should probably TRAIN this model on a down-stream task to be able to use it for predictions and inference.\n"
          ]
        }
      ]
    },
    {
      "cell_type": "code",
      "source": [
        "# Get label names directly from your dataset columns\n",
        "class_names = ['anger', 'anticipation', 'disgust', 'fear', 'joy', 'love', 'optimism', 'pessimism', 'sadness', 'surprise', 'trust']\n",
        "config = AutoConfig.from_pretrained(checkpoint)\n",
        "id2label= {id_: label_ for id_, label_ in enumerate(class_names)}\n",
        "label2id = {label_: id_ for id_, label_ in enumerate(class_names)}\n",
        "config.id2label = id2label\n",
        "config.label2id = label2id\n",
        "model.config = config\n",
        "model.config.pad_token_id = tokenizer.pad_token_id\n"
      ],
      "metadata": {
        "id": "K9X8K-XDShsj"
      },
      "execution_count": null,
      "outputs": []
    },
    {
      "cell_type": "code",
      "source": [
        "model"
      ],
      "metadata": {
        "id": "6Ud_xrSzZqjv",
        "colab": {
          "base_uri": "https://localhost:8080/"
        },
        "outputId": "4ae8c167-40d1-4738-f2f7-176d2ab854d4"
      },
      "execution_count": null,
      "outputs": [
        {
          "output_type": "execute_result",
          "data": {
            "text/plain": [
              "LlamaForSequenceClassification(\n",
              "  (model): LlamaModel(\n",
              "    (embed_tokens): Embedding(128256, 2048)\n",
              "    (layers): ModuleList(\n",
              "      (0-15): 16 x LlamaDecoderLayer(\n",
              "        (self_attn): LlamaSdpaAttention(\n",
              "          (q_proj): Linear4bit(in_features=2048, out_features=2048, bias=False)\n",
              "          (k_proj): Linear4bit(in_features=2048, out_features=512, bias=False)\n",
              "          (v_proj): Linear4bit(in_features=2048, out_features=512, bias=False)\n",
              "          (o_proj): Linear4bit(in_features=2048, out_features=2048, bias=False)\n",
              "          (rotary_emb): LlamaRotaryEmbedding()\n",
              "        )\n",
              "        (mlp): LlamaMLP(\n",
              "          (gate_proj): Linear4bit(in_features=2048, out_features=8192, bias=False)\n",
              "          (up_proj): Linear4bit(in_features=2048, out_features=8192, bias=False)\n",
              "          (down_proj): Linear4bit(in_features=8192, out_features=2048, bias=False)\n",
              "          (act_fn): SiLU()\n",
              "        )\n",
              "        (input_layernorm): LlamaRMSNorm((2048,), eps=1e-05)\n",
              "        (post_attention_layernorm): LlamaRMSNorm((2048,), eps=1e-05)\n",
              "      )\n",
              "    )\n",
              "    (norm): LlamaRMSNorm((2048,), eps=1e-05)\n",
              "    (rotary_emb): LlamaRotaryEmbedding()\n",
              "  )\n",
              "  (score): Linear(in_features=2048, out_features=11, bias=False)\n",
              ")"
            ]
          },
          "metadata": {},
          "execution_count": 129
        }
      ]
    },
    {
      "cell_type": "code",
      "source": [
        "def find_linear_layers(model):\n",
        "    \"\"\"\n",
        "    Extracts the unique names of Linear layers from a model.\n",
        "\n",
        "    Args:\n",
        "    model (nn.Module): The model from which to extract Linear layer names.\n",
        "\n",
        "    Returns:\n",
        "    list: A list of unique names of Linear layers.\n",
        "    \"\"\"\n",
        "    # Convert the model's modules to string\n",
        "    model_modules = str(model.modules)\n",
        "    # Pattern to extract names of Linear layers\n",
        "    pattern = r'\\((\\w+)\\): Linear'\n",
        "    # Find all occurrences of the pattern\n",
        "    linear_layer_names = re.findall(pattern, model_modules)\n",
        "    print(linear_layer_names)\n",
        "    # Get unique names using a set, then convert back to list\n",
        "    target_modules = list(set(linear_layer_names))\n",
        "    return target_modules"
      ],
      "metadata": {
        "id": "TikedgBOZwN2"
      },
      "execution_count": null,
      "outputs": []
    },
    {
      "cell_type": "code",
      "source": [
        "find_linear_layers(model)"
      ],
      "metadata": {
        "id": "-nr226-2Zx7I",
        "colab": {
          "base_uri": "https://localhost:8080/"
        },
        "outputId": "8b8c7fd2-7c61-40c1-f23c-d065c7c1e641"
      },
      "execution_count": null,
      "outputs": [
        {
          "output_type": "stream",
          "name": "stdout",
          "text": [
            "['q_proj', 'k_proj', 'v_proj', 'o_proj', 'gate_proj', 'up_proj', 'down_proj', 'score']\n"
          ]
        },
        {
          "output_type": "execute_result",
          "data": {
            "text/plain": [
              "['up_proj',\n",
              " 'down_proj',\n",
              " 'o_proj',\n",
              " 'q_proj',\n",
              " 'score',\n",
              " 'v_proj',\n",
              " 'gate_proj',\n",
              " 'k_proj']"
            ]
          },
          "metadata": {},
          "execution_count": 131
        }
      ]
    },
    {
      "cell_type": "code",
      "source": [
        "peft_config = LoraConfig(\n",
        "    task_type=TaskType.SEQ_CLS,\n",
        "    r=128,\n",
        "    lora_alpha=256,\n",
        "    lora_dropout=0.01,\n",
        "    bias=\"all\",\n",
        "    target_modules = ['v_proj',  'q_proj',  'up_proj', 'o_proj', 'down_proj', 'gate_proj','k_proj'])\n",
        "\n",
        "lora_model = get_peft_model(model, peft_config )\n",
        "lora_model.print_trainable_parameters()"
      ],
      "metadata": {
        "id": "bsYBhbXVZ2X-",
        "colab": {
          "base_uri": "https://localhost:8080/"
        },
        "outputId": "da76c81d-d638-4b67-b2da-bf64cc78b8dd"
      },
      "execution_count": null,
      "outputs": [
        {
          "output_type": "stream",
          "name": "stdout",
          "text": [
            "trainable params: 90,200,064 || all params: 1,326,036,992 || trainable%: 6.8022\n"
          ]
        }
      ]
    },
    {
      "cell_type": "code",
      "source": [
        "lora_model"
      ],
      "metadata": {
        "id": "UyPGHzF8Z67d",
        "colab": {
          "base_uri": "https://localhost:8080/"
        },
        "outputId": "ccb64ba5-7903-4cb9-a190-3e68513f21da"
      },
      "execution_count": null,
      "outputs": [
        {
          "output_type": "execute_result",
          "data": {
            "text/plain": [
              "PeftModelForSequenceClassification(\n",
              "  (base_model): LoraModel(\n",
              "    (model): LlamaForSequenceClassification(\n",
              "      (model): LlamaModel(\n",
              "        (embed_tokens): Embedding(128256, 2048)\n",
              "        (layers): ModuleList(\n",
              "          (0-15): 16 x LlamaDecoderLayer(\n",
              "            (self_attn): LlamaSdpaAttention(\n",
              "              (q_proj): lora.Linear4bit(\n",
              "                (base_layer): Linear4bit(in_features=2048, out_features=2048, bias=False)\n",
              "                (lora_dropout): ModuleDict(\n",
              "                  (default): Dropout(p=0.01, inplace=False)\n",
              "                )\n",
              "                (lora_A): ModuleDict(\n",
              "                  (default): Linear(in_features=2048, out_features=128, bias=False)\n",
              "                )\n",
              "                (lora_B): ModuleDict(\n",
              "                  (default): Linear(in_features=128, out_features=2048, bias=False)\n",
              "                )\n",
              "                (lora_embedding_A): ParameterDict()\n",
              "                (lora_embedding_B): ParameterDict()\n",
              "                (lora_magnitude_vector): ModuleDict()\n",
              "              )\n",
              "              (k_proj): lora.Linear4bit(\n",
              "                (base_layer): Linear4bit(in_features=2048, out_features=512, bias=False)\n",
              "                (lora_dropout): ModuleDict(\n",
              "                  (default): Dropout(p=0.01, inplace=False)\n",
              "                )\n",
              "                (lora_A): ModuleDict(\n",
              "                  (default): Linear(in_features=2048, out_features=128, bias=False)\n",
              "                )\n",
              "                (lora_B): ModuleDict(\n",
              "                  (default): Linear(in_features=128, out_features=512, bias=False)\n",
              "                )\n",
              "                (lora_embedding_A): ParameterDict()\n",
              "                (lora_embedding_B): ParameterDict()\n",
              "                (lora_magnitude_vector): ModuleDict()\n",
              "              )\n",
              "              (v_proj): lora.Linear4bit(\n",
              "                (base_layer): Linear4bit(in_features=2048, out_features=512, bias=False)\n",
              "                (lora_dropout): ModuleDict(\n",
              "                  (default): Dropout(p=0.01, inplace=False)\n",
              "                )\n",
              "                (lora_A): ModuleDict(\n",
              "                  (default): Linear(in_features=2048, out_features=128, bias=False)\n",
              "                )\n",
              "                (lora_B): ModuleDict(\n",
              "                  (default): Linear(in_features=128, out_features=512, bias=False)\n",
              "                )\n",
              "                (lora_embedding_A): ParameterDict()\n",
              "                (lora_embedding_B): ParameterDict()\n",
              "                (lora_magnitude_vector): ModuleDict()\n",
              "              )\n",
              "              (o_proj): lora.Linear4bit(\n",
              "                (base_layer): Linear4bit(in_features=2048, out_features=2048, bias=False)\n",
              "                (lora_dropout): ModuleDict(\n",
              "                  (default): Dropout(p=0.01, inplace=False)\n",
              "                )\n",
              "                (lora_A): ModuleDict(\n",
              "                  (default): Linear(in_features=2048, out_features=128, bias=False)\n",
              "                )\n",
              "                (lora_B): ModuleDict(\n",
              "                  (default): Linear(in_features=128, out_features=2048, bias=False)\n",
              "                )\n",
              "                (lora_embedding_A): ParameterDict()\n",
              "                (lora_embedding_B): ParameterDict()\n",
              "                (lora_magnitude_vector): ModuleDict()\n",
              "              )\n",
              "              (rotary_emb): LlamaRotaryEmbedding()\n",
              "            )\n",
              "            (mlp): LlamaMLP(\n",
              "              (gate_proj): lora.Linear4bit(\n",
              "                (base_layer): Linear4bit(in_features=2048, out_features=8192, bias=False)\n",
              "                (lora_dropout): ModuleDict(\n",
              "                  (default): Dropout(p=0.01, inplace=False)\n",
              "                )\n",
              "                (lora_A): ModuleDict(\n",
              "                  (default): Linear(in_features=2048, out_features=128, bias=False)\n",
              "                )\n",
              "                (lora_B): ModuleDict(\n",
              "                  (default): Linear(in_features=128, out_features=8192, bias=False)\n",
              "                )\n",
              "                (lora_embedding_A): ParameterDict()\n",
              "                (lora_embedding_B): ParameterDict()\n",
              "                (lora_magnitude_vector): ModuleDict()\n",
              "              )\n",
              "              (up_proj): lora.Linear4bit(\n",
              "                (base_layer): Linear4bit(in_features=2048, out_features=8192, bias=False)\n",
              "                (lora_dropout): ModuleDict(\n",
              "                  (default): Dropout(p=0.01, inplace=False)\n",
              "                )\n",
              "                (lora_A): ModuleDict(\n",
              "                  (default): Linear(in_features=2048, out_features=128, bias=False)\n",
              "                )\n",
              "                (lora_B): ModuleDict(\n",
              "                  (default): Linear(in_features=128, out_features=8192, bias=False)\n",
              "                )\n",
              "                (lora_embedding_A): ParameterDict()\n",
              "                (lora_embedding_B): ParameterDict()\n",
              "                (lora_magnitude_vector): ModuleDict()\n",
              "              )\n",
              "              (down_proj): lora.Linear4bit(\n",
              "                (base_layer): Linear4bit(in_features=8192, out_features=2048, bias=False)\n",
              "                (lora_dropout): ModuleDict(\n",
              "                  (default): Dropout(p=0.01, inplace=False)\n",
              "                )\n",
              "                (lora_A): ModuleDict(\n",
              "                  (default): Linear(in_features=8192, out_features=128, bias=False)\n",
              "                )\n",
              "                (lora_B): ModuleDict(\n",
              "                  (default): Linear(in_features=128, out_features=2048, bias=False)\n",
              "                )\n",
              "                (lora_embedding_A): ParameterDict()\n",
              "                (lora_embedding_B): ParameterDict()\n",
              "                (lora_magnitude_vector): ModuleDict()\n",
              "              )\n",
              "              (act_fn): SiLU()\n",
              "            )\n",
              "            (input_layernorm): LlamaRMSNorm((2048,), eps=1e-05)\n",
              "            (post_attention_layernorm): LlamaRMSNorm((2048,), eps=1e-05)\n",
              "          )\n",
              "        )\n",
              "        (norm): LlamaRMSNorm((2048,), eps=1e-05)\n",
              "        (rotary_emb): LlamaRotaryEmbedding()\n",
              "      )\n",
              "      (score): ModulesToSaveWrapper(\n",
              "        (original_module): Linear(in_features=2048, out_features=11, bias=False)\n",
              "        (modules_to_save): ModuleDict(\n",
              "          (default): Linear(in_features=2048, out_features=11, bias=False)\n",
              "        )\n",
              "      )\n",
              "    )\n",
              "  )\n",
              ")"
            ]
          },
          "metadata": {},
          "execution_count": 133
        }
      ]
    },
    {
      "cell_type": "code",
      "source": [
        "for name, param in lora_model.named_parameters():\n",
        "    print(f\"{name}: {param.requires_grad}\")\n"
      ],
      "metadata": {
        "id": "8JXETPmMZ_93",
        "colab": {
          "base_uri": "https://localhost:8080/"
        },
        "outputId": "b1801cf4-6190-4741-a02f-c10b1101600f"
      },
      "execution_count": null,
      "outputs": [
        {
          "output_type": "stream",
          "name": "stdout",
          "text": [
            "base_model.model.model.embed_tokens.weight: False\n",
            "base_model.model.model.layers.0.self_attn.q_proj.base_layer.weight: False\n",
            "base_model.model.model.layers.0.self_attn.q_proj.lora_A.default.weight: True\n",
            "base_model.model.model.layers.0.self_attn.q_proj.lora_B.default.weight: True\n",
            "base_model.model.model.layers.0.self_attn.k_proj.base_layer.weight: False\n",
            "base_model.model.model.layers.0.self_attn.k_proj.lora_A.default.weight: True\n",
            "base_model.model.model.layers.0.self_attn.k_proj.lora_B.default.weight: True\n",
            "base_model.model.model.layers.0.self_attn.v_proj.base_layer.weight: False\n",
            "base_model.model.model.layers.0.self_attn.v_proj.lora_A.default.weight: True\n",
            "base_model.model.model.layers.0.self_attn.v_proj.lora_B.default.weight: True\n",
            "base_model.model.model.layers.0.self_attn.o_proj.base_layer.weight: False\n",
            "base_model.model.model.layers.0.self_attn.o_proj.lora_A.default.weight: True\n",
            "base_model.model.model.layers.0.self_attn.o_proj.lora_B.default.weight: True\n",
            "base_model.model.model.layers.0.mlp.gate_proj.base_layer.weight: False\n",
            "base_model.model.model.layers.0.mlp.gate_proj.lora_A.default.weight: True\n",
            "base_model.model.model.layers.0.mlp.gate_proj.lora_B.default.weight: True\n",
            "base_model.model.model.layers.0.mlp.up_proj.base_layer.weight: False\n",
            "base_model.model.model.layers.0.mlp.up_proj.lora_A.default.weight: True\n",
            "base_model.model.model.layers.0.mlp.up_proj.lora_B.default.weight: True\n",
            "base_model.model.model.layers.0.mlp.down_proj.base_layer.weight: False\n",
            "base_model.model.model.layers.0.mlp.down_proj.lora_A.default.weight: True\n",
            "base_model.model.model.layers.0.mlp.down_proj.lora_B.default.weight: True\n",
            "base_model.model.model.layers.0.input_layernorm.weight: False\n",
            "base_model.model.model.layers.0.post_attention_layernorm.weight: False\n",
            "base_model.model.model.layers.1.self_attn.q_proj.base_layer.weight: False\n",
            "base_model.model.model.layers.1.self_attn.q_proj.lora_A.default.weight: True\n",
            "base_model.model.model.layers.1.self_attn.q_proj.lora_B.default.weight: True\n",
            "base_model.model.model.layers.1.self_attn.k_proj.base_layer.weight: False\n",
            "base_model.model.model.layers.1.self_attn.k_proj.lora_A.default.weight: True\n",
            "base_model.model.model.layers.1.self_attn.k_proj.lora_B.default.weight: True\n",
            "base_model.model.model.layers.1.self_attn.v_proj.base_layer.weight: False\n",
            "base_model.model.model.layers.1.self_attn.v_proj.lora_A.default.weight: True\n",
            "base_model.model.model.layers.1.self_attn.v_proj.lora_B.default.weight: True\n",
            "base_model.model.model.layers.1.self_attn.o_proj.base_layer.weight: False\n",
            "base_model.model.model.layers.1.self_attn.o_proj.lora_A.default.weight: True\n",
            "base_model.model.model.layers.1.self_attn.o_proj.lora_B.default.weight: True\n",
            "base_model.model.model.layers.1.mlp.gate_proj.base_layer.weight: False\n",
            "base_model.model.model.layers.1.mlp.gate_proj.lora_A.default.weight: True\n",
            "base_model.model.model.layers.1.mlp.gate_proj.lora_B.default.weight: True\n",
            "base_model.model.model.layers.1.mlp.up_proj.base_layer.weight: False\n",
            "base_model.model.model.layers.1.mlp.up_proj.lora_A.default.weight: True\n",
            "base_model.model.model.layers.1.mlp.up_proj.lora_B.default.weight: True\n",
            "base_model.model.model.layers.1.mlp.down_proj.base_layer.weight: False\n",
            "base_model.model.model.layers.1.mlp.down_proj.lora_A.default.weight: True\n",
            "base_model.model.model.layers.1.mlp.down_proj.lora_B.default.weight: True\n",
            "base_model.model.model.layers.1.input_layernorm.weight: False\n",
            "base_model.model.model.layers.1.post_attention_layernorm.weight: False\n",
            "base_model.model.model.layers.2.self_attn.q_proj.base_layer.weight: False\n",
            "base_model.model.model.layers.2.self_attn.q_proj.lora_A.default.weight: True\n",
            "base_model.model.model.layers.2.self_attn.q_proj.lora_B.default.weight: True\n",
            "base_model.model.model.layers.2.self_attn.k_proj.base_layer.weight: False\n",
            "base_model.model.model.layers.2.self_attn.k_proj.lora_A.default.weight: True\n",
            "base_model.model.model.layers.2.self_attn.k_proj.lora_B.default.weight: True\n",
            "base_model.model.model.layers.2.self_attn.v_proj.base_layer.weight: False\n",
            "base_model.model.model.layers.2.self_attn.v_proj.lora_A.default.weight: True\n",
            "base_model.model.model.layers.2.self_attn.v_proj.lora_B.default.weight: True\n",
            "base_model.model.model.layers.2.self_attn.o_proj.base_layer.weight: False\n",
            "base_model.model.model.layers.2.self_attn.o_proj.lora_A.default.weight: True\n",
            "base_model.model.model.layers.2.self_attn.o_proj.lora_B.default.weight: True\n",
            "base_model.model.model.layers.2.mlp.gate_proj.base_layer.weight: False\n",
            "base_model.model.model.layers.2.mlp.gate_proj.lora_A.default.weight: True\n",
            "base_model.model.model.layers.2.mlp.gate_proj.lora_B.default.weight: True\n",
            "base_model.model.model.layers.2.mlp.up_proj.base_layer.weight: False\n",
            "base_model.model.model.layers.2.mlp.up_proj.lora_A.default.weight: True\n",
            "base_model.model.model.layers.2.mlp.up_proj.lora_B.default.weight: True\n",
            "base_model.model.model.layers.2.mlp.down_proj.base_layer.weight: False\n",
            "base_model.model.model.layers.2.mlp.down_proj.lora_A.default.weight: True\n",
            "base_model.model.model.layers.2.mlp.down_proj.lora_B.default.weight: True\n",
            "base_model.model.model.layers.2.input_layernorm.weight: False\n",
            "base_model.model.model.layers.2.post_attention_layernorm.weight: False\n",
            "base_model.model.model.layers.3.self_attn.q_proj.base_layer.weight: False\n",
            "base_model.model.model.layers.3.self_attn.q_proj.lora_A.default.weight: True\n",
            "base_model.model.model.layers.3.self_attn.q_proj.lora_B.default.weight: True\n",
            "base_model.model.model.layers.3.self_attn.k_proj.base_layer.weight: False\n",
            "base_model.model.model.layers.3.self_attn.k_proj.lora_A.default.weight: True\n",
            "base_model.model.model.layers.3.self_attn.k_proj.lora_B.default.weight: True\n",
            "base_model.model.model.layers.3.self_attn.v_proj.base_layer.weight: False\n",
            "base_model.model.model.layers.3.self_attn.v_proj.lora_A.default.weight: True\n",
            "base_model.model.model.layers.3.self_attn.v_proj.lora_B.default.weight: True\n",
            "base_model.model.model.layers.3.self_attn.o_proj.base_layer.weight: False\n",
            "base_model.model.model.layers.3.self_attn.o_proj.lora_A.default.weight: True\n",
            "base_model.model.model.layers.3.self_attn.o_proj.lora_B.default.weight: True\n",
            "base_model.model.model.layers.3.mlp.gate_proj.base_layer.weight: False\n",
            "base_model.model.model.layers.3.mlp.gate_proj.lora_A.default.weight: True\n",
            "base_model.model.model.layers.3.mlp.gate_proj.lora_B.default.weight: True\n",
            "base_model.model.model.layers.3.mlp.up_proj.base_layer.weight: False\n",
            "base_model.model.model.layers.3.mlp.up_proj.lora_A.default.weight: True\n",
            "base_model.model.model.layers.3.mlp.up_proj.lora_B.default.weight: True\n",
            "base_model.model.model.layers.3.mlp.down_proj.base_layer.weight: False\n",
            "base_model.model.model.layers.3.mlp.down_proj.lora_A.default.weight: True\n",
            "base_model.model.model.layers.3.mlp.down_proj.lora_B.default.weight: True\n",
            "base_model.model.model.layers.3.input_layernorm.weight: False\n",
            "base_model.model.model.layers.3.post_attention_layernorm.weight: False\n",
            "base_model.model.model.layers.4.self_attn.q_proj.base_layer.weight: False\n",
            "base_model.model.model.layers.4.self_attn.q_proj.lora_A.default.weight: True\n",
            "base_model.model.model.layers.4.self_attn.q_proj.lora_B.default.weight: True\n",
            "base_model.model.model.layers.4.self_attn.k_proj.base_layer.weight: False\n",
            "base_model.model.model.layers.4.self_attn.k_proj.lora_A.default.weight: True\n",
            "base_model.model.model.layers.4.self_attn.k_proj.lora_B.default.weight: True\n",
            "base_model.model.model.layers.4.self_attn.v_proj.base_layer.weight: False\n",
            "base_model.model.model.layers.4.self_attn.v_proj.lora_A.default.weight: True\n",
            "base_model.model.model.layers.4.self_attn.v_proj.lora_B.default.weight: True\n",
            "base_model.model.model.layers.4.self_attn.o_proj.base_layer.weight: False\n",
            "base_model.model.model.layers.4.self_attn.o_proj.lora_A.default.weight: True\n",
            "base_model.model.model.layers.4.self_attn.o_proj.lora_B.default.weight: True\n",
            "base_model.model.model.layers.4.mlp.gate_proj.base_layer.weight: False\n",
            "base_model.model.model.layers.4.mlp.gate_proj.lora_A.default.weight: True\n",
            "base_model.model.model.layers.4.mlp.gate_proj.lora_B.default.weight: True\n",
            "base_model.model.model.layers.4.mlp.up_proj.base_layer.weight: False\n",
            "base_model.model.model.layers.4.mlp.up_proj.lora_A.default.weight: True\n",
            "base_model.model.model.layers.4.mlp.up_proj.lora_B.default.weight: True\n",
            "base_model.model.model.layers.4.mlp.down_proj.base_layer.weight: False\n",
            "base_model.model.model.layers.4.mlp.down_proj.lora_A.default.weight: True\n",
            "base_model.model.model.layers.4.mlp.down_proj.lora_B.default.weight: True\n",
            "base_model.model.model.layers.4.input_layernorm.weight: False\n",
            "base_model.model.model.layers.4.post_attention_layernorm.weight: False\n",
            "base_model.model.model.layers.5.self_attn.q_proj.base_layer.weight: False\n",
            "base_model.model.model.layers.5.self_attn.q_proj.lora_A.default.weight: True\n",
            "base_model.model.model.layers.5.self_attn.q_proj.lora_B.default.weight: True\n",
            "base_model.model.model.layers.5.self_attn.k_proj.base_layer.weight: False\n",
            "base_model.model.model.layers.5.self_attn.k_proj.lora_A.default.weight: True\n",
            "base_model.model.model.layers.5.self_attn.k_proj.lora_B.default.weight: True\n",
            "base_model.model.model.layers.5.self_attn.v_proj.base_layer.weight: False\n",
            "base_model.model.model.layers.5.self_attn.v_proj.lora_A.default.weight: True\n",
            "base_model.model.model.layers.5.self_attn.v_proj.lora_B.default.weight: True\n",
            "base_model.model.model.layers.5.self_attn.o_proj.base_layer.weight: False\n",
            "base_model.model.model.layers.5.self_attn.o_proj.lora_A.default.weight: True\n",
            "base_model.model.model.layers.5.self_attn.o_proj.lora_B.default.weight: True\n",
            "base_model.model.model.layers.5.mlp.gate_proj.base_layer.weight: False\n",
            "base_model.model.model.layers.5.mlp.gate_proj.lora_A.default.weight: True\n",
            "base_model.model.model.layers.5.mlp.gate_proj.lora_B.default.weight: True\n",
            "base_model.model.model.layers.5.mlp.up_proj.base_layer.weight: False\n",
            "base_model.model.model.layers.5.mlp.up_proj.lora_A.default.weight: True\n",
            "base_model.model.model.layers.5.mlp.up_proj.lora_B.default.weight: True\n",
            "base_model.model.model.layers.5.mlp.down_proj.base_layer.weight: False\n",
            "base_model.model.model.layers.5.mlp.down_proj.lora_A.default.weight: True\n",
            "base_model.model.model.layers.5.mlp.down_proj.lora_B.default.weight: True\n",
            "base_model.model.model.layers.5.input_layernorm.weight: False\n",
            "base_model.model.model.layers.5.post_attention_layernorm.weight: False\n",
            "base_model.model.model.layers.6.self_attn.q_proj.base_layer.weight: False\n",
            "base_model.model.model.layers.6.self_attn.q_proj.lora_A.default.weight: True\n",
            "base_model.model.model.layers.6.self_attn.q_proj.lora_B.default.weight: True\n",
            "base_model.model.model.layers.6.self_attn.k_proj.base_layer.weight: False\n",
            "base_model.model.model.layers.6.self_attn.k_proj.lora_A.default.weight: True\n",
            "base_model.model.model.layers.6.self_attn.k_proj.lora_B.default.weight: True\n",
            "base_model.model.model.layers.6.self_attn.v_proj.base_layer.weight: False\n",
            "base_model.model.model.layers.6.self_attn.v_proj.lora_A.default.weight: True\n",
            "base_model.model.model.layers.6.self_attn.v_proj.lora_B.default.weight: True\n",
            "base_model.model.model.layers.6.self_attn.o_proj.base_layer.weight: False\n",
            "base_model.model.model.layers.6.self_attn.o_proj.lora_A.default.weight: True\n",
            "base_model.model.model.layers.6.self_attn.o_proj.lora_B.default.weight: True\n",
            "base_model.model.model.layers.6.mlp.gate_proj.base_layer.weight: False\n",
            "base_model.model.model.layers.6.mlp.gate_proj.lora_A.default.weight: True\n",
            "base_model.model.model.layers.6.mlp.gate_proj.lora_B.default.weight: True\n",
            "base_model.model.model.layers.6.mlp.up_proj.base_layer.weight: False\n",
            "base_model.model.model.layers.6.mlp.up_proj.lora_A.default.weight: True\n",
            "base_model.model.model.layers.6.mlp.up_proj.lora_B.default.weight: True\n",
            "base_model.model.model.layers.6.mlp.down_proj.base_layer.weight: False\n",
            "base_model.model.model.layers.6.mlp.down_proj.lora_A.default.weight: True\n",
            "base_model.model.model.layers.6.mlp.down_proj.lora_B.default.weight: True\n",
            "base_model.model.model.layers.6.input_layernorm.weight: False\n",
            "base_model.model.model.layers.6.post_attention_layernorm.weight: False\n",
            "base_model.model.model.layers.7.self_attn.q_proj.base_layer.weight: False\n",
            "base_model.model.model.layers.7.self_attn.q_proj.lora_A.default.weight: True\n",
            "base_model.model.model.layers.7.self_attn.q_proj.lora_B.default.weight: True\n",
            "base_model.model.model.layers.7.self_attn.k_proj.base_layer.weight: False\n",
            "base_model.model.model.layers.7.self_attn.k_proj.lora_A.default.weight: True\n",
            "base_model.model.model.layers.7.self_attn.k_proj.lora_B.default.weight: True\n",
            "base_model.model.model.layers.7.self_attn.v_proj.base_layer.weight: False\n",
            "base_model.model.model.layers.7.self_attn.v_proj.lora_A.default.weight: True\n",
            "base_model.model.model.layers.7.self_attn.v_proj.lora_B.default.weight: True\n",
            "base_model.model.model.layers.7.self_attn.o_proj.base_layer.weight: False\n",
            "base_model.model.model.layers.7.self_attn.o_proj.lora_A.default.weight: True\n",
            "base_model.model.model.layers.7.self_attn.o_proj.lora_B.default.weight: True\n",
            "base_model.model.model.layers.7.mlp.gate_proj.base_layer.weight: False\n",
            "base_model.model.model.layers.7.mlp.gate_proj.lora_A.default.weight: True\n",
            "base_model.model.model.layers.7.mlp.gate_proj.lora_B.default.weight: True\n",
            "base_model.model.model.layers.7.mlp.up_proj.base_layer.weight: False\n",
            "base_model.model.model.layers.7.mlp.up_proj.lora_A.default.weight: True\n",
            "base_model.model.model.layers.7.mlp.up_proj.lora_B.default.weight: True\n",
            "base_model.model.model.layers.7.mlp.down_proj.base_layer.weight: False\n",
            "base_model.model.model.layers.7.mlp.down_proj.lora_A.default.weight: True\n",
            "base_model.model.model.layers.7.mlp.down_proj.lora_B.default.weight: True\n",
            "base_model.model.model.layers.7.input_layernorm.weight: False\n",
            "base_model.model.model.layers.7.post_attention_layernorm.weight: False\n",
            "base_model.model.model.layers.8.self_attn.q_proj.base_layer.weight: False\n",
            "base_model.model.model.layers.8.self_attn.q_proj.lora_A.default.weight: True\n",
            "base_model.model.model.layers.8.self_attn.q_proj.lora_B.default.weight: True\n",
            "base_model.model.model.layers.8.self_attn.k_proj.base_layer.weight: False\n",
            "base_model.model.model.layers.8.self_attn.k_proj.lora_A.default.weight: True\n",
            "base_model.model.model.layers.8.self_attn.k_proj.lora_B.default.weight: True\n",
            "base_model.model.model.layers.8.self_attn.v_proj.base_layer.weight: False\n",
            "base_model.model.model.layers.8.self_attn.v_proj.lora_A.default.weight: True\n",
            "base_model.model.model.layers.8.self_attn.v_proj.lora_B.default.weight: True\n",
            "base_model.model.model.layers.8.self_attn.o_proj.base_layer.weight: False\n",
            "base_model.model.model.layers.8.self_attn.o_proj.lora_A.default.weight: True\n",
            "base_model.model.model.layers.8.self_attn.o_proj.lora_B.default.weight: True\n",
            "base_model.model.model.layers.8.mlp.gate_proj.base_layer.weight: False\n",
            "base_model.model.model.layers.8.mlp.gate_proj.lora_A.default.weight: True\n",
            "base_model.model.model.layers.8.mlp.gate_proj.lora_B.default.weight: True\n",
            "base_model.model.model.layers.8.mlp.up_proj.base_layer.weight: False\n",
            "base_model.model.model.layers.8.mlp.up_proj.lora_A.default.weight: True\n",
            "base_model.model.model.layers.8.mlp.up_proj.lora_B.default.weight: True\n",
            "base_model.model.model.layers.8.mlp.down_proj.base_layer.weight: False\n",
            "base_model.model.model.layers.8.mlp.down_proj.lora_A.default.weight: True\n",
            "base_model.model.model.layers.8.mlp.down_proj.lora_B.default.weight: True\n",
            "base_model.model.model.layers.8.input_layernorm.weight: False\n",
            "base_model.model.model.layers.8.post_attention_layernorm.weight: False\n",
            "base_model.model.model.layers.9.self_attn.q_proj.base_layer.weight: False\n",
            "base_model.model.model.layers.9.self_attn.q_proj.lora_A.default.weight: True\n",
            "base_model.model.model.layers.9.self_attn.q_proj.lora_B.default.weight: True\n",
            "base_model.model.model.layers.9.self_attn.k_proj.base_layer.weight: False\n",
            "base_model.model.model.layers.9.self_attn.k_proj.lora_A.default.weight: True\n",
            "base_model.model.model.layers.9.self_attn.k_proj.lora_B.default.weight: True\n",
            "base_model.model.model.layers.9.self_attn.v_proj.base_layer.weight: False\n",
            "base_model.model.model.layers.9.self_attn.v_proj.lora_A.default.weight: True\n",
            "base_model.model.model.layers.9.self_attn.v_proj.lora_B.default.weight: True\n",
            "base_model.model.model.layers.9.self_attn.o_proj.base_layer.weight: False\n",
            "base_model.model.model.layers.9.self_attn.o_proj.lora_A.default.weight: True\n",
            "base_model.model.model.layers.9.self_attn.o_proj.lora_B.default.weight: True\n",
            "base_model.model.model.layers.9.mlp.gate_proj.base_layer.weight: False\n",
            "base_model.model.model.layers.9.mlp.gate_proj.lora_A.default.weight: True\n",
            "base_model.model.model.layers.9.mlp.gate_proj.lora_B.default.weight: True\n",
            "base_model.model.model.layers.9.mlp.up_proj.base_layer.weight: False\n",
            "base_model.model.model.layers.9.mlp.up_proj.lora_A.default.weight: True\n",
            "base_model.model.model.layers.9.mlp.up_proj.lora_B.default.weight: True\n",
            "base_model.model.model.layers.9.mlp.down_proj.base_layer.weight: False\n",
            "base_model.model.model.layers.9.mlp.down_proj.lora_A.default.weight: True\n",
            "base_model.model.model.layers.9.mlp.down_proj.lora_B.default.weight: True\n",
            "base_model.model.model.layers.9.input_layernorm.weight: False\n",
            "base_model.model.model.layers.9.post_attention_layernorm.weight: False\n",
            "base_model.model.model.layers.10.self_attn.q_proj.base_layer.weight: False\n",
            "base_model.model.model.layers.10.self_attn.q_proj.lora_A.default.weight: True\n",
            "base_model.model.model.layers.10.self_attn.q_proj.lora_B.default.weight: True\n",
            "base_model.model.model.layers.10.self_attn.k_proj.base_layer.weight: False\n",
            "base_model.model.model.layers.10.self_attn.k_proj.lora_A.default.weight: True\n",
            "base_model.model.model.layers.10.self_attn.k_proj.lora_B.default.weight: True\n",
            "base_model.model.model.layers.10.self_attn.v_proj.base_layer.weight: False\n",
            "base_model.model.model.layers.10.self_attn.v_proj.lora_A.default.weight: True\n",
            "base_model.model.model.layers.10.self_attn.v_proj.lora_B.default.weight: True\n",
            "base_model.model.model.layers.10.self_attn.o_proj.base_layer.weight: False\n",
            "base_model.model.model.layers.10.self_attn.o_proj.lora_A.default.weight: True\n",
            "base_model.model.model.layers.10.self_attn.o_proj.lora_B.default.weight: True\n",
            "base_model.model.model.layers.10.mlp.gate_proj.base_layer.weight: False\n",
            "base_model.model.model.layers.10.mlp.gate_proj.lora_A.default.weight: True\n",
            "base_model.model.model.layers.10.mlp.gate_proj.lora_B.default.weight: True\n",
            "base_model.model.model.layers.10.mlp.up_proj.base_layer.weight: False\n",
            "base_model.model.model.layers.10.mlp.up_proj.lora_A.default.weight: True\n",
            "base_model.model.model.layers.10.mlp.up_proj.lora_B.default.weight: True\n",
            "base_model.model.model.layers.10.mlp.down_proj.base_layer.weight: False\n",
            "base_model.model.model.layers.10.mlp.down_proj.lora_A.default.weight: True\n",
            "base_model.model.model.layers.10.mlp.down_proj.lora_B.default.weight: True\n",
            "base_model.model.model.layers.10.input_layernorm.weight: False\n",
            "base_model.model.model.layers.10.post_attention_layernorm.weight: False\n",
            "base_model.model.model.layers.11.self_attn.q_proj.base_layer.weight: False\n",
            "base_model.model.model.layers.11.self_attn.q_proj.lora_A.default.weight: True\n",
            "base_model.model.model.layers.11.self_attn.q_proj.lora_B.default.weight: True\n",
            "base_model.model.model.layers.11.self_attn.k_proj.base_layer.weight: False\n",
            "base_model.model.model.layers.11.self_attn.k_proj.lora_A.default.weight: True\n",
            "base_model.model.model.layers.11.self_attn.k_proj.lora_B.default.weight: True\n",
            "base_model.model.model.layers.11.self_attn.v_proj.base_layer.weight: False\n",
            "base_model.model.model.layers.11.self_attn.v_proj.lora_A.default.weight: True\n",
            "base_model.model.model.layers.11.self_attn.v_proj.lora_B.default.weight: True\n",
            "base_model.model.model.layers.11.self_attn.o_proj.base_layer.weight: False\n",
            "base_model.model.model.layers.11.self_attn.o_proj.lora_A.default.weight: True\n",
            "base_model.model.model.layers.11.self_attn.o_proj.lora_B.default.weight: True\n",
            "base_model.model.model.layers.11.mlp.gate_proj.base_layer.weight: False\n",
            "base_model.model.model.layers.11.mlp.gate_proj.lora_A.default.weight: True\n",
            "base_model.model.model.layers.11.mlp.gate_proj.lora_B.default.weight: True\n",
            "base_model.model.model.layers.11.mlp.up_proj.base_layer.weight: False\n",
            "base_model.model.model.layers.11.mlp.up_proj.lora_A.default.weight: True\n",
            "base_model.model.model.layers.11.mlp.up_proj.lora_B.default.weight: True\n",
            "base_model.model.model.layers.11.mlp.down_proj.base_layer.weight: False\n",
            "base_model.model.model.layers.11.mlp.down_proj.lora_A.default.weight: True\n",
            "base_model.model.model.layers.11.mlp.down_proj.lora_B.default.weight: True\n",
            "base_model.model.model.layers.11.input_layernorm.weight: False\n",
            "base_model.model.model.layers.11.post_attention_layernorm.weight: False\n",
            "base_model.model.model.layers.12.self_attn.q_proj.base_layer.weight: False\n",
            "base_model.model.model.layers.12.self_attn.q_proj.lora_A.default.weight: True\n",
            "base_model.model.model.layers.12.self_attn.q_proj.lora_B.default.weight: True\n",
            "base_model.model.model.layers.12.self_attn.k_proj.base_layer.weight: False\n",
            "base_model.model.model.layers.12.self_attn.k_proj.lora_A.default.weight: True\n",
            "base_model.model.model.layers.12.self_attn.k_proj.lora_B.default.weight: True\n",
            "base_model.model.model.layers.12.self_attn.v_proj.base_layer.weight: False\n",
            "base_model.model.model.layers.12.self_attn.v_proj.lora_A.default.weight: True\n",
            "base_model.model.model.layers.12.self_attn.v_proj.lora_B.default.weight: True\n",
            "base_model.model.model.layers.12.self_attn.o_proj.base_layer.weight: False\n",
            "base_model.model.model.layers.12.self_attn.o_proj.lora_A.default.weight: True\n",
            "base_model.model.model.layers.12.self_attn.o_proj.lora_B.default.weight: True\n",
            "base_model.model.model.layers.12.mlp.gate_proj.base_layer.weight: False\n",
            "base_model.model.model.layers.12.mlp.gate_proj.lora_A.default.weight: True\n",
            "base_model.model.model.layers.12.mlp.gate_proj.lora_B.default.weight: True\n",
            "base_model.model.model.layers.12.mlp.up_proj.base_layer.weight: False\n",
            "base_model.model.model.layers.12.mlp.up_proj.lora_A.default.weight: True\n",
            "base_model.model.model.layers.12.mlp.up_proj.lora_B.default.weight: True\n",
            "base_model.model.model.layers.12.mlp.down_proj.base_layer.weight: False\n",
            "base_model.model.model.layers.12.mlp.down_proj.lora_A.default.weight: True\n",
            "base_model.model.model.layers.12.mlp.down_proj.lora_B.default.weight: True\n",
            "base_model.model.model.layers.12.input_layernorm.weight: False\n",
            "base_model.model.model.layers.12.post_attention_layernorm.weight: False\n",
            "base_model.model.model.layers.13.self_attn.q_proj.base_layer.weight: False\n",
            "base_model.model.model.layers.13.self_attn.q_proj.lora_A.default.weight: True\n",
            "base_model.model.model.layers.13.self_attn.q_proj.lora_B.default.weight: True\n",
            "base_model.model.model.layers.13.self_attn.k_proj.base_layer.weight: False\n",
            "base_model.model.model.layers.13.self_attn.k_proj.lora_A.default.weight: True\n",
            "base_model.model.model.layers.13.self_attn.k_proj.lora_B.default.weight: True\n",
            "base_model.model.model.layers.13.self_attn.v_proj.base_layer.weight: False\n",
            "base_model.model.model.layers.13.self_attn.v_proj.lora_A.default.weight: True\n",
            "base_model.model.model.layers.13.self_attn.v_proj.lora_B.default.weight: True\n",
            "base_model.model.model.layers.13.self_attn.o_proj.base_layer.weight: False\n",
            "base_model.model.model.layers.13.self_attn.o_proj.lora_A.default.weight: True\n",
            "base_model.model.model.layers.13.self_attn.o_proj.lora_B.default.weight: True\n",
            "base_model.model.model.layers.13.mlp.gate_proj.base_layer.weight: False\n",
            "base_model.model.model.layers.13.mlp.gate_proj.lora_A.default.weight: True\n",
            "base_model.model.model.layers.13.mlp.gate_proj.lora_B.default.weight: True\n",
            "base_model.model.model.layers.13.mlp.up_proj.base_layer.weight: False\n",
            "base_model.model.model.layers.13.mlp.up_proj.lora_A.default.weight: True\n",
            "base_model.model.model.layers.13.mlp.up_proj.lora_B.default.weight: True\n",
            "base_model.model.model.layers.13.mlp.down_proj.base_layer.weight: False\n",
            "base_model.model.model.layers.13.mlp.down_proj.lora_A.default.weight: True\n",
            "base_model.model.model.layers.13.mlp.down_proj.lora_B.default.weight: True\n",
            "base_model.model.model.layers.13.input_layernorm.weight: False\n",
            "base_model.model.model.layers.13.post_attention_layernorm.weight: False\n",
            "base_model.model.model.layers.14.self_attn.q_proj.base_layer.weight: False\n",
            "base_model.model.model.layers.14.self_attn.q_proj.lora_A.default.weight: True\n",
            "base_model.model.model.layers.14.self_attn.q_proj.lora_B.default.weight: True\n",
            "base_model.model.model.layers.14.self_attn.k_proj.base_layer.weight: False\n",
            "base_model.model.model.layers.14.self_attn.k_proj.lora_A.default.weight: True\n",
            "base_model.model.model.layers.14.self_attn.k_proj.lora_B.default.weight: True\n",
            "base_model.model.model.layers.14.self_attn.v_proj.base_layer.weight: False\n",
            "base_model.model.model.layers.14.self_attn.v_proj.lora_A.default.weight: True\n",
            "base_model.model.model.layers.14.self_attn.v_proj.lora_B.default.weight: True\n",
            "base_model.model.model.layers.14.self_attn.o_proj.base_layer.weight: False\n",
            "base_model.model.model.layers.14.self_attn.o_proj.lora_A.default.weight: True\n",
            "base_model.model.model.layers.14.self_attn.o_proj.lora_B.default.weight: True\n",
            "base_model.model.model.layers.14.mlp.gate_proj.base_layer.weight: False\n",
            "base_model.model.model.layers.14.mlp.gate_proj.lora_A.default.weight: True\n",
            "base_model.model.model.layers.14.mlp.gate_proj.lora_B.default.weight: True\n",
            "base_model.model.model.layers.14.mlp.up_proj.base_layer.weight: False\n",
            "base_model.model.model.layers.14.mlp.up_proj.lora_A.default.weight: True\n",
            "base_model.model.model.layers.14.mlp.up_proj.lora_B.default.weight: True\n",
            "base_model.model.model.layers.14.mlp.down_proj.base_layer.weight: False\n",
            "base_model.model.model.layers.14.mlp.down_proj.lora_A.default.weight: True\n",
            "base_model.model.model.layers.14.mlp.down_proj.lora_B.default.weight: True\n",
            "base_model.model.model.layers.14.input_layernorm.weight: False\n",
            "base_model.model.model.layers.14.post_attention_layernorm.weight: False\n",
            "base_model.model.model.layers.15.self_attn.q_proj.base_layer.weight: False\n",
            "base_model.model.model.layers.15.self_attn.q_proj.lora_A.default.weight: True\n",
            "base_model.model.model.layers.15.self_attn.q_proj.lora_B.default.weight: True\n",
            "base_model.model.model.layers.15.self_attn.k_proj.base_layer.weight: False\n",
            "base_model.model.model.layers.15.self_attn.k_proj.lora_A.default.weight: True\n",
            "base_model.model.model.layers.15.self_attn.k_proj.lora_B.default.weight: True\n",
            "base_model.model.model.layers.15.self_attn.v_proj.base_layer.weight: False\n",
            "base_model.model.model.layers.15.self_attn.v_proj.lora_A.default.weight: True\n",
            "base_model.model.model.layers.15.self_attn.v_proj.lora_B.default.weight: True\n",
            "base_model.model.model.layers.15.self_attn.o_proj.base_layer.weight: False\n",
            "base_model.model.model.layers.15.self_attn.o_proj.lora_A.default.weight: True\n",
            "base_model.model.model.layers.15.self_attn.o_proj.lora_B.default.weight: True\n",
            "base_model.model.model.layers.15.mlp.gate_proj.base_layer.weight: False\n",
            "base_model.model.model.layers.15.mlp.gate_proj.lora_A.default.weight: True\n",
            "base_model.model.model.layers.15.mlp.gate_proj.lora_B.default.weight: True\n",
            "base_model.model.model.layers.15.mlp.up_proj.base_layer.weight: False\n",
            "base_model.model.model.layers.15.mlp.up_proj.lora_A.default.weight: True\n",
            "base_model.model.model.layers.15.mlp.up_proj.lora_B.default.weight: True\n",
            "base_model.model.model.layers.15.mlp.down_proj.base_layer.weight: False\n",
            "base_model.model.model.layers.15.mlp.down_proj.lora_A.default.weight: True\n",
            "base_model.model.model.layers.15.mlp.down_proj.lora_B.default.weight: True\n",
            "base_model.model.model.layers.15.input_layernorm.weight: False\n",
            "base_model.model.model.layers.15.post_attention_layernorm.weight: False\n",
            "base_model.model.model.norm.weight: False\n",
            "base_model.model.score.original_module.weight: False\n",
            "base_model.model.score.modules_to_save.default.weight: True\n"
          ]
        }
      ]
    },
    {
      "cell_type": "code",
      "source": [
        "# load training metrices\n",
        "accuracy = evaluate.load('accuracy', 'multilabel')\n",
        "f1 = evaluate.load('f1','multilabel')\n",
        "accuracy_flatten = evaluate.load('accuracy')\n",
        "\n",
        "def compute_metrics(eval_pred):\n",
        "    # accuracy_metric = evaluate.load('accuracy', 'multilabel')\n",
        "\n",
        "    logits, labels = eval_pred\n",
        "    preds = (logits > 0).astype(int)\n",
        "    accuracy_label = accuracy_flatten.compute(predictions=preds.flatten(), references=labels.flatten())\n",
        "    accuracy_all = accuracy.compute(predictions=preds, references=labels)\n",
        "    f1_micro = f1.compute(predictions=preds, references=labels, average='micro')\n",
        "    f1_macro = f1.compute(predictions=preds, references=labels, average='macro')\n",
        "    return {'f1_micro':f1_micro['f1'],\n",
        "            'f1_macro':f1_macro['f1'],\n",
        "            'accuracy_label':accuracy_label['accuracy'],\n",
        "             'accuracy_all':accuracy_all['accuracy']}\n"
      ],
      "metadata": {
        "id": "iKUvGvM4Su2r"
      },
      "execution_count": null,
      "outputs": []
    },
    {
      "cell_type": "code",
      "source": [
        "# Define the directory where model checkpoints will be saved\n",
        "model_folder = Path(\"/content/llama_lora_emotion\")\n",
        "# Create the directory if it doesn't exist\n",
        "model_folder.mkdir(exist_ok=True, parents=True)\n",
        "run_name= 'llama_emotion_detection'\n",
        "\n",
        "use_fp16 = torch_data_type == torch.float16\n",
        "use_bf16 = torch_data_type == torch.bfloat16\n",
        "\n",
        "# Configure training parameters\n",
        "training_args = TrainingArguments(\n",
        "    seed = 42,\n",
        "    # Training-specific configurations\n",
        "    num_train_epochs=5,  # Total number of training epochs\n",
        "    # Number of samples per training batch for each device\n",
        "    per_device_train_batch_size=16,\n",
        "    # Number of samples per evaluation batch for each device\n",
        "    per_device_eval_batch_size=16,\n",
        "    gradient_accumulation_steps=2,\n",
        "    gradient_checkpointing=True,\n",
        "    gradient_checkpointing_kwargs={\"use_reentrant\":False},\n",
        "    # torch_empty_cache_steps=5,\n",
        "    weight_decay=0.01,  # Apply L2 regularization to prevent overfitting\n",
        "    learning_rate=1e-5,  # Step size for the optimizer during training\n",
        "    optim='adamw_torch',  # Optimizer,\n",
        "    lr_scheduler_type=\"linear\",  # Choose the scheduler type (e.g., \"linear\", \"cosine\")\n",
        "    warmup_steps=200,  # Number of steps to increase learning rate gradually before decaying\n",
        "\n",
        "    # Checkpoint saving and model evaluation settings\n",
        "    output_dir=str(model_folder),  # Directory to save model checkpoints\n",
        "    eval_strategy='steps',  # Evaluate model at specified step intervals\n",
        "    eval_steps=50,  # Perform evaluation every 10 training steps\n",
        "    save_strategy=\"steps\",  # Save model checkpoint at specified step intervals\n",
        "    save_steps=50,  # Save a model checkpoint every 10 training steps\n",
        "    load_best_model_at_end=True,  # Reload the best model at the end of training\n",
        "    save_total_limit=2,  # Retain only the best and the most recent model checkpoints\n",
        "    metric_for_best_model=\"eval_f1_macro\",\n",
        "    greater_is_better=True,  # A model is 'better' if its accuracy is higher\n",
        "    logging_strategy='steps',\n",
        "    logging_steps=50,\n",
        "    report_to='wandb',  # Log metrics and results to Weights & Biases platform\n",
        "    run_name= run_name,  # Experiment name for Weights & Biases\n",
        "\n",
        "    # Precision settings determined based on GPU capability\n",
        "    fp16=use_fp16 ,  # Set True if torch_data_type is torch.float16\n",
        "    bf16=use_bf16,  # Set True if torch_data_type is torch.bfloat16\n",
        "    tf32=False,  # Disable tf32 unless you want to use Ampere specific optimization\n",
        ")\n"
      ],
      "metadata": {
        "id": "wpYsf_hgTFB1"
      },
      "execution_count": null,
      "outputs": []
    },
    {
      "cell_type": "code",
      "source": [
        "# If gradient checkpointing is enabled, configure relevant settings\n",
        "if training_args.gradient_checkpointing:\n",
        "    lora_model.config.use_cache = False  # Disable caching for compatibility\n",
        "\n",
        "lora_model.config"
      ],
      "metadata": {
        "id": "frwKfrbDaS5p",
        "colab": {
          "base_uri": "https://localhost:8080/"
        },
        "outputId": "0ba81d42-50c1-4448-8725-8b7a863a2459"
      },
      "execution_count": null,
      "outputs": [
        {
          "output_type": "execute_result",
          "data": {
            "text/plain": [
              "LlamaConfig {\n",
              "  \"_name_or_path\": \"meta-llama/Llama-3.2-1B\",\n",
              "  \"architectures\": [\n",
              "    \"LlamaForCausalLM\"\n",
              "  ],\n",
              "  \"attention_bias\": false,\n",
              "  \"attention_dropout\": 0.0,\n",
              "  \"bos_token_id\": 128000,\n",
              "  \"eos_token_id\": 128001,\n",
              "  \"head_dim\": 64,\n",
              "  \"hidden_act\": \"silu\",\n",
              "  \"hidden_size\": 2048,\n",
              "  \"id2label\": {\n",
              "    \"0\": \"anger\",\n",
              "    \"1\": \"anticipation\",\n",
              "    \"2\": \"disgust\",\n",
              "    \"3\": \"fear\",\n",
              "    \"4\": \"joy\",\n",
              "    \"5\": \"love\",\n",
              "    \"6\": \"optimism\",\n",
              "    \"7\": \"pessimism\",\n",
              "    \"8\": \"sadness\",\n",
              "    \"9\": \"surprise\",\n",
              "    \"10\": \"trust\"\n",
              "  },\n",
              "  \"initializer_range\": 0.02,\n",
              "  \"intermediate_size\": 8192,\n",
              "  \"label2id\": {\n",
              "    \"anger\": 0,\n",
              "    \"anticipation\": 1,\n",
              "    \"disgust\": 2,\n",
              "    \"fear\": 3,\n",
              "    \"joy\": 4,\n",
              "    \"love\": 5,\n",
              "    \"optimism\": 6,\n",
              "    \"pessimism\": 7,\n",
              "    \"sadness\": 8,\n",
              "    \"surprise\": 9,\n",
              "    \"trust\": 10\n",
              "  },\n",
              "  \"max_position_embeddings\": 131072,\n",
              "  \"mlp_bias\": false,\n",
              "  \"model_type\": \"llama\",\n",
              "  \"num_attention_heads\": 32,\n",
              "  \"num_hidden_layers\": 16,\n",
              "  \"num_key_value_heads\": 8,\n",
              "  \"pad_token_id\": 128004,\n",
              "  \"pretraining_tp\": 1,\n",
              "  \"rms_norm_eps\": 1e-05,\n",
              "  \"rope_scaling\": {\n",
              "    \"factor\": 32.0,\n",
              "    \"high_freq_factor\": 4.0,\n",
              "    \"low_freq_factor\": 1.0,\n",
              "    \"original_max_position_embeddings\": 8192,\n",
              "    \"rope_type\": \"llama3\"\n",
              "  },\n",
              "  \"rope_theta\": 500000.0,\n",
              "  \"tie_word_embeddings\": true,\n",
              "  \"torch_dtype\": \"bfloat16\",\n",
              "  \"transformers_version\": \"4.46.2\",\n",
              "  \"use_cache\": false,\n",
              "  \"vocab_size\": 128256\n",
              "}"
            ]
          },
          "metadata": {},
          "execution_count": 137
        }
      ]
    },
    {
      "cell_type": "markdown",
      "source": [
        "**<font color=\"blue\">Step 10: To account for pos_weights we redefine the compute_loss function of the trainer and create a Customtrainer</font>**"
      ],
      "metadata": {
        "id": "b_k0N0NFojlw"
      }
    },
    {
      "cell_type": "code",
      "source": [
        "# initialize trainer\n",
        "class CustomTrainer(Trainer):\n",
        "    def compute_loss(self, model, inputs, return_outputs=False, num_items_in_batch=None):\n",
        "        labels = inputs.pop(\"labels\").float()  # Ensure labels are float for BCE loss\n",
        "        outputs = model(**inputs)\n",
        "        logits = outputs.get(\"logits\")\n",
        "\n",
        "        device = next(model.parameters()).device\n",
        "\n",
        "        loss_fct = nn.BCEWithLogitsLoss(pos_weight=pos_weights.to(device))\n",
        "        loss = loss_fct(logits, labels)\n",
        "\n",
        "        return (loss, outputs) if return_outputs else loss\n"
      ],
      "metadata": {
        "id": "AW_jq7qOmOnU"
      },
      "execution_count": null,
      "outputs": []
    },
    {
      "cell_type": "code",
      "source": [
        "# lora_model.config.use_cache = False\n",
        "trainer = CustomTrainer(\n",
        "    model=lora_model,\n",
        "    args=training_args,\n",
        "    train_dataset=tokenized_dataset[\"train\"],\n",
        "    eval_dataset=tokenized_dataset[\"valid\"],\n",
        "    compute_metrics=compute_metrics,\n",
        "    tokenizer=tokenizer,\n",
        ")"
      ],
      "metadata": {
        "id": "pjkVYBEwTPro",
        "colab": {
          "base_uri": "https://localhost:8080/"
        },
        "outputId": "ba5f3a68-44ad-40aa-cc03-811b54d369d2"
      },
      "execution_count": null,
      "outputs": [
        {
          "output_type": "stream",
          "name": "stderr",
          "text": [
            "<ipython-input-139-fcc51a4c04a4>:2: FutureWarning: `tokenizer` is deprecated and will be removed in version 5.0.0 for `CustomTrainer.__init__`. Use `processing_class` instead.\n",
            "  trainer = CustomTrainer(\n"
          ]
        }
      ]
    },
    {
      "cell_type": "code",
      "source": [
        "%env WANDB_PROJECT = llama_emotion_detection"
      ],
      "metadata": {
        "id": "plkmtJNcToqP",
        "colab": {
          "base_uri": "https://localhost:8080/"
        },
        "outputId": "4d2d6f99-a2d2-49cc-cd58-470ab41a3450"
      },
      "execution_count": null,
      "outputs": [
        {
          "output_type": "stream",
          "name": "stdout",
          "text": [
            "env: WANDB_PROJECT=llama_emotion_detection\n"
          ]
        }
      ]
    },
    {
      "cell_type": "code",
      "source": [
        "try:\n",
        "    # Your code that may cause a CUDA out-of-memory error\n",
        "    # Example: trainer.train() or other GPU intensive operations\n",
        "    # lora_model.config.use_cache = False\n",
        "    trainer.train()\n",
        "except RuntimeError as e:\n",
        "    if 'CUDA out of memory' in str(e):\n",
        "        print(\"CUDA out of memory error detected. Freeing GPU memory.\")\n",
        "        free_gpu_memory()\n",
        "        trainer.train()\n",
        "    else:\n",
        "        raise e\n"
      ],
      "metadata": {
        "id": "prNrNVXsTzqy",
        "colab": {
          "base_uri": "https://localhost:8080/",
          "height": 671
        },
        "outputId": "cec9d8f8-56be-4c0b-bdc8-29e564fc349d"
      },
      "execution_count": null,
      "outputs": [
        {
          "output_type": "display_data",
          "data": {
            "text/plain": [
              "<IPython.core.display.HTML object>"
            ],
            "text/html": [
              "\n",
              "    <div>\n",
              "      \n",
              "      <progress value='965' max='965' style='width:300px; height:20px; vertical-align: middle;'></progress>\n",
              "      [965/965 15:29, Epoch 4/5]\n",
              "    </div>\n",
              "    <table border=\"1\" class=\"dataframe\">\n",
              "  <thead>\n",
              " <tr style=\"text-align: left;\">\n",
              "      <th>Step</th>\n",
              "      <th>Training Loss</th>\n",
              "      <th>Validation Loss</th>\n",
              "      <th>F1 Micro</th>\n",
              "      <th>F1 Macro</th>\n",
              "      <th>Accuracy Label</th>\n",
              "      <th>Accuracy All</th>\n",
              "    </tr>\n",
              "  </thead>\n",
              "  <tbody>\n",
              "    <tr>\n",
              "      <td>50</td>\n",
              "      <td>1.470900</td>\n",
              "      <td>1.370619</td>\n",
              "      <td>0.293103</td>\n",
              "      <td>0.274047</td>\n",
              "      <td>0.478906</td>\n",
              "      <td>0.000647</td>\n",
              "    </tr>\n",
              "    <tr>\n",
              "      <td>100</td>\n",
              "      <td>1.246100</td>\n",
              "      <td>1.186354</td>\n",
              "      <td>0.352221</td>\n",
              "      <td>0.314989</td>\n",
              "      <td>0.564107</td>\n",
              "      <td>0.000647</td>\n",
              "    </tr>\n",
              "    <tr>\n",
              "      <td>150</td>\n",
              "      <td>1.104300</td>\n",
              "      <td>1.000384</td>\n",
              "      <td>0.462038</td>\n",
              "      <td>0.417082</td>\n",
              "      <td>0.648956</td>\n",
              "      <td>0.007767</td>\n",
              "    </tr>\n",
              "    <tr>\n",
              "      <td>200</td>\n",
              "      <td>0.892400</td>\n",
              "      <td>0.878963</td>\n",
              "      <td>0.519134</td>\n",
              "      <td>0.480323</td>\n",
              "      <td>0.690203</td>\n",
              "      <td>0.014239</td>\n",
              "    </tr>\n",
              "    <tr>\n",
              "      <td>250</td>\n",
              "      <td>0.790000</td>\n",
              "      <td>0.827684</td>\n",
              "      <td>0.560765</td>\n",
              "      <td>0.510509</td>\n",
              "      <td>0.745866</td>\n",
              "      <td>0.045955</td>\n",
              "    </tr>\n",
              "    <tr>\n",
              "      <td>300</td>\n",
              "      <td>0.746500</td>\n",
              "      <td>0.772091</td>\n",
              "      <td>0.575126</td>\n",
              "      <td>0.530013</td>\n",
              "      <td>0.756575</td>\n",
              "      <td>0.062136</td>\n",
              "    </tr>\n",
              "    <tr>\n",
              "      <td>350</td>\n",
              "      <td>0.686200</td>\n",
              "      <td>0.746382</td>\n",
              "      <td>0.607181</td>\n",
              "      <td>0.551997</td>\n",
              "      <td>0.782407</td>\n",
              "      <td>0.078317</td>\n",
              "    </tr>\n",
              "    <tr>\n",
              "      <td>400</td>\n",
              "      <td>0.686700</td>\n",
              "      <td>0.725703</td>\n",
              "      <td>0.608796</td>\n",
              "      <td>0.559996</td>\n",
              "      <td>0.779641</td>\n",
              "      <td>0.077670</td>\n",
              "    </tr>\n",
              "    <tr>\n",
              "      <td>450</td>\n",
              "      <td>0.599800</td>\n",
              "      <td>0.750395</td>\n",
              "      <td>0.627079</td>\n",
              "      <td>0.565404</td>\n",
              "      <td>0.800824</td>\n",
              "      <td>0.095793</td>\n",
              "    </tr>\n",
              "    <tr>\n",
              "      <td>500</td>\n",
              "      <td>0.591900</td>\n",
              "      <td>0.739894</td>\n",
              "      <td>0.611728</td>\n",
              "      <td>0.559710</td>\n",
              "      <td>0.781818</td>\n",
              "      <td>0.064078</td>\n",
              "    </tr>\n",
              "    <tr>\n",
              "      <td>550</td>\n",
              "      <td>0.596400</td>\n",
              "      <td>0.739017</td>\n",
              "      <td>0.624587</td>\n",
              "      <td>0.567347</td>\n",
              "      <td>0.792821</td>\n",
              "      <td>0.091262</td>\n",
              "    </tr>\n",
              "    <tr>\n",
              "      <td>600</td>\n",
              "      <td>0.536500</td>\n",
              "      <td>0.772880</td>\n",
              "      <td>0.638352</td>\n",
              "      <td>0.574811</td>\n",
              "      <td>0.815122</td>\n",
              "      <td>0.127508</td>\n",
              "    </tr>\n",
              "    <tr>\n",
              "      <td>650</td>\n",
              "      <td>0.492800</td>\n",
              "      <td>0.818801</td>\n",
              "      <td>0.643396</td>\n",
              "      <td>0.575351</td>\n",
              "      <td>0.819064</td>\n",
              "      <td>0.132039</td>\n",
              "    </tr>\n",
              "    <tr>\n",
              "      <td>700</td>\n",
              "      <td>0.482500</td>\n",
              "      <td>0.813644</td>\n",
              "      <td>0.649626</td>\n",
              "      <td>0.580207</td>\n",
              "      <td>0.820947</td>\n",
              "      <td>0.136570</td>\n",
              "    </tr>\n",
              "    <tr>\n",
              "      <td>750</td>\n",
              "      <td>0.469500</td>\n",
              "      <td>0.821365</td>\n",
              "      <td>0.645243</td>\n",
              "      <td>0.574846</td>\n",
              "      <td>0.818770</td>\n",
              "      <td>0.130744</td>\n",
              "    </tr>\n",
              "    <tr>\n",
              "      <td>800</td>\n",
              "      <td>0.445900</td>\n",
              "      <td>0.869456</td>\n",
              "      <td>0.651434</td>\n",
              "      <td>0.576198</td>\n",
              "      <td>0.831244</td>\n",
              "      <td>0.149515</td>\n",
              "    </tr>\n",
              "    <tr>\n",
              "      <td>850</td>\n",
              "      <td>0.405100</td>\n",
              "      <td>0.914040</td>\n",
              "      <td>0.652344</td>\n",
              "      <td>0.576284</td>\n",
              "      <td>0.827655</td>\n",
              "      <td>0.148220</td>\n",
              "    </tr>\n",
              "    <tr>\n",
              "      <td>900</td>\n",
              "      <td>0.378800</td>\n",
              "      <td>0.929502</td>\n",
              "      <td>0.648571</td>\n",
              "      <td>0.572217</td>\n",
              "      <td>0.826302</td>\n",
              "      <td>0.139159</td>\n",
              "    </tr>\n",
              "    <tr>\n",
              "      <td>950</td>\n",
              "      <td>0.385900</td>\n",
              "      <td>0.936530</td>\n",
              "      <td>0.648296</td>\n",
              "      <td>0.572256</td>\n",
              "      <td>0.825772</td>\n",
              "      <td>0.144984</td>\n",
              "    </tr>\n",
              "  </tbody>\n",
              "</table><p>"
            ]
          },
          "metadata": {}
        }
      ]
    },
    {
      "cell_type": "markdown",
      "source": [
        "**From the above training output we can see that the best F1-score is achieved at step 700, but looking at the training loss and validation loss it makes more sense to pick the model at step 500-600, as post that we can see increases in Training and validation loss increases post that. But since our aim is to get the best f1 and the evaluation is based on f1 lets pick the model at 700. Further changes to hyper parameters like learning rate and weight decay can be adjusted to get consistent and better results in future.**"
      ],
      "metadata": {
        "id": "h5hlzAPGs0OS"
      }
    },
    {
      "cell_type": "code",
      "source": [
        "# After training, let us check the best checkpoint\n",
        "# We need this for Inference\n",
        "best_model_checkpoint_step = trainer.state.best_model_checkpoint.split('-')[-1]\n",
        "print(f\"The best model was saved at step {best_model_checkpoint_step}.\")"
      ],
      "metadata": {
        "id": "YBUBwm3QtOJD",
        "colab": {
          "base_uri": "https://localhost:8080/"
        },
        "outputId": "6abddf3f-3aa8-44eb-c41c-958a765af1b1"
      },
      "execution_count": null,
      "outputs": [
        {
          "output_type": "stream",
          "name": "stdout",
          "text": [
            "The best model was saved at step 700.\n"
          ]
        }
      ]
    },
    {
      "cell_type": "markdown",
      "source": [
        "**<font color=\"blue\">Step 11: Calculate the optimal thresholds for all the labels.</font>**"
      ],
      "metadata": {
        "id": "Izg9NG3spmyT"
      }
    },
    {
      "cell_type": "code",
      "source": [
        "from scipy.special import expit as sigmoid\n",
        "valid_output = trainer.predict(tokenized_dataset[\"valid\"])\n",
        "\n",
        "# Get probabilities from logits\n",
        "valid_logits = valid_output.predictions\n",
        "valid_probs = sigmoid(valid_logits)\n",
        "valid_labels = np.array(valid_output.label_ids.astype(int))"
      ],
      "metadata": {
        "id": "wnd8h9f4sDO5",
        "colab": {
          "base_uri": "https://localhost:8080/",
          "height": 17
        },
        "outputId": "23d27504-59d2-4aca-a25a-1b48b4921a7b"
      },
      "execution_count": null,
      "outputs": [
        {
          "output_type": "display_data",
          "data": {
            "text/plain": [
              "<IPython.core.display.HTML object>"
            ],
            "text/html": []
          },
          "metadata": {}
        }
      ]
    },
    {
      "cell_type": "code",
      "source": [
        "def find_best_thresholds_multilabel(probabilities, labels):\n",
        "    \"\"\"\n",
        "    Find best threshold for each label that maximizes F1 score\n",
        "\n",
        "    Args:\n",
        "        probabilities: Array of shape (n_samples, n_labels) with predicted probabilities\n",
        "        labels: Array of shape (n_samples, n_labels) with true binary labels\n",
        "\n",
        "    Returns:\n",
        "        thresholds: List of best thresholds for each label\n",
        "        metrics: Dictionary containing best F1, precision, and recall for each label\n",
        "    \"\"\"\n",
        "    n_labels = labels.shape[1]\n",
        "    best_thresholds = []\n",
        "    metrics = {}\n",
        "\n",
        "    for label_idx in range(n_labels):\n",
        "        # Get scores and labels for this label\n",
        "        label_scores = probabilities[:, label_idx]\n",
        "        label_true = labels[:, label_idx]\n",
        "\n",
        "        # Sort by scores\n",
        "        rows = list(zip(label_scores, label_true))\n",
        "        rows = sorted(rows, key=lambda x: x[0], reverse=True)\n",
        "\n",
        "        # Initialize metrics\n",
        "        best_f1 = best_precision = best_recall = 0\n",
        "        threshold = 0\n",
        "\n",
        "        # Count total positives for this label\n",
        "        total_positives = sum(label_true)\n",
        "\n",
        "        # Initialize counters\n",
        "        total_predicted_positives = 0\n",
        "        true_positives = 0\n",
        "\n",
        "        # print(f\"\\nAnalyzing label {label_idx}\")\n",
        "\n",
        "        # Try different thresholds\n",
        "        for i in range(len(rows) - 1):\n",
        "            score, label = rows[i]\n",
        "            total_predicted_positives += 1\n",
        "            if label == 1:\n",
        "                true_positives += 1\n",
        "\n",
        "            if true_positives > 0:\n",
        "                precision = true_positives / total_predicted_positives\n",
        "                recall = true_positives / total_positives\n",
        "                f1 = 2 * precision * recall / (precision + recall)\n",
        "\n",
        "                # Update best metrics if current F1 is better\n",
        "                if f1 > best_f1:\n",
        "                    best_f1 = f1\n",
        "                    best_precision = precision\n",
        "                    best_recall = recall\n",
        "                    threshold = (rows[i][0] + rows[i + 1][0]) / 2\n",
        "\n",
        "                    # print(f\"New best threshold found: {threshold:.3f}\")\n",
        "                    # print(f\"F1: {best_f1:.3f}, Precision: {best_precision:.3f}, Recall: {best_recall:.3f}\")\n",
        "\n",
        "        best_thresholds.append(threshold)\n",
        "        metrics[label_idx] = {\n",
        "            'f1': best_f1,\n",
        "            'precision': best_precision,\n",
        "            'recall': best_recall,\n",
        "            'threshold': threshold\n",
        "        }\n",
        "\n",
        "\n",
        "    return best_thresholds, metrics\n",
        "\n"
      ],
      "metadata": {
        "id": "DqPJ37k1sKgn"
      },
      "execution_count": null,
      "outputs": []
    },
    {
      "cell_type": "code",
      "source": [
        "optimal_thresholds, metrics = find_best_thresholds_multilabel(valid_probs, valid_labels)\n"
      ],
      "metadata": {
        "id": "4pNbWVwysOlT"
      },
      "execution_count": null,
      "outputs": []
    },
    {
      "cell_type": "code",
      "source": [
        "optimal_thresholds"
      ],
      "metadata": {
        "id": "uotkuy1QsRRb",
        "colab": {
          "base_uri": "https://localhost:8080/"
        },
        "outputId": "e85450a7-8294-43a8-8cd4-54d7a8c32fa8"
      },
      "execution_count": null,
      "outputs": [
        {
          "output_type": "execute_result",
          "data": {
            "text/plain": [
              "[0.4640514552593231,\n",
              " 0.6334102749824524,\n",
              " 0.40403783321380615,\n",
              " 0.7461276054382324,\n",
              " 0.6570950746536255,\n",
              " 0.8832335472106934,\n",
              " 0.5214711427688599,\n",
              " 0.5929023027420044,\n",
              " 0.5843895673751831,\n",
              " 0.867479681968689,\n",
              " 0.3974706530570984]"
            ]
          },
          "metadata": {},
          "execution_count": 146
        }
      ]
    },
    {
      "cell_type": "code",
      "source": [
        "f1 = evaluate.load('f1','multilabel')\n",
        "def compute_metrics(eval_pred, thresholds):\n",
        "    # accuracy_metric = evaluate.load('accuracy', 'multilabel')\n",
        "\n",
        "    logits, labels = eval_pred\n",
        "    probs = sigmoid(logits)\n",
        "    preds = (probs > thresholds).astype(int)\n",
        "    f1_macro = f1.compute(predictions=preds, references=labels, average='macro')\n",
        "    return {'f1_macro':f1_macro['f1']}\n"
      ],
      "metadata": {
        "id": "5ndtYv_lsViS"
      },
      "execution_count": null,
      "outputs": []
    },
    {
      "cell_type": "code",
      "source": [
        "compute_metrics((valid_logits, valid_labels), optimal_thresholds)"
      ],
      "metadata": {
        "id": "qg5DNpWLsXNO",
        "colab": {
          "base_uri": "https://localhost:8080/"
        },
        "outputId": "89f05527-98e5-40c6-ada5-6e1d0a3573e4"
      },
      "execution_count": null,
      "outputs": [
        {
          "output_type": "execute_result",
          "data": {
            "text/plain": [
              "{'f1_macro': 0.6031904646455081}"
            ]
          },
          "metadata": {},
          "execution_count": 148
        }
      ]
    },
    {
      "cell_type": "markdown",
      "source": [
        "**We can see a significant increase in f1-score when we use optimal-thresholds as we are not generalizing each labels to a default cutoff of 0.5**"
      ],
      "metadata": {
        "id": "SUprHpcpskuA"
      }
    },
    {
      "cell_type": "markdown",
      "source": [
        "**<font color=\"blue\">Step 11: Confusion matrics for each label</font>**"
      ],
      "metadata": {
        "id": "GWeIrrkmp42y"
      }
    },
    {
      "cell_type": "code",
      "source": [
        "import numpy as np\n",
        "import matplotlib.pyplot as plt\n",
        "import seaborn as sns\n",
        "from sklearn.metrics import confusion_matrix\n",
        "\n",
        "label_names = [\"anger\", \"anticipation\", \"disgust\", \"fear\", \"joy\",\n",
        "               \"love\", \"optimism\", \"pessimism\", \"sadness\", \"surprise\", \"trust\"]\n",
        "\n",
        "# Extract label values into a 2D NumPy array\n",
        "true_labels = valid_dataset.select_columns(label_names)  # Select the columns in label_names\n",
        "true_labels = np.array([[row[label] for label in label_names] for row in true_labels])  # Correctly extract label values\n",
        "\n",
        "# Convert probabilities to binary predictions\n",
        "predictions = (valid_probs > optimal_thresholds).astype(int)\n",
        "\n",
        "# Plot confusion matrix for each label\n",
        "for i, label in enumerate(label_names):\n",
        "    # Get confusion matrix for the specific label\n",
        "    cm = confusion_matrix(true_labels[:, i], predictions[:, i])  # Using numpy arrays for true_labels and predictions\n",
        "    plt.figure(figsize=(5, 4))\n",
        "    sns.heatmap(cm, annot=True, fmt=\"d\", cmap=\"Blues\", cbar=False)\n",
        "    plt.xlabel(\"Predicted\")\n",
        "    plt.ylabel(\"Actual\")\n",
        "    plt.title(f\"Confusion Matrix for {label}\")\n",
        "    plt.show()"
      ],
      "metadata": {
        "id": "NOf3eF91eEls",
        "colab": {
          "base_uri": "https://localhost:8080/",
          "height": 1000
        },
        "outputId": "8b23b0bc-bccd-45e0-9458-280af59eb883"
      },
      "execution_count": null,
      "outputs": [
        {
          "output_type": "display_data",
          "data": {
            "text/plain": [
              "<Figure size 500x400 with 1 Axes>"
            ],
            "image/png": "[encoded data removed]"
          },
          "metadata": {}
        },
        {
          "output_type": "display_data",
          "data": {
            "text/plain": [
              "<Figure size 500x400 with 1 Axes>"
            ],
            "image/png": "[encoded data removed]"
          },
          "metadata": {}
        },
        {
          "output_type": "display_data",
          "data": {
            "text/plain": [
              "<Figure size 500x400 with 1 Axes>"
            ],
            "image/png": "[encoded data removed]"
          },
          "metadata": {}
        },
        {
          "output_type": "display_data",
          "data": {
            "text/plain": [
              "<Figure size 500x400 with 1 Axes>"
            ],
            "image/png": "[encoded data removed]"
          },
          "metadata": {}
        },
        {
          "output_type": "display_data",
          "data": {
            "text/plain": [
              "<Figure size 500x400 with 1 Axes>"
            ],
            "image/png": "[encoded data removed]"
          },
          "metadata": {}
        },
        {
          "output_type": "display_data",
          "data": {
            "text/plain": [
              "<Figure size 500x400 with 1 Axes>"
            ],
            "image/png": "[encoded data removed]"
          },
          "metadata": {}
        },
        {
          "output_type": "display_data",
          "data": {
            "text/plain": [
              "<Figure size 500x400 with 1 Axes>"
            ],
            "image/png": "[encoded data removed]"
          },
          "metadata": {}
        },
        {
          "output_type": "display_data",
          "data": {
            "text/plain": [
              "<Figure size 500x400 with 1 Axes>"
            ],
            "image/png": "[encoded data removed]"
          },
          "metadata": {}
        },
        {
          "output_type": "display_data",
          "data": {
            "text/plain": [
              "<Figure size 500x400 with 1 Axes>"
            ],
            "image/png": "[encoded data removed]"
          },
          "metadata": {}
        },
        {
          "output_type": "display_data",
          "data": {
            "text/plain": [
              "<Figure size 500x400 with 1 Axes>"
            ],
            "image/png": "[encoded data removed]"
          },
          "metadata": {}
        },
        {
          "output_type": "display_data",
          "data": {
            "text/plain": [
              "<Figure size 500x400 with 1 Axes>"
            ],
            "image/png": "[encoded data removed]"
          },
          "metadata": {}
        }
      ]
    },
    {
      "cell_type": "markdown",
      "source": [
        "**The above outputs show the confusion matrices for each label, which can be used to target specific label performances**"
      ],
      "metadata": {
        "id": "p_sBOos2sZCM"
      }
    },
    {
      "cell_type": "code",
      "source": [
        "import numpy as np\n",
        "import matplotlib.pyplot as plt\n",
        "import seaborn as sns\n",
        "from sklearn.metrics import confusion_matrix\n",
        "\n",
        "label_names = [\"anger\", \"anticipation\", \"disgust\", \"fear\", \"joy\",\n",
        "               \"love\", \"optimism\", \"pessimism\", \"sadness\", \"surprise\", \"trust\"]\n",
        "\n",
        "# Extract the true labels and predictions\n",
        "true_labels = valid_dataset.select_columns(label_names)\n",
        "true_labels = np.array([[row[label] for label in label_names] for row in true_labels])\n",
        "\n",
        "# Get predictions from the trainer and convert logits to binary predictions\n",
        "predictions = (valid_probs >optimal_thresholds).astype(int)\n",
        "\n",
        "# Initialize a 2x2 matrix to accumulate confusion matrix counts\n",
        "consolidated_cm = np.array([[0, 0], [0, 0]])\n",
        "\n",
        "# Calculate confusion matrix for each label and sum them\n",
        "for i in range(len(label_names)):\n",
        "    cm = confusion_matrix(true_labels[:, i], predictions[:, i])\n",
        "    consolidated_cm += cm\n",
        "\n",
        "# Plot the consolidated confusion matrix\n",
        "plt.figure(figsize=(6, 5))\n",
        "sns.heatmap(consolidated_cm, annot=True, fmt=\"d\", cmap=\"Blues\", cbar=False,\n",
        "            xticklabels=[\"Predicted 0\", \"Predicted 1\"], yticklabels=[\"Actual 0\", \"Actual 1\"])\n",
        "plt.xlabel(\"Predicted Label\")\n",
        "plt.ylabel(\"True Label\")\n",
        "plt.title(\"Consolidated Confusion Matrix for Multilabel Classification\")\n",
        "plt.show()\n"
      ],
      "metadata": {
        "id": "HuQpYRcBhAAD",
        "colab": {
          "base_uri": "https://localhost:8080/",
          "height": 487
        },
        "outputId": "7b84f837-adb9-4ca2-8268-ce7a9c043475"
      },
      "execution_count": null,
      "outputs": [
        {
          "output_type": "display_data",
          "data": {
            "text/plain": [
              "<Figure size 600x500 with 1 Axes>"
            ],
            "image/png": "[encoded data removed]"
          },
          "metadata": {}
        }
      ]
    },
    {
      "cell_type": "markdown",
      "source": [
        "**<font color=\"blue\">Step 12: Model inference</font>**"
      ],
      "metadata": {
        "id": "UCyVich5qKKb"
      }
    },
    {
      "cell_type": "code",
      "source": [
        "checkpoint = str(model_folder/f'checkpoint-{best_model_checkpoint_step}')\n",
        "checkpoint"
      ],
      "metadata": {
        "id": "ghGuDWymbO8-",
        "colab": {
          "base_uri": "https://localhost:8080/",
          "height": 36
        },
        "outputId": "b0dda0d0-7489-4205-96df-52b4d621c15a"
      },
      "execution_count": null,
      "outputs": [
        {
          "output_type": "execute_result",
          "data": {
            "text/plain": [
              "'/content/llama_lora_emotion/checkpoint-800'"
            ],
            "application/vnd.google.colaboratory.intrinsic+json": {
              "type": "string"
            }
          },
          "metadata": {},
          "execution_count": 54
        }
      ]
    },
    {
      "cell_type": "code",
      "source": [
        "model = AutoModelForSequenceClassification.from_pretrained(checkpoint,\n",
        "                                                               num_labels = 11,\n",
        "                                                           problem_type=\"multi_label_classification\",\n",
        "                                                           quantization_config=bnb_config,\n",
        "                                                           torch_dtype=torch_data_type,\n",
        "                                                           trust_remote_code=True,)"
      ],
      "metadata": {
        "id": "wLOFBVvNfyhq",
        "colab": {
          "base_uri": "https://localhost:8080/"
        },
        "outputId": "740c9226-9f00-4b35-8e2b-acc56007cc1d"
      },
      "execution_count": null,
      "outputs": [
        {
          "output_type": "stream",
          "name": "stderr",
          "text": [
            "`low_cpu_mem_usage` was None, now default to True since model is quantized.\n",
            "Some weights of LlamaForSequenceClassification were not initialized from the model checkpoint at meta-llama/Llama-3.2-1B and are newly initialized: ['score.weight']\n",
            "You should probably TRAIN this model on a down-stream task to be able to use it for predictions and inference.\n"
          ]
        }
      ]
    },
    {
      "cell_type": "code",
      "source": [
        "from peft import AutoPeftModelForSequenceClassification, PeftConfig\n",
        "peft_config = PeftConfig.from_pretrained(checkpoint)\n",
        "base_model_name = peft_config.base_model_name_or_path\n",
        "tokenizer = AutoTokenizer.from_pretrained(base_model_name)\n",
        "tokenizer.pad_token = '<|finetune_right_pad_id|>'\n",
        "\n",
        "# 3. Set model to evaluation mode\n",
        "model.eval()\n",
        "model.config.use_cache = False\n",
        "model.config.pad_token_id = tokenizer.pad_token_id"
      ],
      "metadata": {
        "id": "yFcEb5babZ4z"
      },
      "execution_count": null,
      "outputs": []
    },
    {
      "cell_type": "code",
      "source": [
        "tokenizer.pad_token = '<|finetune_right_pad_id|>'"
      ],
      "metadata": {
        "id": "T3OobGbNa-7m"
      },
      "execution_count": null,
      "outputs": []
    },
    {
      "cell_type": "code",
      "source": [
        "def tokenize_test_fn(batch):\n",
        "    # Tokenize the text\n",
        "    tokenized_inputs = tokenizer(batch[\"Tweet\"], truncation=True, max_length=512)\n",
        "    return tokenized_inputs"
      ],
      "metadata": {
        "id": "uYSUuG3Yb7Bh"
      },
      "execution_count": null,
      "outputs": []
    },
    {
      "cell_type": "code",
      "source": [
        "test_df = pd.DataFrame({'Tweet': testdata['Tweet']})\n",
        "testdataset = Dataset.from_pandas(test_df)\n",
        "tokenised_test = testdataset.map(tokenize_test_fn, batched=True)"
      ],
      "metadata": {
        "id": "4dDAX_AmbW5G",
        "colab": {
          "base_uri": "https://localhost:8080/",
          "height": 49,
          "referenced_widgets": [
            "927b7f143e6f444184ed7616bd4015fb",
            "d7a03740baef4dddac5e67835efe88fc",
            "2c759d02f2454a57a25e7d9ec9ff61e3",
            "17a78a5798454f7eb48c96050db1714b",
            "9920f7de85c7400fb84372a33fb71e93",
            "268333f957704230ace8fc375dfac926",
            "d3f4ad6d02404df7889ecde4c6d40f58",
            "36d38bc2dc2949e2bf5bb5424d3fcbd0",
            "9771eb940ad643079bffb1e9d75d1ead",
            "c2e86de3148a495b946c598a4f1fbc05",
            "3084d4130cd5417aa4a0b638f34667cf"
          ]
        },
        "outputId": "95cae484-8ad3-4dad-bcb5-7f9c605ac290"
      },
      "execution_count": null,
      "outputs": [
        {
          "output_type": "display_data",
          "data": {
            "text/plain": [
              "Map:   0%|          | 0/3259 [00:00<?, ? examples/s]"
            ],
            "application/vnd.jupyter.widget-view+json": {
              "version_major": 2,
              "version_minor": 0,
              "model_id": "927b7f143e6f444184ed7616bd4015fb"
            }
          },
          "metadata": {}
        }
      ]
    },
    {
      "cell_type": "code",
      "source": [
        "tokenised_test"
      ],
      "metadata": {
        "id": "5jSfGnvdb_hG",
        "colab": {
          "base_uri": "https://localhost:8080/"
        },
        "outputId": "5b5c6564-845a-4c61-c281-f36a0faab044"
      },
      "execution_count": null,
      "outputs": [
        {
          "output_type": "execute_result",
          "data": {
            "text/plain": [
              "Dataset({\n",
              "    features: ['Tweet', 'input_ids', 'attention_mask'],\n",
              "    num_rows: 3259\n",
              "})"
            ]
          },
          "metadata": {},
          "execution_count": 76
        }
      ]
    },
    {
      "cell_type": "code",
      "source": [
        "training_args = TrainingArguments(\n",
        "    output_dir=\"./results\",\n",
        "    per_device_eval_batch_size=128,\n",
        "    do_train=False,\n",
        "    do_eval=True,\n",
        "    report_to=[],\n",
        "    run_name=run_name\n",
        ")"
      ],
      "metadata": {
        "id": "qLeOi2gGcDNz"
      },
      "execution_count": null,
      "outputs": []
    },
    {
      "cell_type": "code",
      "source": [
        "trainer = Trainer(\n",
        "    model=model,\n",
        "    args=training_args,\n",
        "    eval_dataset=tokenised_test,\n",
        "    compute_metrics=compute_metrics,\n",
        "    tokenizer=tokenizer,\n",
        ")"
      ],
      "metadata": {
        "id": "iPWEkztecGh4",
        "colab": {
          "base_uri": "https://localhost:8080/"
        },
        "outputId": "d0a3fdd9-04d4-491e-a23d-4e0c051084ae"
      },
      "execution_count": null,
      "outputs": [
        {
          "output_type": "stream",
          "name": "stderr",
          "text": [
            "<ipython-input-79-dd1575c7edfc>:1: FutureWarning: `tokenizer` is deprecated and will be removed in version 5.0.0 for `Trainer.__init__`. Use `processing_class` instead.\n",
            "  trainer = Trainer(\n"
          ]
        }
      ]
    },
    {
      "cell_type": "code",
      "source": [
        "import pandas as pd\n",
        "import numpy as np\n",
        "\n",
        "# Run predictions\n",
        "predictions_output = trainer.predict(tokenised_test)\n",
        "\n",
        "# Get the raw logits\n",
        "logits = predictions_output.predictions\n",
        "\n",
        "# Apply sigmoid to get probabilities for multilabel classification\n",
        "probs = 1 / (1 + np.exp(-logits))\n",
        "# Convert probabilities to binary predictions with a threshold of 0.5\n",
        "predictions = (probs >= optimal_thresholds).astype(int)\n",
        "\n",
        "# Convert predictions to a DataFrame\n",
        "predictions_df = pd.DataFrame(predictions, columns=[\"anger\", \"anticipation\", \"disgust\", \"fear\", \"joy\",\n",
        "                                                    \"love\", \"optimism\", \"pessimism\", \"sadness\", \"surprise\", \"trust\"])\n",
        "predictions_df = pd.concat([testdata['ID'], predictions_df], axis=1)\n",
        "predictions_df.head()"
      ],
      "metadata": {
        "id": "mwE3gx_zcas6",
        "colab": {
          "base_uri": "https://localhost:8080/",
          "height": 206
        },
        "outputId": "929279d6-f15c-476a-a55b-b5d50ff90273"
      },
      "execution_count": null,
      "outputs": [
        {
          "output_type": "display_data",
          "data": {
            "text/plain": [
              "<IPython.core.display.HTML object>"
            ],
            "text/html": []
          },
          "metadata": {}
        },
        {
          "output_type": "execute_result",
          "data": {
            "text/plain": [
              "           ID  anger  anticipation  disgust  fear  joy  love  optimism  \\\n",
              "0  2018-01559      1             0        0     1    0     0         1   \n",
              "1  2018-03739      0             0        1     1    0     0         0   \n",
              "2  2018-00385      1             0        1     0    0     0         0   \n",
              "3  2018-03001      0             0        0     1    0     0         0   \n",
              "4  2018-01988      0             0        0     1    0     0         0   \n",
              "\n",
              "   pessimism  sadness  surprise  trust  \n",
              "0          0        0         0      0  \n",
              "1          0        0         0      0  \n",
              "2          0        1         0      0  \n",
              "3          1        1         0      0  \n",
              "4          1        1         0      0  "
            ],
            "text/html": [
              "\n",
              "  <div id=\"df-a3660cb5-0968-435a-b9df-8a9ba07e9073\" class=\"colab-df-container\">\n",
              "    <div>\n",
              "<style scoped>\n",
              "    .dataframe tbody tr th:only-of-type {\n",
              "        vertical-align: middle;\n",
              "    }\n",
              "\n",
              "    .dataframe tbody tr th {\n",
              "        vertical-align: top;\n",
              "    }\n",
              "\n",
              "    .dataframe thead th {\n",
              "        text-align: right;\n",
              "    }\n",
              "</style>\n",
              "<table border=\"1\" class=\"dataframe\">\n",
              "  <thead>\n",
              "    <tr style=\"text-align: right;\">\n",
              "      <th></th>\n",
              "      <th>ID</th>\n",
              "      <th>anger</th>\n",
              "      <th>anticipation</th>\n",
              "      <th>disgust</th>\n",
              "      <th>fear</th>\n",
              "      <th>joy</th>\n",
              "      <th>love</th>\n",
              "      <th>optimism</th>\n",
              "      <th>pessimism</th>\n",
              "      <th>sadness</th>\n",
              "      <th>surprise</th>\n",
              "      <th>trust</th>\n",
              "    </tr>\n",
              "  </thead>\n",
              "  <tbody>\n",
              "    <tr>\n",
              "      <th>0</th>\n",
              "      <td>2018-01559</td>\n",
              "      <td>1</td>\n",
              "      <td>0</td>\n",
              "      <td>0</td>\n",
              "      <td>1</td>\n",
              "      <td>0</td>\n",
              "      <td>0</td>\n",
              "      <td>1</td>\n",
              "      <td>0</td>\n",
              "      <td>0</td>\n",
              "      <td>0</td>\n",
              "      <td>0</td>\n",
              "    </tr>\n",
              "    <tr>\n",
              "      <th>1</th>\n",
              "      <td>2018-03739</td>\n",
              "      <td>0</td>\n",
              "      <td>0</td>\n",
              "      <td>1</td>\n",
              "      <td>1</td>\n",
              "      <td>0</td>\n",
              "      <td>0</td>\n",
              "      <td>0</td>\n",
              "      <td>0</td>\n",
              "      <td>0</td>\n",
              "      <td>0</td>\n",
              "      <td>0</td>\n",
              "    </tr>\n",
              "    <tr>\n",
              "      <th>2</th>\n",
              "      <td>2018-00385</td>\n",
              "      <td>1</td>\n",
              "      <td>0</td>\n",
              "      <td>1</td>\n",
              "      <td>0</td>\n",
              "      <td>0</td>\n",
              "      <td>0</td>\n",
              "      <td>0</td>\n",
              "      <td>0</td>\n",
              "      <td>1</td>\n",
              "      <td>0</td>\n",
              "      <td>0</td>\n",
              "    </tr>\n",
              "    <tr>\n",
              "      <th>3</th>\n",
              "      <td>2018-03001</td>\n",
              "      <td>0</td>\n",
              "      <td>0</td>\n",
              "      <td>0</td>\n",
              "      <td>1</td>\n",
              "      <td>0</td>\n",
              "      <td>0</td>\n",
              "      <td>0</td>\n",
              "      <td>1</td>\n",
              "      <td>1</td>\n",
              "      <td>0</td>\n",
              "      <td>0</td>\n",
              "    </tr>\n",
              "    <tr>\n",
              "      <th>4</th>\n",
              "      <td>2018-01988</td>\n",
              "      <td>0</td>\n",
              "      <td>0</td>\n",
              "      <td>0</td>\n",
              "      <td>1</td>\n",
              "      <td>0</td>\n",
              "      <td>0</td>\n",
              "      <td>0</td>\n",
              "      <td>1</td>\n",
              "      <td>1</td>\n",
              "      <td>0</td>\n",
              "      <td>0</td>\n",
              "    </tr>\n",
              "  </tbody>\n",
              "</table>\n",
              "</div>\n",
              "    <div class=\"colab-df-buttons\">\n",
              "\n",
              "  <div class=\"colab-df-container\">\n",
              "    <button class=\"colab-df-convert\" onclick=\"convertToInteractive('df-a3660cb5-0968-435a-b9df-8a9ba07e9073')\"\n",
              "            title=\"Convert this dataframe to an interactive table.\"\n",
              "            style=\"display:none;\">\n",
              "\n",
              "  <svg xmlns=\"http://www.w3.org/2000/svg\" height=\"24px\" viewBox=\"0 -960 960 960\">\n",
              "    <path d=\"M120-120v-720h720v720H120Zm60-500h600v-160H180v160Zm220 220h160v-160H400v160Zm0 220h160v-160H400v160ZM180-400h160v-160H180v160Zm440 0h160v-160H620v160ZM180-180h160v-160H180v160Zm440 0h160v-160H620v160Z\"/>\n",
              "  </svg>\n",
              "    </button>\n",
              "\n",
              "  <style>\n",
              "    .colab-df-container {\n",
              "      display:flex;\n",
              "      gap: 12px;\n",
              "    }\n",
              "\n",
              "    .colab-df-convert {\n",
              "      background-color: #E8F0FE;\n",
              "      border: none;\n",
              "      border-radius: 50%;\n",
              "      cursor: pointer;\n",
              "      display: none;\n",
              "      fill: #1967D2;\n",
              "      height: 32px;\n",
              "      padding: 0 0 0 0;\n",
              "      width: 32px;\n",
              "    }\n",
              "\n",
              "    .colab-df-convert:hover {\n",
              "      background-color: #E2EBFA;\n",
              "      box-shadow: 0px 1px 2px rgba(60, 64, 67, 0.3), 0px 1px 3px 1px rgba(60, 64, 67, 0.15);\n",
              "      fill: #174EA6;\n",
              "    }\n",
              "\n",
              "    .colab-df-buttons div {\n",
              "      margin-bottom: 4px;\n",
              "    }\n",
              "\n",
              "    [theme=dark] .colab-df-convert {\n",
              "      background-color: #3B4455;\n",
              "      fill: #D2E3FC;\n",
              "    }\n",
              "\n",
              "    [theme=dark] .colab-df-convert:hover {\n",
              "      background-color: #434B5C;\n",
              "      box-shadow: 0px 1px 3px 1px rgba(0, 0, 0, 0.15);\n",
              "      filter: drop-shadow(0px 1px 2px rgba(0, 0, 0, 0.3));\n",
              "      fill: #FFFFFF;\n",
              "    }\n",
              "  </style>\n",
              "\n",
              "    <script>\n",
              "      const buttonEl =\n",
              "        document.querySelector('#df-a3660cb5-0968-435a-b9df-8a9ba07e9073 button.colab-df-convert');\n",
              "      buttonEl.style.display =\n",
              "        google.colab.kernel.accessAllowed ? 'block' : 'none';\n",
              "\n",
              "      async function convertToInteractive(key) {\n",
              "        const element = document.querySelector('#df-a3660cb5-0968-435a-b9df-8a9ba07e9073');\n",
              "        const dataTable =\n",
              "          await google.colab.kernel.invokeFunction('convertToInteractive',\n",
              "                                                    [key], {});\n",
              "        if (!dataTable) return;\n",
              "\n",
              "        const docLinkHtml = 'Like what you see? Visit the ' +\n",
              "          '<a target=\"_blank\" href=https://colab.research.google.com/notebooks/data_table.ipynb>data table notebook</a>'\n",
              "          + ' to learn more about interactive tables.';\n",
              "        element.innerHTML = '';\n",
              "        dataTable['output_type'] = 'display_data';\n",
              "        await google.colab.output.renderOutput(dataTable, element);\n",
              "        const docLink = document.createElement('div');\n",
              "        docLink.innerHTML = docLinkHtml;\n",
              "        element.appendChild(docLink);\n",
              "      }\n",
              "    </script>\n",
              "  </div>\n",
              "\n",
              "\n",
              "<div id=\"df-574d469f-61e6-44fd-967e-d1d96a0457d2\">\n",
              "  <button class=\"colab-df-quickchart\" onclick=\"quickchart('df-574d469f-61e6-44fd-967e-d1d96a0457d2')\"\n",
              "            title=\"Suggest charts\"\n",
              "            style=\"display:none;\">\n",
              "\n",
              "<svg xmlns=\"http://www.w3.org/2000/svg\" height=\"24px\"viewBox=\"0 0 24 24\"\n",
              "     width=\"24px\">\n",
              "    <g>\n",
              "        <path d=\"M19 3H5c-1.1 0-2 .9-2 2v14c0 1.1.9 2 2 2h14c1.1 0 2-.9 2-2V5c0-1.1-.9-2-2-2zM9 17H7v-7h2v7zm4 0h-2V7h2v10zm4 0h-2v-4h2v4z\"/>\n",
              "    </g>\n",
              "</svg>\n",
              "  </button>\n",
              "\n",
              "<style>\n",
              "  .colab-df-quickchart {\n",
              "      --bg-color: #E8F0FE;\n",
              "      --fill-color: #1967D2;\n",
              "      --hover-bg-color: #E2EBFA;\n",
              "      --hover-fill-color: #174EA6;\n",
              "      --disabled-fill-color: #AAA;\n",
              "      --disabled-bg-color: #DDD;\n",
              "  }\n",
              "\n",
              "  [theme=dark] .colab-df-quickchart {\n",
              "      --bg-color: #3B4455;\n",
              "      --fill-color: #D2E3FC;\n",
              "      --hover-bg-color: #434B5C;\n",
              "      --hover-fill-color: #FFFFFF;\n",
              "      --disabled-bg-color: #3B4455;\n",
              "      --disabled-fill-color: #666;\n",
              "  }\n",
              "\n",
              "  .colab-df-quickchart {\n",
              "    background-color: var(--bg-color);\n",
              "    border: none;\n",
              "    border-radius: 50%;\n",
              "    cursor: pointer;\n",
              "    display: none;\n",
              "    fill: var(--fill-color);\n",
              "    height: 32px;\n",
              "    padding: 0;\n",
              "    width: 32px;\n",
              "  }\n",
              "\n",
              "  .colab-df-quickchart:hover {\n",
              "    background-color: var(--hover-bg-color);\n",
              "    box-shadow: 0 1px 2px rgba(60, 64, 67, 0.3), 0 1px 3px 1px rgba(60, 64, 67, 0.15);\n",
              "    fill: var(--button-hover-fill-color);\n",
              "  }\n",
              "\n",
              "  .colab-df-quickchart-complete:disabled,\n",
              "  .colab-df-quickchart-complete:disabled:hover {\n",
              "    background-color: var(--disabled-bg-color);\n",
              "    fill: var(--disabled-fill-color);\n",
              "    box-shadow: none;\n",
              "  }\n",
              "\n",
              "  .colab-df-spinner {\n",
              "    border: 2px solid var(--fill-color);\n",
              "    border-color: transparent;\n",
              "    border-bottom-color: var(--fill-color);\n",
              "    animation:\n",
              "      spin 1s steps(1) infinite;\n",
              "  }\n",
              "\n",
              "  @keyframes spin {\n",
              "    0% {\n",
              "      border-color: transparent;\n",
              "      border-bottom-color: var(--fill-color);\n",
              "      border-left-color: var(--fill-color);\n",
              "    }\n",
              "    20% {\n",
              "      border-color: transparent;\n",
              "      border-left-color: var(--fill-color);\n",
              "      border-top-color: var(--fill-color);\n",
              "    }\n",
              "    30% {\n",
              "      border-color: transparent;\n",
              "      border-left-color: var(--fill-color);\n",
              "      border-top-color: var(--fill-color);\n",
              "      border-right-color: var(--fill-color);\n",
              "    }\n",
              "    40% {\n",
              "      border-color: transparent;\n",
              "      border-right-color: var(--fill-color);\n",
              "      border-top-color: var(--fill-color);\n",
              "    }\n",
              "    60% {\n",
              "      border-color: transparent;\n",
              "      border-right-color: var(--fill-color);\n",
              "    }\n",
              "    80% {\n",
              "      border-color: transparent;\n",
              "      border-right-color: var(--fill-color);\n",
              "      border-bottom-color: var(--fill-color);\n",
              "    }\n",
              "    90% {\n",
              "      border-color: transparent;\n",
              "      border-bottom-color: var(--fill-color);\n",
              "    }\n",
              "  }\n",
              "</style>\n",
              "\n",
              "  <script>\n",
              "    async function quickchart(key) {\n",
              "      const quickchartButtonEl =\n",
              "        document.querySelector('#' + key + ' button');\n",
              "      quickchartButtonEl.disabled = true;  // To prevent multiple clicks.\n",
              "      quickchartButtonEl.classList.add('colab-df-spinner');\n",
              "      try {\n",
              "        const charts = await google.colab.kernel.invokeFunction(\n",
              "            'suggestCharts', [key], {});\n",
              "      } catch (error) {\n",
              "        console.error('Error during call to suggestCharts:', error);\n",
              "      }\n",
              "      quickchartButtonEl.classList.remove('colab-df-spinner');\n",
              "      quickchartButtonEl.classList.add('colab-df-quickchart-complete');\n",
              "    }\n",
              "    (() => {\n",
              "      let quickchartButtonEl =\n",
              "        document.querySelector('#df-574d469f-61e6-44fd-967e-d1d96a0457d2 button');\n",
              "      quickchartButtonEl.style.display =\n",
              "        google.colab.kernel.accessAllowed ? 'block' : 'none';\n",
              "    })();\n",
              "  </script>\n",
              "</div>\n",
              "\n",
              "    </div>\n",
              "  </div>\n"
            ],
            "application/vnd.google.colaboratory.intrinsic+json": {
              "type": "dataframe",
              "variable_name": "predictions_df",
              "summary": "{\n  \"name\": \"predictions_df\",\n  \"rows\": 3259,\n  \"fields\": [\n    {\n      \"column\": \"ID\",\n      \"properties\": {\n        \"dtype\": \"string\",\n        \"num_unique_values\": 3259,\n        \"samples\": [\n          \"2018-00951\",\n          \"2018-04124\",\n          \"2018-04333\"\n        ],\n        \"semantic_type\": \"\",\n        \"description\": \"\"\n      }\n    },\n    {\n      \"column\": \"anger\",\n      \"properties\": {\n        \"dtype\": \"number\",\n        \"std\": 0,\n        \"min\": 0,\n        \"max\": 1,\n        \"num_unique_values\": 2,\n        \"samples\": [\n          0,\n          1\n        ],\n        \"semantic_type\": \"\",\n        \"description\": \"\"\n      }\n    },\n    {\n      \"column\": \"anticipation\",\n      \"properties\": {\n        \"dtype\": \"number\",\n        \"std\": 0,\n        \"min\": 0,\n        \"max\": 1,\n        \"num_unique_values\": 2,\n        \"samples\": [\n          1,\n          0\n        ],\n        \"semantic_type\": \"\",\n        \"description\": \"\"\n      }\n    },\n    {\n      \"column\": \"disgust\",\n      \"properties\": {\n        \"dtype\": \"number\",\n        \"std\": 0,\n        \"min\": 0,\n        \"max\": 1,\n        \"num_unique_values\": 2,\n        \"samples\": [\n          1,\n          0\n        ],\n        \"semantic_type\": \"\",\n        \"description\": \"\"\n      }\n    },\n    {\n      \"column\": \"fear\",\n      \"properties\": {\n        \"dtype\": \"number\",\n        \"std\": 0,\n        \"min\": 0,\n        \"max\": 1,\n        \"num_unique_values\": 2,\n        \"samples\": [\n          0,\n          1\n        ],\n        \"semantic_type\": \"\",\n        \"description\": \"\"\n      }\n    },\n    {\n      \"column\": \"joy\",\n      \"properties\": {\n        \"dtype\": \"number\",\n        \"std\": 0,\n        \"min\": 0,\n        \"max\": 1,\n        \"num_unique_values\": 2,\n        \"samples\": [\n          1,\n          0\n        ],\n        \"semantic_type\": \"\",\n        \"description\": \"\"\n      }\n    },\n    {\n      \"column\": \"love\",\n      \"properties\": {\n        \"dtype\": \"number\",\n        \"std\": 0,\n        \"min\": 0,\n        \"max\": 1,\n        \"num_unique_values\": 2,\n        \"samples\": [\n          1,\n          0\n        ],\n        \"semantic_type\": \"\",\n        \"description\": \"\"\n      }\n    },\n    {\n      \"column\": \"optimism\",\n      \"properties\": {\n        \"dtype\": \"number\",\n        \"std\": 0,\n        \"min\": 0,\n        \"max\": 1,\n        \"num_unique_values\": 2,\n        \"samples\": [\n          0,\n          1\n        ],\n        \"semantic_type\": \"\",\n        \"description\": \"\"\n      }\n    },\n    {\n      \"column\": \"pessimism\",\n      \"properties\": {\n        \"dtype\": \"number\",\n        \"std\": 0,\n        \"min\": 0,\n        \"max\": 1,\n        \"num_unique_values\": 2,\n        \"samples\": [\n          1,\n          0\n        ],\n        \"semantic_type\": \"\",\n        \"description\": \"\"\n      }\n    },\n    {\n      \"column\": \"sadness\",\n      \"properties\": {\n        \"dtype\": \"number\",\n        \"std\": 0,\n        \"min\": 0,\n        \"max\": 1,\n        \"num_unique_values\": 2,\n        \"samples\": [\n          1,\n          0\n        ],\n        \"semantic_type\": \"\",\n        \"description\": \"\"\n      }\n    },\n    {\n      \"column\": \"surprise\",\n      \"properties\": {\n        \"dtype\": \"number\",\n        \"std\": 0,\n        \"min\": 0,\n        \"max\": 1,\n        \"num_unique_values\": 2,\n        \"samples\": [\n          1,\n          0\n        ],\n        \"semantic_type\": \"\",\n        \"description\": \"\"\n      }\n    },\n    {\n      \"column\": \"trust\",\n      \"properties\": {\n        \"dtype\": \"number\",\n        \"std\": 0,\n        \"min\": 0,\n        \"max\": 1,\n        \"num_unique_values\": 2,\n        \"samples\": [\n          1,\n          0\n        ],\n        \"semantic_type\": \"\",\n        \"description\": \"\"\n      }\n    }\n  ]\n}"
            }
          },
          "metadata": {},
          "execution_count": 80
        }
      ]
    },
    {
      "cell_type": "code",
      "source": [
        "# Save predictions to CSV\n",
        "predictions_df.to_csv(\"predictions_llama.csv\", index=False)\n",
        "print(\"Predictions saved to predictions_llama.csv\")\n"
      ],
      "metadata": {
        "id": "iqVpRn4aciiv",
        "colab": {
          "base_uri": "https://localhost:8080/"
        },
        "outputId": "e88032f5-b066-4c33-92ee-1917b22c9fb4"
      },
      "execution_count": null,
      "outputs": [
        {
          "output_type": "stream",
          "name": "stdout",
          "text": [
            "Predictions saved to predictions_llama.csv\n"
          ]
        }
      ]
    },
    {
      "cell_type": "markdown",
      "source": [],
      "metadata": {
        "id": "LZm7497HqOKW"
      }
    },
    {
      "cell_type": "code",
      "source": [],
      "metadata": {
        "id": "C5maCjfKsKfw"
      },
      "execution_count": null,
      "outputs": []
    }
  ]
}