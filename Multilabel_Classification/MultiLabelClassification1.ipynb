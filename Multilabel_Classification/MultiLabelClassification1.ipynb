{
  "nbformat": 4,
  "nbformat_minor": 0,
  "metadata": {
    "colab": {
      "provenance": [],
      "machine_shape": "hm",
      "gpuType": "A100"
    },
    "kernelspec": {
      "name": "python3",
      "display_name": "Python 3"
    },
    "language_info": {
      "name": "python"
    },
    "accelerator": "GPU"
  },
  "cells": [
    {
      "cell_type": "code",
      "execution_count": 4,
      "metadata": {
        "id": "b-kn64FJ4jF6"
      },
      "outputs": [],
      "source": [
        "import joblib\n",
        "stackxg = joblib.load(\"df_multilabel_hw_cleaned.joblib\")"
      ]
    },
    {
      "cell_type": "code",
      "source": [
        "stackxg.head()"
      ],
      "metadata": {
        "colab": {
          "base_uri": "https://localhost:8080/",
          "height": 206
        },
        "id": "HPo0p-H_5262",
        "outputId": "69655d57-2610-47ce-a25b-c7d77f7c999c"
      },
      "execution_count": 5,
      "outputs": [
        {
          "output_type": "execute_result",
          "data": {
            "text/plain": [
              "                                        cleaned_text               Tags  \\\n",
              "0  asp query stre dropdown webpage follow control...         c# asp.net   \n",
              "1  run javascript code server java code want run ...    java javascript   \n",
              "2  linq sql throw exception row find change hi li...         c# asp.net   \n",
              "3  run python script php server run nginx web ser...         php python   \n",
              "4  advice write function m try write function res...  javascript jquery   \n",
              "\n",
              "  Tag_Number  \n",
              "0     [0, 9]  \n",
              "1     [1, 3]  \n",
              "2     [0, 9]  \n",
              "3     [2, 7]  \n",
              "4     [3, 5]  "
            ],
            "text/html": [
              "\n",
              "  <div id=\"df-18dce002-0973-4a90-9920-cf61cc901ee8\" class=\"colab-df-container\">\n",
              "    <div>\n",
              "<style scoped>\n",
              "    .dataframe tbody tr th:only-of-type {\n",
              "        vertical-align: middle;\n",
              "    }\n",
              "\n",
              "    .dataframe tbody tr th {\n",
              "        vertical-align: top;\n",
              "    }\n",
              "\n",
              "    .dataframe thead th {\n",
              "        text-align: right;\n",
              "    }\n",
              "</style>\n",
              "<table border=\"1\" class=\"dataframe\">\n",
              "  <thead>\n",
              "    <tr style=\"text-align: right;\">\n",
              "      <th></th>\n",
              "      <th>cleaned_text</th>\n",
              "      <th>Tags</th>\n",
              "      <th>Tag_Number</th>\n",
              "    </tr>\n",
              "  </thead>\n",
              "  <tbody>\n",
              "    <tr>\n",
              "      <th>0</th>\n",
              "      <td>asp query stre dropdown webpage follow control...</td>\n",
              "      <td>c# asp.net</td>\n",
              "      <td>[0, 9]</td>\n",
              "    </tr>\n",
              "    <tr>\n",
              "      <th>1</th>\n",
              "      <td>run javascript code server java code want run ...</td>\n",
              "      <td>java javascript</td>\n",
              "      <td>[1, 3]</td>\n",
              "    </tr>\n",
              "    <tr>\n",
              "      <th>2</th>\n",
              "      <td>linq sql throw exception row find change hi li...</td>\n",
              "      <td>c# asp.net</td>\n",
              "      <td>[0, 9]</td>\n",
              "    </tr>\n",
              "    <tr>\n",
              "      <th>3</th>\n",
              "      <td>run python script php server run nginx web ser...</td>\n",
              "      <td>php python</td>\n",
              "      <td>[2, 7]</td>\n",
              "    </tr>\n",
              "    <tr>\n",
              "      <th>4</th>\n",
              "      <td>advice write function m try write function res...</td>\n",
              "      <td>javascript jquery</td>\n",
              "      <td>[3, 5]</td>\n",
              "    </tr>\n",
              "  </tbody>\n",
              "</table>\n",
              "</div>\n",
              "    <div class=\"colab-df-buttons\">\n",
              "\n",
              "  <div class=\"colab-df-container\">\n",
              "    <button class=\"colab-df-convert\" onclick=\"convertToInteractive('df-18dce002-0973-4a90-9920-cf61cc901ee8')\"\n",
              "            title=\"Convert this dataframe to an interactive table.\"\n",
              "            style=\"display:none;\">\n",
              "\n",
              "  <svg xmlns=\"http://www.w3.org/2000/svg\" height=\"24px\" viewBox=\"0 -960 960 960\">\n",
              "    <path d=\"M120-120v-720h720v720H120Zm60-500h600v-160H180v160Zm220 220h160v-160H400v160Zm0 220h160v-160H400v160ZM180-400h160v-160H180v160Zm440 0h160v-160H620v160ZM180-180h160v-160H180v160Zm440 0h160v-160H620v160Z\"/>\n",
              "  </svg>\n",
              "    </button>\n",
              "\n",
              "  <style>\n",
              "    .colab-df-container {\n",
              "      display:flex;\n",
              "      gap: 12px;\n",
              "    }\n",
              "\n",
              "    .colab-df-convert {\n",
              "      background-color: #E8F0FE;\n",
              "      border: none;\n",
              "      border-radius: 50%;\n",
              "      cursor: pointer;\n",
              "      display: none;\n",
              "      fill: #1967D2;\n",
              "      height: 32px;\n",
              "      padding: 0 0 0 0;\n",
              "      width: 32px;\n",
              "    }\n",
              "\n",
              "    .colab-df-convert:hover {\n",
              "      background-color: #E2EBFA;\n",
              "      box-shadow: 0px 1px 2px rgba(60, 64, 67, 0.3), 0px 1px 3px 1px rgba(60, 64, 67, 0.15);\n",
              "      fill: #174EA6;\n",
              "    }\n",
              "\n",
              "    .colab-df-buttons div {\n",
              "      margin-bottom: 4px;\n",
              "    }\n",
              "\n",
              "    [theme=dark] .colab-df-convert {\n",
              "      background-color: #3B4455;\n",
              "      fill: #D2E3FC;\n",
              "    }\n",
              "\n",
              "    [theme=dark] .colab-df-convert:hover {\n",
              "      background-color: #434B5C;\n",
              "      box-shadow: 0px 1px 3px 1px rgba(0, 0, 0, 0.15);\n",
              "      filter: drop-shadow(0px 1px 2px rgba(0, 0, 0, 0.3));\n",
              "      fill: #FFFFFF;\n",
              "    }\n",
              "  </style>\n",
              "\n",
              "    <script>\n",
              "      const buttonEl =\n",
              "        document.querySelector('#df-18dce002-0973-4a90-9920-cf61cc901ee8 button.colab-df-convert');\n",
              "      buttonEl.style.display =\n",
              "        google.colab.kernel.accessAllowed ? 'block' : 'none';\n",
              "\n",
              "      async function convertToInteractive(key) {\n",
              "        const element = document.querySelector('#df-18dce002-0973-4a90-9920-cf61cc901ee8');\n",
              "        const dataTable =\n",
              "          await google.colab.kernel.invokeFunction('convertToInteractive',\n",
              "                                                    [key], {});\n",
              "        if (!dataTable) return;\n",
              "\n",
              "        const docLinkHtml = 'Like what you see? Visit the ' +\n",
              "          '<a target=\"_blank\" href=https://colab.research.google.com/notebooks/data_table.ipynb>data table notebook</a>'\n",
              "          + ' to learn more about interactive tables.';\n",
              "        element.innerHTML = '';\n",
              "        dataTable['output_type'] = 'display_data';\n",
              "        await google.colab.output.renderOutput(dataTable, element);\n",
              "        const docLink = document.createElement('div');\n",
              "        docLink.innerHTML = docLinkHtml;\n",
              "        element.appendChild(docLink);\n",
              "      }\n",
              "    </script>\n",
              "  </div>\n",
              "\n",
              "\n",
              "<div id=\"df-dee80782-3455-4993-8252-bf72bd206919\">\n",
              "  <button class=\"colab-df-quickchart\" onclick=\"quickchart('df-dee80782-3455-4993-8252-bf72bd206919')\"\n",
              "            title=\"Suggest charts\"\n",
              "            style=\"display:none;\">\n",
              "\n",
              "<svg xmlns=\"http://www.w3.org/2000/svg\" height=\"24px\"viewBox=\"0 0 24 24\"\n",
              "     width=\"24px\">\n",
              "    <g>\n",
              "        <path d=\"M19 3H5c-1.1 0-2 .9-2 2v14c0 1.1.9 2 2 2h14c1.1 0 2-.9 2-2V5c0-1.1-.9-2-2-2zM9 17H7v-7h2v7zm4 0h-2V7h2v10zm4 0h-2v-4h2v4z\"/>\n",
              "    </g>\n",
              "</svg>\n",
              "  </button>\n",
              "\n",
              "<style>\n",
              "  .colab-df-quickchart {\n",
              "      --bg-color: #E8F0FE;\n",
              "      --fill-color: #1967D2;\n",
              "      --hover-bg-color: #E2EBFA;\n",
              "      --hover-fill-color: #174EA6;\n",
              "      --disabled-fill-color: #AAA;\n",
              "      --disabled-bg-color: #DDD;\n",
              "  }\n",
              "\n",
              "  [theme=dark] .colab-df-quickchart {\n",
              "      --bg-color: #3B4455;\n",
              "      --fill-color: #D2E3FC;\n",
              "      --hover-bg-color: #434B5C;\n",
              "      --hover-fill-color: #FFFFFF;\n",
              "      --disabled-bg-color: #3B4455;\n",
              "      --disabled-fill-color: #666;\n",
              "  }\n",
              "\n",
              "  .colab-df-quickchart {\n",
              "    background-color: var(--bg-color);\n",
              "    border: none;\n",
              "    border-radius: 50%;\n",
              "    cursor: pointer;\n",
              "    display: none;\n",
              "    fill: var(--fill-color);\n",
              "    height: 32px;\n",
              "    padding: 0;\n",
              "    width: 32px;\n",
              "  }\n",
              "\n",
              "  .colab-df-quickchart:hover {\n",
              "    background-color: var(--hover-bg-color);\n",
              "    box-shadow: 0 1px 2px rgba(60, 64, 67, 0.3), 0 1px 3px 1px rgba(60, 64, 67, 0.15);\n",
              "    fill: var(--button-hover-fill-color);\n",
              "  }\n",
              "\n",
              "  .colab-df-quickchart-complete:disabled,\n",
              "  .colab-df-quickchart-complete:disabled:hover {\n",
              "    background-color: var(--disabled-bg-color);\n",
              "    fill: var(--disabled-fill-color);\n",
              "    box-shadow: none;\n",
              "  }\n",
              "\n",
              "  .colab-df-spinner {\n",
              "    border: 2px solid var(--fill-color);\n",
              "    border-color: transparent;\n",
              "    border-bottom-color: var(--fill-color);\n",
              "    animation:\n",
              "      spin 1s steps(1) infinite;\n",
              "  }\n",
              "\n",
              "  @keyframes spin {\n",
              "    0% {\n",
              "      border-color: transparent;\n",
              "      border-bottom-color: var(--fill-color);\n",
              "      border-left-color: var(--fill-color);\n",
              "    }\n",
              "    20% {\n",
              "      border-color: transparent;\n",
              "      border-left-color: var(--fill-color);\n",
              "      border-top-color: var(--fill-color);\n",
              "    }\n",
              "    30% {\n",
              "      border-color: transparent;\n",
              "      border-left-color: var(--fill-color);\n",
              "      border-top-color: var(--fill-color);\n",
              "      border-right-color: var(--fill-color);\n",
              "    }\n",
              "    40% {\n",
              "      border-color: transparent;\n",
              "      border-right-color: var(--fill-color);\n",
              "      border-top-color: var(--fill-color);\n",
              "    }\n",
              "    60% {\n",
              "      border-color: transparent;\n",
              "      border-right-color: var(--fill-color);\n",
              "    }\n",
              "    80% {\n",
              "      border-color: transparent;\n",
              "      border-right-color: var(--fill-color);\n",
              "      border-bottom-color: var(--fill-color);\n",
              "    }\n",
              "    90% {\n",
              "      border-color: transparent;\n",
              "      border-bottom-color: var(--fill-color);\n",
              "    }\n",
              "  }\n",
              "</style>\n",
              "\n",
              "  <script>\n",
              "    async function quickchart(key) {\n",
              "      const quickchartButtonEl =\n",
              "        document.querySelector('#' + key + ' button');\n",
              "      quickchartButtonEl.disabled = true;  // To prevent multiple clicks.\n",
              "      quickchartButtonEl.classList.add('colab-df-spinner');\n",
              "      try {\n",
              "        const charts = await google.colab.kernel.invokeFunction(\n",
              "            'suggestCharts', [key], {});\n",
              "      } catch (error) {\n",
              "        console.error('Error during call to suggestCharts:', error);\n",
              "      }\n",
              "      quickchartButtonEl.classList.remove('colab-df-spinner');\n",
              "      quickchartButtonEl.classList.add('colab-df-quickchart-complete');\n",
              "    }\n",
              "    (() => {\n",
              "      let quickchartButtonEl =\n",
              "        document.querySelector('#df-dee80782-3455-4993-8252-bf72bd206919 button');\n",
              "      quickchartButtonEl.style.display =\n",
              "        google.colab.kernel.accessAllowed ? 'block' : 'none';\n",
              "    })();\n",
              "  </script>\n",
              "</div>\n",
              "\n",
              "    </div>\n",
              "  </div>\n"
            ],
            "application/vnd.google.colaboratory.intrinsic+json": {
              "type": "dataframe",
              "variable_name": "stackxg",
              "summary": "{\n  \"name\": \"stackxg\",\n  \"rows\": 47427,\n  \"fields\": [\n    {\n      \"column\": \"cleaned_text\",\n      \"properties\": {\n        \"dtype\": \"string\",\n        \"num_unique_values\": 36481,\n        \"samples\": [\n          \"fadein invisible list item jquery unordered list lis invisible display begin want specific li visible js function try $ list li nth child(1)\\\").fadein work ul visible begin code > li      display   < ul class=\\\"hide id=\\\"my list >      < li>1</li >      < li>2</li >      < li>3</li > < /ul >   try answer question feel free stab\",\n          \"deploy project server create website excel file mail d information mail d fetch excel file excel file send mail automatically mail d design subject cc bcc content create project export excel file fetch mail d ms access database send email automatically design deploy project ftp.i know create help regard padmapriya s  \",\n          \"custom keypad button functional app finish scoreboard app   user longclick score currently dialog box appear show edittext field ok cancel button   user click edittext field keypad appear number user type new score click edittext field show new value dialog box user click ok save enter value textview show current score problem feel cumbersome   like happen   user longclick score keypad appear user enter new score user click ok keypad disappear value save textview update current score   order accomplish think thing   create new class extend view new android understand option replace edittext dialog new xml file design like keypad   option 2   figure probably easy design xml layout call   user longclick file inflate dialog ok cancel   far good   know code button action thought figure setup onclick listener button layout   figure button go perform exact function   basically text button case 0 9 append textview keypad   user click ok save textview current score textview help point right direction accomplish screenshot textview number   xml code < xml version=\\\"1.0 encoding=\\\"utf-8 > < gridlayout xmlns apk res android android layout_width=\\\"wrap_content android layout_height=\\\"wrap_content android layout_gravity=\\\"fill android columncount=\\\"3 >   < textview      android id=\\\"@+id textview1      android layout_columnspan=\\\"3      android layout_gravity=\\\"fill      android gravity=\\\"right|center_vertical      android textsize=\\\"24sp >   < button android text=\\\"1 >   < button android text=\\\"2 >   < button android text=\\\"3 > < button android text=\\\"4 > < button android text=\\\"5 > < button android text=\\\"6 > < button android text=\\\"7 > < button android text=\\\"8 > < button android text=\\\"9 >   < button      android layout_columnspan=\\\"3      android layout_gravity=\\\"fill      android gravity=\\\"center      android text=\\\"0 >   \"\n        ],\n        \"semantic_type\": \"\",\n        \"description\": \"\"\n      }\n    },\n    {\n      \"column\": \"Tags\",\n      \"properties\": {\n        \"dtype\": \"category\",\n        \"num_unique_values\": 176,\n        \"samples\": [\n          \"javascript asp.net\",\n          \"c# asp.net jquery\",\n          \"c# java python\"\n        ],\n        \"semantic_type\": \"\",\n        \"description\": \"\"\n      }\n    },\n    {\n      \"column\": \"Tag_Number\",\n      \"properties\": {\n        \"dtype\": \"category\",\n        \"num_unique_values\": 176,\n        \"samples\": [\n          \"[3, 9]\",\n          \"[0, 9, 5]\",\n          \"[0, 1, 7]\"\n        ],\n        \"semantic_type\": \"\",\n        \"description\": \"\"\n      }\n    }\n  ]\n}"
            }
          },
          "metadata": {},
          "execution_count": 5
        }
      ]
    },
    {
      "cell_type": "markdown",
      "source": [
        "**Step 1: One hot encoding of the target labels using MultiLabelBinarizer**"
      ],
      "metadata": {
        "id": "b4mw7d6v0QVp"
      }
    },
    {
      "cell_type": "code",
      "source": [
        "import ast\n",
        "from ast import literal_eval\n",
        "stackxg['Tag_Number'] = stackxg['Tag_Number'].apply(literal_eval)\n",
        "stackxg.head()"
      ],
      "metadata": {
        "colab": {
          "base_uri": "https://localhost:8080/",
          "height": 206
        },
        "id": "iy6ZRy-S56kI",
        "outputId": "54019b25-6742-4d3e-cd6f-9c9b255b790d"
      },
      "execution_count": 6,
      "outputs": [
        {
          "output_type": "execute_result",
          "data": {
            "text/plain": [
              "                                        cleaned_text               Tags  \\\n",
              "0  asp query stre dropdown webpage follow control...         c# asp.net   \n",
              "1  run javascript code server java code want run ...    java javascript   \n",
              "2  linq sql throw exception row find change hi li...         c# asp.net   \n",
              "3  run python script php server run nginx web ser...         php python   \n",
              "4  advice write function m try write function res...  javascript jquery   \n",
              "\n",
              "  Tag_Number  \n",
              "0     [0, 9]  \n",
              "1     [1, 3]  \n",
              "2     [0, 9]  \n",
              "3     [2, 7]  \n",
              "4     [3, 5]  "
            ],
            "text/html": [
              "\n",
              "  <div id=\"df-e9b0e6ce-0fcd-483f-9306-1d762b3d6224\" class=\"colab-df-container\">\n",
              "    <div>\n",
              "<style scoped>\n",
              "    .dataframe tbody tr th:only-of-type {\n",
              "        vertical-align: middle;\n",
              "    }\n",
              "\n",
              "    .dataframe tbody tr th {\n",
              "        vertical-align: top;\n",
              "    }\n",
              "\n",
              "    .dataframe thead th {\n",
              "        text-align: right;\n",
              "    }\n",
              "</style>\n",
              "<table border=\"1\" class=\"dataframe\">\n",
              "  <thead>\n",
              "    <tr style=\"text-align: right;\">\n",
              "      <th></th>\n",
              "      <th>cleaned_text</th>\n",
              "      <th>Tags</th>\n",
              "      <th>Tag_Number</th>\n",
              "    </tr>\n",
              "  </thead>\n",
              "  <tbody>\n",
              "    <tr>\n",
              "      <th>0</th>\n",
              "      <td>asp query stre dropdown webpage follow control...</td>\n",
              "      <td>c# asp.net</td>\n",
              "      <td>[0, 9]</td>\n",
              "    </tr>\n",
              "    <tr>\n",
              "      <th>1</th>\n",
              "      <td>run javascript code server java code want run ...</td>\n",
              "      <td>java javascript</td>\n",
              "      <td>[1, 3]</td>\n",
              "    </tr>\n",
              "    <tr>\n",
              "      <th>2</th>\n",
              "      <td>linq sql throw exception row find change hi li...</td>\n",
              "      <td>c# asp.net</td>\n",
              "      <td>[0, 9]</td>\n",
              "    </tr>\n",
              "    <tr>\n",
              "      <th>3</th>\n",
              "      <td>run python script php server run nginx web ser...</td>\n",
              "      <td>php python</td>\n",
              "      <td>[2, 7]</td>\n",
              "    </tr>\n",
              "    <tr>\n",
              "      <th>4</th>\n",
              "      <td>advice write function m try write function res...</td>\n",
              "      <td>javascript jquery</td>\n",
              "      <td>[3, 5]</td>\n",
              "    </tr>\n",
              "  </tbody>\n",
              "</table>\n",
              "</div>\n",
              "    <div class=\"colab-df-buttons\">\n",
              "\n",
              "  <div class=\"colab-df-container\">\n",
              "    <button class=\"colab-df-convert\" onclick=\"convertToInteractive('df-e9b0e6ce-0fcd-483f-9306-1d762b3d6224')\"\n",
              "            title=\"Convert this dataframe to an interactive table.\"\n",
              "            style=\"display:none;\">\n",
              "\n",
              "  <svg xmlns=\"http://www.w3.org/2000/svg\" height=\"24px\" viewBox=\"0 -960 960 960\">\n",
              "    <path d=\"M120-120v-720h720v720H120Zm60-500h600v-160H180v160Zm220 220h160v-160H400v160Zm0 220h160v-160H400v160ZM180-400h160v-160H180v160Zm440 0h160v-160H620v160ZM180-180h160v-160H180v160Zm440 0h160v-160H620v160Z\"/>\n",
              "  </svg>\n",
              "    </button>\n",
              "\n",
              "  <style>\n",
              "    .colab-df-container {\n",
              "      display:flex;\n",
              "      gap: 12px;\n",
              "    }\n",
              "\n",
              "    .colab-df-convert {\n",
              "      background-color: #E8F0FE;\n",
              "      border: none;\n",
              "      border-radius: 50%;\n",
              "      cursor: pointer;\n",
              "      display: none;\n",
              "      fill: #1967D2;\n",
              "      height: 32px;\n",
              "      padding: 0 0 0 0;\n",
              "      width: 32px;\n",
              "    }\n",
              "\n",
              "    .colab-df-convert:hover {\n",
              "      background-color: #E2EBFA;\n",
              "      box-shadow: 0px 1px 2px rgba(60, 64, 67, 0.3), 0px 1px 3px 1px rgba(60, 64, 67, 0.15);\n",
              "      fill: #174EA6;\n",
              "    }\n",
              "\n",
              "    .colab-df-buttons div {\n",
              "      margin-bottom: 4px;\n",
              "    }\n",
              "\n",
              "    [theme=dark] .colab-df-convert {\n",
              "      background-color: #3B4455;\n",
              "      fill: #D2E3FC;\n",
              "    }\n",
              "\n",
              "    [theme=dark] .colab-df-convert:hover {\n",
              "      background-color: #434B5C;\n",
              "      box-shadow: 0px 1px 3px 1px rgba(0, 0, 0, 0.15);\n",
              "      filter: drop-shadow(0px 1px 2px rgba(0, 0, 0, 0.3));\n",
              "      fill: #FFFFFF;\n",
              "    }\n",
              "  </style>\n",
              "\n",
              "    <script>\n",
              "      const buttonEl =\n",
              "        document.querySelector('#df-e9b0e6ce-0fcd-483f-9306-1d762b3d6224 button.colab-df-convert');\n",
              "      buttonEl.style.display =\n",
              "        google.colab.kernel.accessAllowed ? 'block' : 'none';\n",
              "\n",
              "      async function convertToInteractive(key) {\n",
              "        const element = document.querySelector('#df-e9b0e6ce-0fcd-483f-9306-1d762b3d6224');\n",
              "        const dataTable =\n",
              "          await google.colab.kernel.invokeFunction('convertToInteractive',\n",
              "                                                    [key], {});\n",
              "        if (!dataTable) return;\n",
              "\n",
              "        const docLinkHtml = 'Like what you see? Visit the ' +\n",
              "          '<a target=\"_blank\" href=https://colab.research.google.com/notebooks/data_table.ipynb>data table notebook</a>'\n",
              "          + ' to learn more about interactive tables.';\n",
              "        element.innerHTML = '';\n",
              "        dataTable['output_type'] = 'display_data';\n",
              "        await google.colab.output.renderOutput(dataTable, element);\n",
              "        const docLink = document.createElement('div');\n",
              "        docLink.innerHTML = docLinkHtml;\n",
              "        element.appendChild(docLink);\n",
              "      }\n",
              "    </script>\n",
              "  </div>\n",
              "\n",
              "\n",
              "<div id=\"df-72c61021-e930-4aac-89c4-97d7f91749d7\">\n",
              "  <button class=\"colab-df-quickchart\" onclick=\"quickchart('df-72c61021-e930-4aac-89c4-97d7f91749d7')\"\n",
              "            title=\"Suggest charts\"\n",
              "            style=\"display:none;\">\n",
              "\n",
              "<svg xmlns=\"http://www.w3.org/2000/svg\" height=\"24px\"viewBox=\"0 0 24 24\"\n",
              "     width=\"24px\">\n",
              "    <g>\n",
              "        <path d=\"M19 3H5c-1.1 0-2 .9-2 2v14c0 1.1.9 2 2 2h14c1.1 0 2-.9 2-2V5c0-1.1-.9-2-2-2zM9 17H7v-7h2v7zm4 0h-2V7h2v10zm4 0h-2v-4h2v4z\"/>\n",
              "    </g>\n",
              "</svg>\n",
              "  </button>\n",
              "\n",
              "<style>\n",
              "  .colab-df-quickchart {\n",
              "      --bg-color: #E8F0FE;\n",
              "      --fill-color: #1967D2;\n",
              "      --hover-bg-color: #E2EBFA;\n",
              "      --hover-fill-color: #174EA6;\n",
              "      --disabled-fill-color: #AAA;\n",
              "      --disabled-bg-color: #DDD;\n",
              "  }\n",
              "\n",
              "  [theme=dark] .colab-df-quickchart {\n",
              "      --bg-color: #3B4455;\n",
              "      --fill-color: #D2E3FC;\n",
              "      --hover-bg-color: #434B5C;\n",
              "      --hover-fill-color: #FFFFFF;\n",
              "      --disabled-bg-color: #3B4455;\n",
              "      --disabled-fill-color: #666;\n",
              "  }\n",
              "\n",
              "  .colab-df-quickchart {\n",
              "    background-color: var(--bg-color);\n",
              "    border: none;\n",
              "    border-radius: 50%;\n",
              "    cursor: pointer;\n",
              "    display: none;\n",
              "    fill: var(--fill-color);\n",
              "    height: 32px;\n",
              "    padding: 0;\n",
              "    width: 32px;\n",
              "  }\n",
              "\n",
              "  .colab-df-quickchart:hover {\n",
              "    background-color: var(--hover-bg-color);\n",
              "    box-shadow: 0 1px 2px rgba(60, 64, 67, 0.3), 0 1px 3px 1px rgba(60, 64, 67, 0.15);\n",
              "    fill: var(--button-hover-fill-color);\n",
              "  }\n",
              "\n",
              "  .colab-df-quickchart-complete:disabled,\n",
              "  .colab-df-quickchart-complete:disabled:hover {\n",
              "    background-color: var(--disabled-bg-color);\n",
              "    fill: var(--disabled-fill-color);\n",
              "    box-shadow: none;\n",
              "  }\n",
              "\n",
              "  .colab-df-spinner {\n",
              "    border: 2px solid var(--fill-color);\n",
              "    border-color: transparent;\n",
              "    border-bottom-color: var(--fill-color);\n",
              "    animation:\n",
              "      spin 1s steps(1) infinite;\n",
              "  }\n",
              "\n",
              "  @keyframes spin {\n",
              "    0% {\n",
              "      border-color: transparent;\n",
              "      border-bottom-color: var(--fill-color);\n",
              "      border-left-color: var(--fill-color);\n",
              "    }\n",
              "    20% {\n",
              "      border-color: transparent;\n",
              "      border-left-color: var(--fill-color);\n",
              "      border-top-color: var(--fill-color);\n",
              "    }\n",
              "    30% {\n",
              "      border-color: transparent;\n",
              "      border-left-color: var(--fill-color);\n",
              "      border-top-color: var(--fill-color);\n",
              "      border-right-color: var(--fill-color);\n",
              "    }\n",
              "    40% {\n",
              "      border-color: transparent;\n",
              "      border-right-color: var(--fill-color);\n",
              "      border-top-color: var(--fill-color);\n",
              "    }\n",
              "    60% {\n",
              "      border-color: transparent;\n",
              "      border-right-color: var(--fill-color);\n",
              "    }\n",
              "    80% {\n",
              "      border-color: transparent;\n",
              "      border-right-color: var(--fill-color);\n",
              "      border-bottom-color: var(--fill-color);\n",
              "    }\n",
              "    90% {\n",
              "      border-color: transparent;\n",
              "      border-bottom-color: var(--fill-color);\n",
              "    }\n",
              "  }\n",
              "</style>\n",
              "\n",
              "  <script>\n",
              "    async function quickchart(key) {\n",
              "      const quickchartButtonEl =\n",
              "        document.querySelector('#' + key + ' button');\n",
              "      quickchartButtonEl.disabled = true;  // To prevent multiple clicks.\n",
              "      quickchartButtonEl.classList.add('colab-df-spinner');\n",
              "      try {\n",
              "        const charts = await google.colab.kernel.invokeFunction(\n",
              "            'suggestCharts', [key], {});\n",
              "      } catch (error) {\n",
              "        console.error('Error during call to suggestCharts:', error);\n",
              "      }\n",
              "      quickchartButtonEl.classList.remove('colab-df-spinner');\n",
              "      quickchartButtonEl.classList.add('colab-df-quickchart-complete');\n",
              "    }\n",
              "    (() => {\n",
              "      let quickchartButtonEl =\n",
              "        document.querySelector('#df-72c61021-e930-4aac-89c4-97d7f91749d7 button');\n",
              "      quickchartButtonEl.style.display =\n",
              "        google.colab.kernel.accessAllowed ? 'block' : 'none';\n",
              "    })();\n",
              "  </script>\n",
              "</div>\n",
              "\n",
              "    </div>\n",
              "  </div>\n"
            ],
            "application/vnd.google.colaboratory.intrinsic+json": {
              "type": "dataframe",
              "variable_name": "stackxg",
              "summary": "{\n  \"name\": \"stackxg\",\n  \"rows\": 47427,\n  \"fields\": [\n    {\n      \"column\": \"cleaned_text\",\n      \"properties\": {\n        \"dtype\": \"string\",\n        \"num_unique_values\": 36481,\n        \"samples\": [\n          \"fadein invisible list item jquery unordered list lis invisible display begin want specific li visible js function try $ list li nth child(1)\\\").fadein work ul visible begin code > li      display   < ul class=\\\"hide id=\\\"my list >      < li>1</li >      < li>2</li >      < li>3</li > < /ul >   try answer question feel free stab\",\n          \"deploy project server create website excel file mail d information mail d fetch excel file excel file send mail automatically mail d design subject cc bcc content create project export excel file fetch mail d ms access database send email automatically design deploy project ftp.i know create help regard padmapriya s  \",\n          \"custom keypad button functional app finish scoreboard app   user longclick score currently dialog box appear show edittext field ok cancel button   user click edittext field keypad appear number user type new score click edittext field show new value dialog box user click ok save enter value textview show current score problem feel cumbersome   like happen   user longclick score keypad appear user enter new score user click ok keypad disappear value save textview update current score   order accomplish think thing   create new class extend view new android understand option replace edittext dialog new xml file design like keypad   option 2   figure probably easy design xml layout call   user longclick file inflate dialog ok cancel   far good   know code button action thought figure setup onclick listener button layout   figure button go perform exact function   basically text button case 0 9 append textview keypad   user click ok save textview current score textview help point right direction accomplish screenshot textview number   xml code < xml version=\\\"1.0 encoding=\\\"utf-8 > < gridlayout xmlns apk res android android layout_width=\\\"wrap_content android layout_height=\\\"wrap_content android layout_gravity=\\\"fill android columncount=\\\"3 >   < textview      android id=\\\"@+id textview1      android layout_columnspan=\\\"3      android layout_gravity=\\\"fill      android gravity=\\\"right|center_vertical      android textsize=\\\"24sp >   < button android text=\\\"1 >   < button android text=\\\"2 >   < button android text=\\\"3 > < button android text=\\\"4 > < button android text=\\\"5 > < button android text=\\\"6 > < button android text=\\\"7 > < button android text=\\\"8 > < button android text=\\\"9 >   < button      android layout_columnspan=\\\"3      android layout_gravity=\\\"fill      android gravity=\\\"center      android text=\\\"0 >   \"\n        ],\n        \"semantic_type\": \"\",\n        \"description\": \"\"\n      }\n    },\n    {\n      \"column\": \"Tags\",\n      \"properties\": {\n        \"dtype\": \"category\",\n        \"num_unique_values\": 176,\n        \"samples\": [\n          \"javascript asp.net\",\n          \"c# asp.net jquery\",\n          \"c# java python\"\n        ],\n        \"semantic_type\": \"\",\n        \"description\": \"\"\n      }\n    },\n    {\n      \"column\": \"Tag_Number\",\n      \"properties\": {\n        \"dtype\": \"object\",\n        \"semantic_type\": \"\",\n        \"description\": \"\"\n      }\n    }\n  ]\n}"
            }
          },
          "metadata": {},
          "execution_count": 6
        }
      ]
    },
    {
      "cell_type": "code",
      "source": [
        "!pip install scikit-learn\n",
        "from sklearn.preprocessing import MultiLabelBinarizer"
      ],
      "metadata": {
        "colab": {
          "base_uri": "https://localhost:8080/"
        },
        "id": "GlHjiwn_6PVa",
        "outputId": "93bf3a2e-1e4b-4433-9cdd-e2ae2c0d9b23"
      },
      "execution_count": 7,
      "outputs": [
        {
          "output_type": "stream",
          "name": "stdout",
          "text": [
            "Requirement already satisfied: scikit-learn in /usr/local/lib/python3.10/dist-packages (1.5.2)\n",
            "Requirement already satisfied: numpy>=1.19.5 in /usr/local/lib/python3.10/dist-packages (from scikit-learn) (1.26.4)\n",
            "Requirement already satisfied: scipy>=1.6.0 in /usr/local/lib/python3.10/dist-packages (from scikit-learn) (1.13.1)\n",
            "Requirement already satisfied: joblib>=1.2.0 in /usr/local/lib/python3.10/dist-packages (from scikit-learn) (1.4.2)\n",
            "Requirement already satisfied: threadpoolctl>=3.1.0 in /usr/local/lib/python3.10/dist-packages (from scikit-learn) (3.5.0)\n"
          ]
        }
      ]
    },
    {
      "cell_type": "code",
      "source": [
        "mlbinarizer = MultiLabelBinarizer()\n",
        "targets = mlbinarizer.fit_transform(stackxg['Tag_Number'])\n",
        "targets"
      ],
      "metadata": {
        "colab": {
          "base_uri": "https://localhost:8080/"
        },
        "id": "kWate_cC6m3r",
        "outputId": "240abceb-7105-4d0c-dc9a-d29a5733707b"
      },
      "execution_count": 8,
      "outputs": [
        {
          "output_type": "execute_result",
          "data": {
            "text/plain": [
              "array([[1, 0, 0, ..., 0, 0, 1],\n",
              "       [0, 1, 0, ..., 0, 0, 0],\n",
              "       [1, 0, 0, ..., 0, 0, 1],\n",
              "       ...,\n",
              "       [0, 1, 0, ..., 0, 0, 0],\n",
              "       [0, 0, 0, ..., 0, 0, 1],\n",
              "       [0, 0, 0, ..., 0, 0, 0]])"
            ]
          },
          "metadata": {},
          "execution_count": 8
        }
      ]
    },
    {
      "cell_type": "markdown",
      "source": [
        "**Step2: Train test split**"
      ],
      "metadata": {
        "id": "RYKftVKe0esz"
      }
    },
    {
      "cell_type": "code",
      "source": [
        "from sklearn.model_selection import train_test_split\n",
        "\n",
        "X, y = list(stackxg['cleaned_text'].values), targets\n",
        "X_train, X_test, y_train, y_test = train_test_split(X, y, test_size=0.2, random_state=42)\n"
      ],
      "metadata": {
        "id": "dMtBSXGT7UVD"
      },
      "execution_count": 9,
      "outputs": []
    },
    {
      "cell_type": "code",
      "source": [
        "X_train1, X_val, y_train1, y_val = train_test_split(X_train, y_train, test_size=0.2, random_state=42)"
      ],
      "metadata": {
        "id": "DBmERJv_Ad2P"
      },
      "execution_count": 10,
      "outputs": []
    },
    {
      "cell_type": "code",
      "source": [
        "type(y_train1)"
      ],
      "metadata": {
        "colab": {
          "base_uri": "https://localhost:8080/"
        },
        "id": "JaTWLmKZA98O",
        "outputId": "bf1fcf72-86a0-40e7-c49c-6f92257da701"
      },
      "execution_count": 11,
      "outputs": [
        {
          "output_type": "execute_result",
          "data": {
            "text/plain": [
              "numpy.ndarray"
            ]
          },
          "metadata": {},
          "execution_count": 11
        }
      ]
    },
    {
      "cell_type": "markdown",
      "source": [
        "**Step 3: Creating Custom datasets for loading the inputs and labels as a tuple**"
      ],
      "metadata": {
        "id": "AfeSco8M0jgl"
      }
    },
    {
      "cell_type": "code",
      "source": [
        "import torch\n",
        "class CustomDataset(torch.utils.data.Dataset):\n",
        "    \"\"\"\n",
        "    Custom Dataset class for loading Stack Exchange posts and labels.\n",
        "\n",
        "    Attributes:\n",
        "        X (numpy.ndarray): Feature data, an array of texts.\n",
        "        y (list or array-like): Target labels.\n",
        "    \"\"\"\n",
        "\n",
        "    def __init__(self, X, y):\n",
        "        \"\"\"\n",
        "        Initialize the dataset with feature and target data.\n",
        "\n",
        "        Args:\n",
        "            X (list or array-like): The feature data (texts).\n",
        "            y (list or array-like): The target labels.\n",
        "        \"\"\"\n",
        "        # Storing feature data (texts)\n",
        "        self.X = X\n",
        "\n",
        "        # Storing the target labels\n",
        "        self.y = y\n",
        "\n",
        "    def __len__(self):\n",
        "        \"\"\"\n",
        "        Return the number of samples in the dataset.\n",
        "\n",
        "        Returns:\n",
        "            int: The total number of samples.\n",
        "        \"\"\"\n",
        "        return len(self.X)\n",
        "\n",
        "    def __getitem__(self, idx):\n",
        "        \"\"\"\n",
        "        Fetch and return a single sample from the dataset at the given index.\n",
        "\n",
        "        Args:\n",
        "            idx (int): Index of the sample to fetch.\n",
        "\n",
        "        Returns:\n",
        "            tuple: A tuple containing the label and the text for the sample.\n",
        "        \"\"\"\n",
        "        # Retrieve the text and corresponding label from the dataset using the index\n",
        "        texts = self.X[idx]\n",
        "        labels = self.y[idx]\n",
        "\n",
        "        # Packing them into a tuple before returning\n",
        "        sample = (labels, texts)\n",
        "\n",
        "        return sample\n"
      ],
      "metadata": {
        "id": "5fqZSuUqEPKi"
      },
      "execution_count": 12,
      "outputs": []
    },
    {
      "cell_type": "code",
      "source": [
        "# Create an instance of the CustomDataset class for the training set\n",
        "# This uses the cleaned training data and corresponding labels\n",
        "trainset = CustomDataset(X_train1,y_train1)\n",
        "\n",
        "# Create an instance of the CustomDataset class for the validation set\n",
        "# This uses the cleaned validation data and corresponding labels\n",
        "validset = CustomDataset(X_val, y_val)\n",
        "\n",
        "# Create an instance of the CustomDataset class for the test set\n",
        "# This uses the cleaned test data and corresponding labels\n",
        "testset = CustomDataset(X_test, y_test)"
      ],
      "metadata": {
        "id": "IQtN5ei2EXag"
      },
      "execution_count": 13,
      "outputs": []
    },
    {
      "cell_type": "markdown",
      "source": [
        "**Step 5: Creating Vocabulary**"
      ],
      "metadata": {
        "id": "ibzJaTwN0x5V"
      }
    },
    {
      "cell_type": "code",
      "source": [
        "from collections import Counter, OrderedDict\n",
        "from typing import Dict, List, Optional, Union\n",
        "\n",
        "class Vocab:\n",
        "    def __init__(self, tokens: List[str]) -> None:\n",
        "        self.itos: List[str] = tokens\n",
        "        self.stoi: Dict[str, int] = {token: i for i, token in enumerate(tokens)}\n",
        "        self.default_index: Optional[int] = None\n",
        "\n",
        "    def __getitem__(self, token: str) -> int:\n",
        "        if token in self.stoi:\n",
        "            return self.stoi[token]\n",
        "        if self.default_index is not None:\n",
        "            return self.default_index\n",
        "        raise RuntimeError(f\"Token '{token}' not found in vocab\")\n",
        "\n",
        "    def __contains__(self, token: str) -> bool:\n",
        "        return token in self.stoi\n",
        "\n",
        "    def __len__(self) -> int:\n",
        "        return len(self.itos)\n",
        "\n",
        "    def insert_token(self, token: str, index: int) -> None:\n",
        "        if index < 0 or index > len(self.itos):\n",
        "            raise ValueError(\"Index out of range\")\n",
        "        if token in self.stoi:\n",
        "            old_index = self.stoi[token]\n",
        "            if old_index < index:\n",
        "                self.itos.pop(old_index)\n",
        "                self.itos.insert(index - 1, token)\n",
        "            else:\n",
        "                self.itos.pop(old_index)\n",
        "                self.itos.insert(index, token)\n",
        "        else:\n",
        "            self.itos.insert(index, token)\n",
        "\n",
        "        self.stoi = {token: i for i, token in enumerate(self.itos)}\n",
        "\n",
        "    def append_token(self, token: str) -> None:\n",
        "        if token in self.stoi:\n",
        "            raise RuntimeError(f\"Token '{token}' already exists in the vocab\")\n",
        "        self.insert_token(token, len(self.itos))\n",
        "\n",
        "    def set_default_index(self, index: Optional[int]) -> None:\n",
        "        self.default_index = index\n",
        "\n",
        "    def get_default_index(self) -> Optional[int]:\n",
        "        return self.default_index\n",
        "\n",
        "    def lookup_token(self, index: int) -> str:\n",
        "        if 0 <= index < len(self.itos):\n",
        "            return self.itos[index]\n",
        "        raise RuntimeError(f\"Index {index} out of range\")\n",
        "\n",
        "    def lookup_tokens(self, indices: List[int]) -> List[str]:\n",
        "        return [self.lookup_token(index) for index in indices]\n",
        "\n",
        "    def lookup_indices(self, tokens: List[str]) -> List[int]:\n",
        "        return [self[token] for token in tokens]\n",
        "\n",
        "    def get_stoi(self) -> Dict[str, int]:\n",
        "        return self.stoi.copy()\n",
        "\n",
        "    def get_itos(self) -> List[str]:\n",
        "        return self.itos.copy()\n",
        "\n",
        "    @classmethod\n",
        "    def vocab(cls, ordered_dict: Union[OrderedDict, Counter], min_freq: int = 1, specials: Optional[List[str]] = None, special_first: bool = True) -> 'Vocab':\n",
        "        specials = specials or []\n",
        "        for token in specials:\n",
        "            ordered_dict.pop(token, None)\n",
        "\n",
        "        tokens = [token for token, freq in ordered_dict.items() if freq >= min_freq]\n",
        "\n",
        "        if special_first:\n",
        "            tokens = specials + tokens\n",
        "        else:\n",
        "            tokens = tokens + specials\n",
        "\n",
        "        return cls(tokens)"
      ],
      "metadata": {
        "id": "z4o147E5Egsa"
      },
      "execution_count": 14,
      "outputs": []
    },
    {
      "cell_type": "code",
      "source": [
        "def get_vocab(dataset, min_freq=1):\n",
        "    \"\"\"\n",
        "    Generate a vocabulary from a dataset.\n",
        "\n",
        "    Args:\n",
        "        dataset (list of tuple): List of tuples where each tuple contains a label and a text.\n",
        "        min_freq (int): The minimum frequency for a token to be included in the vocabulary.\n",
        "\n",
        "    Returns:\n",
        "        torchtext.vocab.Vocab: Vocabulary object.\n",
        "    \"\"\"\n",
        "    # Initialize a counter object to hold token frequencies\n",
        "    counter = Counter()\n",
        "\n",
        "    # Update the counter with tokens from each text in the dataset\n",
        "    for (label, text) in dataset:\n",
        "        counter.update(text.split())\n",
        "\n",
        "    # Create a vocabulary using the counter object\n",
        "    # Tokens that appear fewer times than `min_freq` are excluded\n",
        "    my_vocab = Vocab.vocab(counter, min_freq=min_freq)\n",
        "\n",
        "    # Insert a '<unk>' token at index 0 to represent unknown words\n",
        "    my_vocab.insert_token('<unk>', 0)\n",
        "\n",
        "    # Set the default index to 0\n",
        "    # This ensures that any unknown word will be mapped to '<unk>'\n",
        "    my_vocab.set_default_index(0)\n",
        "\n",
        "    return my_vocab"
      ],
      "metadata": {
        "id": "otOotaw7E03o"
      },
      "execution_count": 15,
      "outputs": []
    },
    {
      "cell_type": "code",
      "source": [
        "stckexg_vocab = get_vocab(trainset, min_freq=2)"
      ],
      "metadata": {
        "id": "MwbkTh0SE8R4"
      },
      "execution_count": 16,
      "outputs": []
    },
    {
      "cell_type": "code",
      "source": [
        "len(stckexg_vocab)"
      ],
      "metadata": {
        "colab": {
          "base_uri": "https://localhost:8080/"
        },
        "id": "H9nrAQYHF1ml",
        "outputId": "649e594a-4bc7-4eed-adbf-753dbe58779f"
      },
      "execution_count": 17,
      "outputs": [
        {
          "output_type": "execute_result",
          "data": {
            "text/plain": [
              "96934"
            ]
          },
          "metadata": {},
          "execution_count": 17
        }
      ]
    },
    {
      "cell_type": "code",
      "source": [
        "stckexg_vocab.get_itos()[0:5]"
      ],
      "metadata": {
        "colab": {
          "base_uri": "https://localhost:8080/"
        },
        "id": "gk9HB232F-gp",
        "outputId": "419dbc85-5993-401b-ba69-c993d294a526"
      },
      "execution_count": 18,
      "outputs": [
        {
          "output_type": "execute_result",
          "data": {
            "text/plain": [
              "['<unk>', 'nullpointerexception', 'run', 'figure', 'return']"
            ]
          },
          "metadata": {},
          "execution_count": 18
        }
      ]
    },
    {
      "cell_type": "code",
      "source": [
        "stckexg_vocab[\"hkfhekrferfjvl\"]"
      ],
      "metadata": {
        "colab": {
          "base_uri": "https://localhost:8080/"
        },
        "id": "W1xvfvZ1GaLh",
        "outputId": "935827e6-64ab-4415-dfcf-f2b88d1be259"
      },
      "execution_count": 19,
      "outputs": [
        {
          "output_type": "execute_result",
          "data": {
            "text/plain": [
              "0"
            ]
          },
          "metadata": {},
          "execution_count": 19
        }
      ]
    },
    {
      "cell_type": "code",
      "source": [
        "# Creating a function that will be used to get the indices of words from vocab\n",
        "def tokenizer(x, vocab):\n",
        "    \"\"\"Converts text to a list of indices using a vocabulary dictionary\"\"\"\n",
        "    return [vocab[token] for token in x.split()]"
      ],
      "metadata": {
        "id": "VZJiSp_qGiZD"
      },
      "execution_count": 20,
      "outputs": []
    },
    {
      "cell_type": "markdown",
      "source": [
        "**Step 6 : Collate function to create labels texts and offsets**"
      ],
      "metadata": {
        "id": "7VN4ccB506Mm"
      }
    },
    {
      "cell_type": "code",
      "source": [
        "def collate_batch(batch, my_vocab):\n",
        "    \"\"\"\n",
        "    Collates a batch of samples into tensors of labels, texts, and offsets.\n",
        "\n",
        "    Parameters:\n",
        "        batch (list): A list of tuples, each containing a label and a text.\n",
        "\n",
        "    Returns:\n",
        "        tuple: A tuple containing three tensors:\n",
        "               - Labels tensor\n",
        "               - Concatenated texts tensor\n",
        "               - Offsets tensor indicating the start positions of each text in the concatenated tensor\n",
        "    \"\"\"\n",
        "    # Unpack the batch into separate lists for labels and texts\n",
        "    labels,texts = zip(*batch)\n",
        "\n",
        "    # Convert the list of labels into a tensor of dtype int32\n",
        "    labels = torch.tensor(labels, dtype=torch.float32)\n",
        "    # Convert the list of texts into a list of lists; each inner list contains the vocabulary indices for a text\n",
        "    list_of_list_of_indices = [tokenizer(text, my_vocab) for text in texts]\n",
        "\n",
        "    # Concatenate all text indices into a single tensor\n",
        "    indices = torch.cat([torch.tensor(i, dtype=torch.int64) for i in list_of_list_of_indices])\n",
        "\n",
        "    # Compute the offsets for each text in the concatenated tensor\n",
        "    offsets = [0] + [len(i) for i in list_of_list_of_indices]\n",
        "    offsets = torch.tensor(offsets[:-1]).cumsum(dim=0)\n",
        "\n",
        "    return (indices, offsets), labels"
      ],
      "metadata": {
        "id": "KapLYIyrGxEP"
      },
      "execution_count": 21,
      "outputs": []
    },
    {
      "cell_type": "code",
      "source": [
        "from functools import partial\n",
        "batch_size = 2\n",
        "collate_partial = partial(collate_batch, my_vocab = stckexg_vocab)\n",
        "check_loader = torch.utils.data.DataLoader(dataset=trainset,\n",
        "                                           batch_size=batch_size,\n",
        "                                           shuffle=True,\n",
        "                                           collate_fn=collate_partial,\n",
        "                                           )"
      ],
      "metadata": {
        "id": "HNEVGN2-G3-y"
      },
      "execution_count": 22,
      "outputs": []
    },
    {
      "cell_type": "code",
      "source": [
        "torch.manual_seed(22)\n",
        "for (indices, offset), label in check_loader:\n",
        "    print(indices, offset, label)\n",
        "    break"
      ],
      "metadata": {
        "colab": {
          "base_uri": "https://localhost:8080/"
        },
        "id": "ZpfCGbtoHPqM",
        "outputId": "6e04debd-41be-488a-a8cb-510f925fe411"
      },
      "execution_count": 23,
      "outputs": [
        {
          "output_type": "stream",
          "name": "stdout",
          "text": [
            "tensor([  167, 26747,  1069,   102,   270,   167, 26747,   466,  6167,   167,\n",
            "          514,   402,   402,    12, 26747,   428,   655,   177,   180,   604,\n",
            "         4255,   601,  1904,   604,   229,   449,   649,     6,   466,   180,\n",
            "        20852,   708,  1538,  1633,    95,  2806,   467,  1053,   467,  1053,\n",
            "          272,  1505,   253,  1012,   425,  1053,  1069,   274,   466,   200,\n",
            "        67589,   185,   200, 67590,   136, 67591, 67592,   136, 67593, 67594,\n",
            "          136,   242,   613,  5310,  1053,   425, 67595, 67596,   613,   263,\n",
            "          200, 67597,   185, 67595, 67596,   613,   408]) tensor([ 0, 35]) tensor([[0., 0., 0., 1., 0., 1., 0., 0., 0., 0.],\n",
            "        [0., 0., 0., 1., 0., 1., 0., 0., 0., 0.]])\n"
          ]
        },
        {
          "output_type": "stream",
          "name": "stderr",
          "text": [
            "<ipython-input-21-3d05a53ae8ff>:18: UserWarning: Creating a tensor from a list of numpy.ndarrays is extremely slow. Please consider converting the list to a single numpy.ndarray with numpy.array() before converting to a tensor. (Triggered internally at ../torch/csrc/utils/tensor_new.cpp:278.)\n",
            "  labels = torch.tensor(labels, dtype=torch.float32)\n"
          ]
        }
      ]
    },
    {
      "cell_type": "markdown",
      "source": [
        "**Step 7: Defining Neural Network with following layers. EmbeddingBag_layer->Linear->ReLU->BatchNorm->Dropout->Linear->ReLU->BatchNorm->Dropout->Linear**"
      ],
      "metadata": {
        "id": "6MdN0Dj62OjY"
      }
    },
    {
      "cell_type": "code",
      "source": [
        "import torch.nn as nn\n",
        "\n",
        "class SimpleMLP(nn.Module):\n",
        "    def __init__(self, vocab_size, embedding_dim, hidden_dim1, hidden_dim2, drop_prob1, drop_prob2, num_outputs):\n",
        "        super().__init__()\n",
        "\n",
        "        # Embedding layer\n",
        "        self.embedding_bag = nn.EmbeddingBag(vocab_size, embedding_dim)\n",
        "\n",
        "        # First Linear layer\n",
        "        self.linear1 = nn.Linear(embedding_dim, hidden_dim1)\n",
        "        # Batch normalization for first linear layer\n",
        "        self.batchnorm1 = nn.BatchNorm1d(num_features=hidden_dim1)\n",
        "        # Dropout for first linear layer\n",
        "        self.dropout1 = nn.Dropout(p=drop_prob1)\n",
        "\n",
        "        # Second Linear layer\n",
        "        self.linear2 = nn.Linear(hidden_dim1, hidden_dim2)\n",
        "        # Batch normalization for second linear layer\n",
        "        self.batchnorm2 = nn.BatchNorm1d(num_features=hidden_dim2)\n",
        "        # Dropout for second linear layer\n",
        "        self.dropout2 = nn.Dropout(p=drop_prob2)\n",
        "\n",
        "        # Final Linear layer (output layer)\n",
        "        self.linear3 = nn.Linear(hidden_dim2, num_outputs)\n",
        "\n",
        "    def forward(self, input_tuple):\n",
        "        indices, offsets = input_tuple\n",
        "\n",
        "        # Pass data through the embedding layer\n",
        "        x = self.embedding_bag(indices, offsets)\n",
        "\n",
        "        # First linear layer followed by ReLU, BatchNorm, and Dropout\n",
        "        x = self.linear1(x)\n",
        "        x = nn.ReLU()(x)\n",
        "        x = self.dropout1(x)\n",
        "        x = self.batchnorm1(x)\n",
        "\n",
        "        # Second linear layer followed by ReLU, BatchNorm, and Dropout\n",
        "        x = self.linear2(x)\n",
        "        x = nn.ReLU()(x)\n",
        "        x = self.batchnorm2(x)\n",
        "        x = self.dropout2(x)\n",
        "\n",
        "        # Final linear layer\n",
        "        x = self.linear3(x)\n",
        "\n",
        "        # Apply sigmoid activation for multilabel classification\n",
        "        #x = torch.sigmoid(x)\n",
        "\n",
        "        return x\n"
      ],
      "metadata": {
        "id": "p35pP2uiJJSk"
      },
      "execution_count": 24,
      "outputs": []
    },
    {
      "cell_type": "code",
      "source": [
        "!pip install torchinfo"
      ],
      "metadata": {
        "colab": {
          "base_uri": "https://localhost:8080/"
        },
        "id": "MMxtqRcbMlnx",
        "outputId": "acfbff32-bb3f-4c0b-820e-b7b21f6d3622"
      },
      "execution_count": 25,
      "outputs": [
        {
          "output_type": "stream",
          "name": "stdout",
          "text": [
            "Collecting torchinfo\n",
            "  Downloading torchinfo-1.8.0-py3-none-any.whl.metadata (21 kB)\n",
            "Downloading torchinfo-1.8.0-py3-none-any.whl (23 kB)\n",
            "Installing collected packages: torchinfo\n",
            "Successfully installed torchinfo-1.8.0\n"
          ]
        }
      ]
    },
    {
      "cell_type": "code",
      "source": [
        "from torchinfo import summary\n",
        "# Define the device\n",
        "device = torch.device('cuda:0' if torch.cuda.is_available() else 'cpu')\n",
        "\n",
        "# Define the sequential model\n",
        "# this will invoke the __init__() function of the model\n",
        "model = SimpleMLP(vocab_size=7 , embedding_dim=10, hidden_dim1=5, hidden_dim2=3, drop_prob1=0.5, drop_prob2=0.5, num_outputs=10)\n",
        "\n",
        "# Move the model to the device\n",
        "model = model.to(device)\n",
        "\n",
        "# Generate some dummy input data and offsets, and move them to the device\n",
        "data = torch.tensor([1, 2, 4, 5, 4], dtype = torch.int32).to(device)\n",
        "offsets = torch.tensor([0, 2, 4], dtype = torch.int32).to(device)\n",
        "\n",
        "# Generate summary\n",
        "summary(model, input_data=[(data, offsets)], device=device, depth =10, verbose = False)"
      ],
      "metadata": {
        "colab": {
          "base_uri": "https://localhost:8080/"
        },
        "id": "rYfuxUvWLunL",
        "outputId": "7d4e7774-cd55-479f-8922-a42d5ae2e657"
      },
      "execution_count": 26,
      "outputs": [
        {
          "output_type": "execute_result",
          "data": {
            "text/plain": [
              "==========================================================================================\n",
              "Layer (type:depth-idx)                   Output Shape              Param #\n",
              "==========================================================================================\n",
              "SimpleMLP                                [3, 10]                   --\n",
              "├─EmbeddingBag: 1-1                      [3, 10]                   70\n",
              "├─Linear: 1-2                            [3, 5]                    55\n",
              "├─Dropout: 1-3                           [3, 5]                    --\n",
              "├─BatchNorm1d: 1-4                       [3, 5]                    10\n",
              "├─Linear: 1-5                            [3, 3]                    18\n",
              "├─BatchNorm1d: 1-6                       [3, 3]                    6\n",
              "├─Dropout: 1-7                           [3, 3]                    --\n",
              "├─Linear: 1-8                            [3, 10]                   40\n",
              "==========================================================================================\n",
              "Total params: 199\n",
              "Trainable params: 199\n",
              "Non-trainable params: 0\n",
              "Total mult-adds (M): 0.00\n",
              "==========================================================================================\n",
              "Input size (MB): 0.00\n",
              "Forward/backward pass size (MB): 0.00\n",
              "Params size (MB): 0.00\n",
              "Estimated Total Size (MB): 0.00\n",
              "=========================================================================================="
            ]
          },
          "metadata": {},
          "execution_count": 26
        }
      ]
    },
    {
      "cell_type": "code",
      "source": [
        "# Since nn.Sequential expects a single input, we pack data and offsets into a tuple\n",
        "# this will invoke the forward function of the model\n",
        "output = model((data, offsets))\n",
        "\n",
        "print(output)"
      ],
      "metadata": {
        "colab": {
          "base_uri": "https://localhost:8080/"
        },
        "id": "akL0cMltiUbS",
        "outputId": "613c8290-3fb8-434b-9379-604def2b4e3d"
      },
      "execution_count": 27,
      "outputs": [
        {
          "output_type": "stream",
          "name": "stdout",
          "text": [
            "tensor([[-0.3215,  0.1474,  0.5562, -0.0196,  0.4182, -1.4106,  0.9407, -1.1703,\n",
            "         -0.4261,  1.5818],\n",
            "        [-0.5728,  0.8710,  0.8568,  0.1602,  0.0215, -1.7831,  1.4146, -0.7505,\n",
            "          0.2129,  2.0491],\n",
            "        [ 2.0511,  0.6198,  0.2110,  1.2029,  0.5455,  2.1920, -0.4989,  1.3383,\n",
            "         -0.6484, -1.7434]], device='cuda:0', grad_fn=<AddmmBackward0>)\n"
          ]
        }
      ]
    },
    {
      "cell_type": "markdown",
      "source": [
        "**Step 7: Step function for forward and backward pass**"
      ],
      "metadata": {
        "id": "WEDmkULw2fqn"
      }
    },
    {
      "cell_type": "code",
      "source": [
        "def step(inputs, targets, model, device, loss_function=None, optimizer=None,CLIP_TYPE=\"value\",CLIP_VALUE=10):\n",
        "    \"\"\"\n",
        "    Performs a forward and backward pass for a given batch of inputs and targets.\n",
        "\n",
        "    Parameters:\n",
        "    - inputs (torch.Tensor): The input data for the model.\n",
        "    - targets (torch.Tensor): The true labels for the input data.\n",
        "    - model (torch.nn.Module): The neural network model.\n",
        "    - device (torch.device): The computing device (CPU or GPU).\n",
        "    - loss_function (torch.nn.Module, optional): The loss function to use.\n",
        "    - optimizer (torch.optim.Optimizer, optional): The optimizer to update model parameters.\n",
        "\n",
        "    Returns:\n",
        "    - loss (float): The computed loss value (only if loss_function is not None).\n",
        "    - outputs (torch.Tensor): The predictions from the model.\n",
        "    - correct (int): The number of correctly classified samples in the batch.\n",
        "    \"\"\"\n",
        "    # Move the model and data to the device\n",
        "    model = model.to(device)\n",
        "\n",
        "    #### Changed this from last file ############\n",
        "    inputs = tuple(input_tensor.to(device)\n",
        "                            for input_tensor in inputs)\n",
        "\n",
        "    targets = targets.to(device)\n",
        "\n",
        "    # Step 1: Forward pass to get the model's predictions\n",
        "    outputs = model(inputs)\n",
        "\n",
        "    # Step 2a: Compute the loss using the provided loss function\n",
        "    if loss_function:\n",
        "        loss = loss_function(outputs, targets)\n",
        "    #sigmoid for MUltilabel classification\n",
        "    sigmoid_outputs = torch.sigmoid(outputs)\n",
        "    predicted = (sigmoid_outputs > 0.5).float()\n",
        "\n",
        "    # Step 2b: Calculate the number of correctly classified samples\n",
        "    correct = (predicted == targets).sum().item()\n",
        "\n",
        "    # Step 3 and 4: Perform backward pass and update model parameters if an optimizer is provided\n",
        "    if optimizer:\n",
        "        optimizer.zero_grad()\n",
        "        loss.backward()\n",
        "        # Clip gradients before the optimizer step\n",
        "        if CLIP_TYPE == 'value':\n",
        "            torch.nn.utils.clip_grad_value_(model.parameters(), CLIP_VALUE)\n",
        "\n",
        "        # Update parameters\n",
        "        optimizer.step()\n",
        "\n",
        "    # Return relevant metrics\n",
        "    if loss_function:\n",
        "        return loss, outputs, correct\n",
        "    else:\n",
        "        return None, outputs, correct\n"
      ],
      "metadata": {
        "id": "LSPTT65rib1k"
      },
      "execution_count": 28,
      "outputs": []
    },
    {
      "cell_type": "markdown",
      "source": [
        "**Step 9: Defining Epoch wise training and validation functions**"
      ],
      "metadata": {
        "id": "xdaXUrep2zDC"
      }
    },
    {
      "cell_type": "code",
      "source": [
        "def train_epoch(train_loader, model, device, loss_function, optimizer):\n",
        "    \"\"\"\n",
        "    Trains the model for one epoch using the provided data loader and updates the model parameters.\n",
        "\n",
        "    Parameters:\n",
        "    - train_loader (torch.utils.data.DataLoader): DataLoader object for the training set.\n",
        "    - model (torch.nn.Module): The neural network model to be trained.\n",
        "    - device (torch.device): The computing device (CPU or GPU).\n",
        "    - loss_function (torch.nn.Module): The loss function to use for training.\n",
        "    - optimizer (torch.optim.Optimizer): The optimizer to update model parameters.\n",
        "\n",
        "    Returns:\n",
        "    - train_loss (float): Average training loss for the epoch.\n",
        "    - train_hamming_loss (float): Training Hamming Loss for the epoch.\n",
        "    \"\"\"\n",
        "    # Set the model to training mode\n",
        "    model = model.to(device)\n",
        "    model.train()\n",
        "\n",
        "    # Initialize variables to track running training loss and Hamming Loss\n",
        "    running_train_loss = 0.0\n",
        "    total_hamming_loss = 0.0\n",
        "\n",
        "    # Iterate over all batches in the training data\n",
        "    for inputs, targets in train_loader:\n",
        "        # Perform a forward and backward pass, updating model parameters\n",
        "        loss, outputs, _ = step(inputs, targets, model, device, loss_function, optimizer)\n",
        "        outputs = outputs.to(device)\n",
        "        # Update running loss\n",
        "        running_train_loss += loss.item()\n",
        "\n",
        "        # Apply threshold at 0.5 for multilabel classification\n",
        "        sigmoid_outputs = torch.sigmoid(outputs)\n",
        "        sigmoid_outputs = sigmoid_outputs.to(device)\n",
        "        predicted = (sigmoid_outputs > 0.5).float()\n",
        "        targets = targets.to(device)\n",
        "        predicted = predicted.to(device)\n",
        "        # Compute Hamming Loss: fraction of incorrect labels\n",
        "        batch_hamming_loss = (predicted != targets).float().mean().item()\n",
        "\n",
        "        # Accumulate Hamming Loss\n",
        "        total_hamming_loss += batch_hamming_loss\n",
        "\n",
        "    # Compute average loss and Hamming Loss for the entire training set\n",
        "    train_loss = running_train_loss / len(train_loader)\n",
        "    train_hamming_loss = total_hamming_loss / len(train_loader)\n",
        "\n",
        "    return train_loss, train_hamming_loss\n"
      ],
      "metadata": {
        "id": "TA2FtHFLjC6o"
      },
      "execution_count": 29,
      "outputs": []
    },
    {
      "cell_type": "code",
      "source": [
        "def val_epoch(valid_loader, model, device, loss_function, threshold=0.5):\n",
        "    \"\"\"\n",
        "    Validates the model for one epoch using the provided data loader.\n",
        "\n",
        "    Parameters:\n",
        "    - valid_loader (torch.utils.data.DataLoader): DataLoader object for the validation set.\n",
        "    - model (torch.nn.Module): The neural network model to be validated.\n",
        "    - device (torch.device): The computing device (CPU or GPU).\n",
        "    - loss_function (torch.nn.Module): The loss function to evaluate the model.\n",
        "    - threshold (float, optional): Threshold for multilabel classification. Default is 0.5.\n",
        "\n",
        "    Returns:\n",
        "    - val_loss (float): Average validation loss for the epoch.\n",
        "    - val_hamming_loss (float): Validation Hamming Loss for the epoch.\n",
        "    \"\"\"\n",
        "    # Set the model to evaluation mode\n",
        "    model.eval()\n",
        "\n",
        "    # Initialize variables to track running validation loss and Hamming Loss\n",
        "    running_val_loss = 0.0\n",
        "    total_hamming_loss = 0.0\n",
        "\n",
        "    # Disable gradient computation for validation\n",
        "    with torch.no_grad():\n",
        "        # Iterate over all batches in the validation data\n",
        "        for inputs, targets in valid_loader:\n",
        "            # Move inputs and targets to the appropriate device (CPU or GPU)\n",
        "            # Move inputs and targets to the device (CPU or GPU)\n",
        "            inputs = tuple(input_tensor.to(device) for input_tensor in inputs)\n",
        "            targets = targets.to(device)\n",
        "\n",
        "\n",
        "            # Perform forward pass: compute predicted outputs by passing inputs to the model\n",
        "            outputs = model(inputs)\n",
        "\n",
        "            # Compute the loss\n",
        "            loss = loss_function(outputs, targets)\n",
        "\n",
        "            # Update running validation loss\n",
        "            running_val_loss += loss.item()\n",
        "\n",
        "            # Compute predictions using the threshold\n",
        "            sigmoid_outputs = torch.sigmoid(outputs)\n",
        "            predictions = (outputs > threshold).float()\n",
        "\n",
        "            # Compute Hamming Loss: fraction of incorrect labels\n",
        "            batch_hamming_loss = (predictions != targets).float().mean().item()\n",
        "\n",
        "            # Accumulate the Hamming Loss\n",
        "            total_hamming_loss += batch_hamming_loss\n",
        "\n",
        "    # Compute average loss and Hamming Loss for the entire validation set\n",
        "    val_loss = running_val_loss / len(valid_loader)\n",
        "    val_hamming_loss = total_hamming_loss / len(valid_loader)\n",
        "\n",
        "    return val_loss, val_hamming_loss\n"
      ],
      "metadata": {
        "id": "jbgun5Mzjie9"
      },
      "execution_count": 30,
      "outputs": []
    },
    {
      "cell_type": "markdown",
      "source": [
        "**Step 10: Train and validates the model**"
      ],
      "metadata": {
        "id": "XNRQZxZt28HA"
      }
    },
    {
      "cell_type": "code",
      "source": [
        "def train(train_loader, valid_loader, model, optimizer, loss_function, epochs, device, patience=5):\n",
        "    \"\"\"\n",
        "    Trains and validates the model, with early stopping based on validation loss.\n",
        "\n",
        "    Parameters:\n",
        "    - train_loader (torch.utils.data.DataLoader): DataLoader for the training set.\n",
        "    - valid_loader (torch.utils.data.DataLoader): DataLoader for the validation set.\n",
        "    - model (torch.nn.Module): Neural network model to train.\n",
        "    - optimizer (torch.optim.Optimizer): Optimizer algorithm.\n",
        "    - loss_function (torch.nn.Module): Loss function to evaluate the model.\n",
        "    - epochs (int): Number of epochs to train the model.\n",
        "    - device (torch.device): The computing device (CPU or GPU).\n",
        "    - patience (int): Number of epochs to wait for improvement before stopping early.\n",
        "\n",
        "    Returns:\n",
        "    - train_loss_history (list): History of training loss for each epoch.\n",
        "    - train_hamming_history (list): History of training Hamming Loss for each epoch.\n",
        "    - valid_loss_history (list): History of validation loss for each epoch.\n",
        "    - valid_hamming_history (list): History of validation Hamming Loss for each epoch.\n",
        "    \"\"\"\n",
        "\n",
        "    # Initialize lists to store metrics for each epoch\n",
        "    train_loss_history = []\n",
        "    valid_loss_history = []\n",
        "    train_hamming_history = []\n",
        "    valid_hamming_history = []\n",
        "\n",
        "    # Early stopping variables\n",
        "    best_val_loss = float('inf')  # Initialize best validation loss to infinity\n",
        "    epochs_no_improve = 0         # Counter for epochs with no improvement\n",
        "\n",
        "    # Loop over the number of specified epochs\n",
        "    for epoch in range(epochs):\n",
        "        print(f\"Epoch {epoch+1}/{epochs}\")\n",
        "\n",
        "        # Train model on training data and capture metrics\n",
        "        train_loss, train_hamming_loss = train_epoch(train_loader, model, device, loss_function, optimizer)\n",
        "\n",
        "        # Validate model on validation data and capture metrics\n",
        "        valid_loss, valid_hamming_loss = val_epoch(valid_loader, model, device, loss_function)\n",
        "\n",
        "        # Store metrics for this epoch\n",
        "        train_loss_history.append(train_loss)\n",
        "        train_hamming_history.append(train_hamming_loss)\n",
        "        valid_loss_history.append(valid_loss)\n",
        "        valid_hamming_history.append(valid_hamming_loss)\n",
        "\n",
        "        # Output epoch-level summary\n",
        "        print(f\"Train Loss: {train_loss:.4f} | Train Hamming Loss: {train_hamming_loss:.4f}\")\n",
        "        print(f\"Valid Loss: {valid_loss:.4f} | Valid Hamming Loss: {valid_hamming_loss:.4f}\")\n",
        "        print()\n",
        "\n",
        "        # Early Stopping Logic\n",
        "        if valid_loss < best_val_loss:\n",
        "            best_val_loss = valid_loss  # Update best validation loss\n",
        "            epochs_no_improve = 0       # Reset counter\n",
        "        else:\n",
        "            epochs_no_improve += 1      # Increment counter if no improvement\n",
        "\n",
        "        # Check if patience has been reached\n",
        "        if epochs_no_improve >= patience:\n",
        "            print(f\"Early stopping triggered. No improvement for {patience} consecutive epochs.\")\n",
        "            break  # Stop training\n",
        "\n",
        "    return train_loss_history, train_hamming_history, valid_loss_history, valid_hamming_history\n"
      ],
      "metadata": {
        "id": "VpbUA4Qljng4"
      },
      "execution_count": 31,
      "outputs": []
    },
    {
      "cell_type": "markdown",
      "source": [
        "**Step 11: Hyper Parameters**"
      ],
      "metadata": {
        "id": "ek5IKXKf3Cu7"
      }
    },
    {
      "cell_type": "code",
      "source": [
        "# model Parameters\n",
        "EMBED_DIM=300\n",
        "VOCAB_SIZE=len(stckexg_vocab)\n",
        "HIDDEN_DIM1=200\n",
        "HIDDEN_DIM2=100\n",
        "DROP_PROB1=0.5\n",
        "DROP_PROB2=0.5\n",
        "NUM_OUTPUTS=10\n",
        "CLIP_TYPE=\"value\"\n",
        "CLIP_VALUE=10\n",
        "# training\n",
        "EPOCHS=5\n",
        "BATCH_SIZE=128\n",
        "LEARNING_RATE=0.001\n",
        "WEIGHT_DECAY=0.00\n",
        "PATIENCE = 5"
      ],
      "metadata": {
        "id": "5rJVXaaEjt8d"
      },
      "execution_count": 32,
      "outputs": []
    },
    {
      "cell_type": "code",
      "source": [
        "# Fixing the seed value for reproducibility across runs\n",
        "import random\n",
        "import numpy as np\n",
        "import torch\n",
        "SEED = 2345\n",
        "random.seed(SEED)                     # Set seed for Python's 'random' module\n",
        "np.random.seed(SEED)                  # Set seed for NumPy's random number generation\n",
        "torch.manual_seed(SEED)               # Set seed for PyTorch's CPU operations\n",
        "torch.cuda.manual_seed(SEED)          # Set seed for PyTorch's CUDA (GPU) operations\n",
        "torch.backends.cudnn.deterministic = True  # Ensure deterministic behavior in CuDNN\n",
        "\n",
        "# Define collate function with a fixed vocabulary using the 'partial' function\n",
        "collate_fn = partial(collate_batch, my_vocab=stckexg_vocab)\n",
        "\n",
        "# Data Loaders for training, validation, and test sets\n",
        "# These loaders handle batching, shuffling, and data processing using the custom collate function\n",
        "train_loader = torch.utils.data.DataLoader(trainset, batch_size = BATCH_SIZE, shuffle=True,\n",
        "                                           collate_fn=collate_fn, num_workers=2)\n",
        "valid_loader = torch.utils.data.DataLoader(validset, batch_size=BATCH_SIZE, shuffle=False,\n",
        "                                           collate_fn=collate_fn, num_workers=2)\n",
        "test_loader = torch.utils.data.DataLoader(testset, batch_size=BATCH_SIZE, shuffle=False,\n",
        "                                          collate_fn=collate_fn, num_workers=2)\n",
        "\n",
        "# Define the loss function for the model, using cross-entropy loss\n",
        "loss_function = nn.BCEWithLogitsLoss()\n",
        "\n",
        "# Define the model with specified hyperparameters\n",
        "model_imdb = SimpleMLP(vocab_size=VOCAB_SIZE,\n",
        "                       embedding_dim=EMBED_DIM,\n",
        "                       hidden_dim1=HIDDEN_DIM1,\n",
        "                       hidden_dim2=HIDDEN_DIM2,\n",
        "                       drop_prob1=DROP_PROB1,\n",
        "                       drop_prob2=DROP_PROB2,\n",
        "                       num_outputs=NUM_OUTPUTS,\n",
        "                       )\n",
        "\n",
        "# Initialize the optimizer for training, using AdamW optimizer with specified learning rate\n",
        "optimizer = torch.optim.AdamW(model_imdb.parameters(), lr=LEARNING_RATE)\n",
        "\n",
        "# Define the device for model training (use CUDA if available, else CPU)\n",
        "device = torch.device('cuda:0' if torch.cuda.is_available() else 'cpu')\n"
      ],
      "metadata": {
        "id": "ZhuYO9dQkux_"
      },
      "execution_count": 33,
      "outputs": []
    },
    {
      "cell_type": "markdown",
      "source": [
        "**Step 11: Evaluate performance of untrained model**"
      ],
      "metadata": {
        "id": "Qsu3Yprc32Kh"
      }
    },
    {
      "cell_type": "code",
      "source": [
        "for inputs, targets in train_loader:\n",
        "    # Move inputs and targets to the CPU.\n",
        "    inputs = tuple(input_tensor.to(device) for input_tensor in inputs)\n",
        "    targets = targets.to(device)\n",
        "    model_imdb = model_imdb.to(device)\n",
        "    model_imdb.eval()\n",
        "    targets = targets.float()\n",
        "    # Forward pass\n",
        "    with torch.no_grad():  # Ensure no gradients are calculated since this is evaluation.\n",
        "        output = model_imdb(inputs)\n",
        "        loss = loss_function(output, targets)\n",
        "        print(f'Actual loss: {loss.item()}')\n",
        "    break\n",
        "\n",
        "print(f'Expected Theoretical loss: {-1*np.log(0.5)}')\n"
      ],
      "metadata": {
        "colab": {
          "base_uri": "https://localhost:8080/"
        },
        "id": "gge3h3EYk6Jn",
        "outputId": "eb52f0ed-6934-4e6d-80cd-6a5b2227dbad"
      },
      "execution_count": 34,
      "outputs": [
        {
          "output_type": "stream",
          "name": "stdout",
          "text": [
            "Actual loss: 0.6891705393791199\n",
            "Expected Theoretical loss: 0.6931471805599453\n"
          ]
        }
      ]
    },
    {
      "cell_type": "code",
      "source": [
        "# Call the train function to train the model\n",
        "train_losses, train_acc, valid_losses, valid_acc = train(\n",
        "    train_loader, valid_loader, model_imdb, optimizer, loss_function, EPOCHS, device,patience=PATIENCE\n",
        ")"
      ],
      "metadata": {
        "colab": {
          "base_uri": "https://localhost:8080/"
        },
        "id": "GNazoc-xncyM",
        "outputId": "fcf4e6ed-a5c1-45eb-eb61-6229c7291c32"
      },
      "execution_count": 35,
      "outputs": [
        {
          "output_type": "stream",
          "name": "stdout",
          "text": [
            "Epoch 1/5\n",
            "Train Loss: 0.4251 | Train Hamming Loss: 0.1855\n",
            "Valid Loss: 0.1928 | Valid Hamming Loss: 0.0647\n",
            "\n",
            "Epoch 2/5\n",
            "Train Loss: 0.1775 | Train Hamming Loss: 0.0608\n",
            "Valid Loss: 0.1433 | Valid Hamming Loss: 0.0538\n",
            "\n",
            "Epoch 3/5\n",
            "Train Loss: 0.1393 | Train Hamming Loss: 0.0491\n",
            "Valid Loss: 0.1280 | Valid Hamming Loss: 0.0485\n",
            "\n",
            "Epoch 4/5\n",
            "Train Loss: 0.1190 | Train Hamming Loss: 0.0425\n",
            "Valid Loss: 0.1196 | Valid Hamming Loss: 0.0447\n",
            "\n",
            "Epoch 5/5\n",
            "Train Loss: 0.1030 | Train Hamming Loss: 0.0371\n",
            "Valid Loss: 0.1154 | Valid Hamming Loss: 0.0423\n",
            "\n"
          ]
        }
      ]
    },
    {
      "cell_type": "markdown",
      "source": [
        "**Step 13: Plot losses of training and validation under each epoch**"
      ],
      "metadata": {
        "id": "JSSx8KZp36To"
      }
    },
    {
      "cell_type": "code",
      "source": [
        "import matplotlib.pyplot as plt\n",
        "import seaborn as sns\n",
        "def plot_history(train_losses, train_metrics, val_losses=None, val_metrics=None):\n",
        "    \"\"\"\n",
        "    Plot training and validation loss and metrics over epochs.\n",
        "\n",
        "    Args:\n",
        "        train_losses (list): List of training losses for each epoch.\n",
        "        train_metrics (list): List of training metrics (e.g., accuracy) for each epoch.\n",
        "        val_losses (list, optional): List of validation losses for each epoch.\n",
        "        val_metrics (list, optional): List of validation metrics for each epoch.\n",
        "\n",
        "    Returns:\n",
        "        None\n",
        "    \"\"\"\n",
        "    # Determine the number of epochs based on the length of train_losses\n",
        "    epochs = range(1, len(train_losses) + 1)\n",
        "\n",
        "    # Plotting training and validation losses\n",
        "    plt.figure()\n",
        "    plt.plot(epochs, train_losses, label=\"Train\")  # Plot training losses\n",
        "    if val_losses:  # Check if validation losses are provided\n",
        "        plt.plot(epochs, val_losses, label=\"Validation\")  # Plot validation losses\n",
        "    plt.xlabel(\"Epochs\")\n",
        "    plt.ylabel(\"Loss\")\n",
        "    plt.legend()\n",
        "    plt.show()\n",
        "\n",
        "    # Plotting training and validation metrics\n",
        "    if train_metrics[0] is not None:  # Check if training metrics are available\n",
        "        plt.figure()\n",
        "        plt.plot(epochs, train_metrics, label=\"Train\")  # Plot training metrics\n",
        "        if val_metrics:  # Check if validation metrics are provided\n",
        "            plt.plot(epochs, val_metrics, label=\"Validation\")  # Plot validation metrics\n",
        "        plt.xlabel(\"Epochs\")\n",
        "        plt.ylabel(\"Metric\")\n",
        "        plt.legend()\n",
        "        plt.show()\n",
        "\n"
      ],
      "metadata": {
        "id": "hA_n0117eLb4"
      },
      "execution_count": 36,
      "outputs": []
    },
    {
      "cell_type": "code",
      "source": [
        "plot_history(train_losses, train_acc, valid_losses, valid_acc)"
      ],
      "metadata": {
        "colab": {
          "base_uri": "https://localhost:8080/",
          "height": 881
        },
        "id": "3QVPuf2reaHa",
        "outputId": "d7bfeab7-051d-4033-e434-c00c7f6b039e"
      },
      "execution_count": 37,
      "outputs": [
        {
          "output_type": "display_data",
          "data": {
            "text/plain": [
              "<Figure size 640x480 with 1 Axes>"
            ],
            "image/png": "[encoded data removed]"
          },
          "metadata": {}
        },
        {
          "output_type": "display_data",
          "data": {
            "text/plain": [
              "<Figure size 640x480 with 1 Axes>"
            ],
            "image/png": "[encoded data removed]"
          },
          "metadata": {}
        }
      ]
    },
    {
      "cell_type": "markdown",
      "source": [
        "**Step 14: Evaluating test dataset**"
      ],
      "metadata": {
        "id": "20q4lcwP4AW8"
      }
    },
    {
      "cell_type": "code",
      "source": [
        "def test_model(test_loader, model, device, loss_function, threshold=0.5):\n",
        "    \"\"\"\n",
        "    Tests the model on the test dataset.\n",
        "\n",
        "    Args:\n",
        "        test_loader (DataLoader): DataLoader object for the test set.\n",
        "        model (nn.Module): Trained neural network model.\n",
        "        device (torch.device): Device to perform computation (CPU/GPU).\n",
        "        loss_function (nn.Module): Loss function to compute the test loss.\n",
        "        threshold (float, optional): Threshold for multilabel classification.\n",
        "\n",
        "    Returns:\n",
        "        avg_test_loss (float): Average loss on the test dataset.\n",
        "        test_hamming_loss (float): Hamming Loss on the test dataset.\n",
        "    \"\"\"\n",
        "    model.eval()  # Set the model to evaluation mode\n",
        "    running_test_loss = 0.0\n",
        "    total_hamming_loss = 0.0\n",
        "    num_batches = 0\n",
        "\n",
        "    with torch.no_grad():  # Disable gradient calculation\n",
        "        for inputs, targets in test_loader:\n",
        "            # Move inputs and targets to the device\n",
        "            inputs = tuple(input_tensor.to(device) for input_tensor in inputs)\n",
        "            targets = targets.to(device).float()\n",
        "\n",
        "            # Forward pass to get outputs\n",
        "            outputs = model(inputs)\n",
        "\n",
        "            # Compute the loss\n",
        "            loss = loss_function(outputs, targets)\n",
        "            running_test_loss += loss.item()\n",
        "\n",
        "            # Apply sigmoid to get probabilities, then threshold to classify\n",
        "            sigmoid_outputs = torch.sigmoid(outputs)\n",
        "            predictions = (sigmoid_outputs > threshold).float()\n",
        "\n",
        "            # Compute Hamming Loss: fraction of incorrect labels\n",
        "            batch_hamming_loss = (predictions != targets).float().mean().item()\n",
        "            total_hamming_loss += batch_hamming_loss\n",
        "\n",
        "            num_batches += 1\n",
        "\n",
        "    # Compute average test loss and Hamming Loss\n",
        "    avg_test_loss = running_test_loss / num_batches\n",
        "    avg_hamming_loss = total_hamming_loss / num_batches\n",
        "\n",
        "    print(f\"Test Loss: {avg_test_loss:.4f}, Test Hamming Loss: {avg_hamming_loss:.4f}\")\n",
        "\n",
        "    return avg_test_loss, avg_hamming_loss\n"
      ],
      "metadata": {
        "id": "9cr1QEqKwIOy"
      },
      "execution_count": 38,
      "outputs": []
    },
    {
      "cell_type": "code",
      "source": [
        "# Assuming test_loader, model, device, and loss_function are defined\n",
        "test_loss, test_hamming_loss = test_model(test_loader, model_imdb, device, loss_function)\n",
        "\n",
        "# Print results\n",
        "print(f\"Test Loss: {test_loss}, Test Hamming Loss: {test_hamming_loss}\")\n"
      ],
      "metadata": {
        "colab": {
          "base_uri": "https://localhost:8080/"
        },
        "id": "3yS9B_r9yXMp",
        "outputId": "e9e33269-ec8e-4db5-9687-15c804b18c21"
      },
      "execution_count": 39,
      "outputs": [
        {
          "output_type": "stream",
          "name": "stdout",
          "text": [
            "Test Loss: 0.1106, Test Hamming Loss: 0.0399\n",
            "Test Loss: 0.11059678932030996, Test Hamming Loss: 0.03988541747132937\n"
          ]
        }
      ]
    },
    {
      "cell_type": "markdown",
      "source": [
        "**Inference:**\n",
        "\n",
        "#### 1. **Model Overview**:\n",
        "   - The model used was a **Simple Multi-Layer Perceptron (MLP)** architecture, designed for a multilabel classification task with 10 output labels. The architecture consisted of:\n",
        "     - **EmbeddingBag Layer**: Used for embedding the vocabulary.\n",
        "     - **Two Hidden Layers**: Each followed by ReLU activation, Batch Normalization, and Dropout to mitigate overfitting.\n",
        "     - **Output Layer**: Producing raw logits, followed by sigmoid activation for multilabel classification.\n",
        "   - **BCEWithLogitsLoss** was used as the loss function, suitable for the multilabel classification problem.\n",
        "\n",
        "#### 2. **Training Process**:\n",
        "   - The model was trained for **5 epochs** with early stopping, with a patience of **5** epochs to prevent overfitting if the validation loss didn’t improve.\n",
        "   - The training set consisted of tokenized text data converted into tensors using a custom vocabulary created from the dataset. A **collate function** was used to ensure proper batch creation.\n",
        "\n",
        "#### 3. **Hyperparameters**:\n",
        "   - **Embedding Dimension**: 300\n",
        "   - **Hidden Layer Dimensions**: 200 and 100 neurons, respectively.\n",
        "   - **Dropout Probability**: 0.5 for both hidden layers to avoid overfitting.\n",
        "   - **Learning Rate**: 0.001, using the AdamW optimizer.\n",
        "   - **Batch Size**: 128\n",
        "\n",
        "#### 4. **Performance Metrics**:\n",
        "   - The performance of the model was evaluated using **Hamming Loss**, which measures the fraction of labels that are incorrectly predicted for each sample. Lower values of Hamming Loss indicate better performance.\n",
        "   - **Training and Validation Results**:\n",
        "Epoch 1/5\n",
        "Train Loss: 0.4251 | Train Hamming Loss: 0.1855\n",
        "Valid Loss: 0.1928 | Valid Hamming Loss: 0.0647\n",
        "\n",
        "Epoch 2/5\n",
        "Train Loss: 0.1775 | Train Hamming Loss: 0.0608\n",
        "Valid Loss: 0.1433 | Valid Hamming Loss: 0.0538\n",
        "\n",
        "Epoch 3/5\n",
        "Train Loss: 0.1393 | Train Hamming Loss: 0.0491\n",
        "Valid Loss: 0.1280 | Valid Hamming Loss: 0.0485\n",
        "\n",
        "Epoch 4/5\n",
        "Train Loss: 0.1190 | Train Hamming Loss: 0.0425\n",
        "Valid Loss: 0.1196 | Valid Hamming Loss: 0.0447\n",
        "\n",
        "Epoch 5/5\n",
        "Train Loss: 0.1030 | Train Hamming Loss: 0.0371\n",
        "Valid Loss: 0.1154 | Valid Hamming Loss: 0.0423\n",
        "\n",
        "#### 5. **Test Set Evaluation**:\n",
        "   - After training, the model was evaluated on the test set to measure generalization to unseen data.\n",
        "   - **Test Results**:\n",
        "     Test Loss: **0.1106**, Test Hamming Loss: **0.0399**\n",
        "   - These results demonstrate that the model generalized well, with low Hamming Loss on both the validation and test sets, indicating the model's predictions were accurate for most labels.\n",
        "\n",
        "#### 6. **Observations and Insights**:\n",
        "   - **Early Stopping**: The early stopping mechanism prevented the model from overfitting, as it stopped training after 5 epochs where no significant improvements were observed in the validation loss.\n",
        "   - **Performance on Multilabel Classification**: The model achieved a low Hamming Loss, demonstrating that it was able to predict multiple labels for each sample with a high degree of accuracy.\n",
        "   - **Training Stability**: Both training and validation losses decreased consistently over the epochs, showing that the model did not overfit and learned effectively from the training data."
      ],
      "metadata": {
        "id": "JGJMDXBF4EZ9"
      }
    },
    {
      "cell_type": "code",
      "source": [
        "import torch\n",
        "\n",
        "def preprocess_text(text, vocab):\n",
        "    \"\"\"\n",
        "    Preprocess the input text by converting it to indices and computing offsets.\n",
        "\n",
        "    Parameters:\n",
        "    - text (str): The input text to preprocess.\n",
        "    - vocab (Vocab): The vocabulary used to convert words to indices.\n",
        "\n",
        "    Returns:\n",
        "    - indices (Tensor): Tensor of word indices.\n",
        "    - offsets (Tensor): Offsets for each sequence.\n",
        "    \"\"\"\n",
        "    # Convert each word in the text to its corresponding index in the vocabulary\n",
        "    indices = [vocab[word] for word in text.split() if word in vocab]\n",
        "\n",
        "    # Convert the list of indices into a PyTorch tensor\n",
        "    indices = torch.tensor(indices, dtype=torch.int64)\n",
        "\n",
        "    # The offset is needed when using EmbeddingBag (assuming batch size = 1)\n",
        "    offsets = torch.tensor([0], dtype=torch.int64)\n",
        "\n",
        "    return indices, offsets\n",
        "\n",
        "def run_inference(model, text, vocab, device, threshold=0.5):\n",
        "    \"\"\"\n",
        "    Run inference on new text data using a trained model.\n",
        "\n",
        "    Parameters:\n",
        "    - model (nn.Module): The trained model.\n",
        "    - text (str): Input text for inference.\n",
        "    - vocab (Vocab): The vocabulary used during training.\n",
        "    - device (torch.device): The device to perform inference (CPU/GPU).\n",
        "    - threshold (float): Threshold for converting logits to binary class labels.\n",
        "\n",
        "    Returns:\n",
        "    - predicted_classes (list): List of predicted class labels.\n",
        "    \"\"\"\n",
        "    # Preprocess the text (convert to indices and compute offsets)\n",
        "    indices, offsets = preprocess_text(text, vocab)\n",
        "\n",
        "    # Move inputs to the device\n",
        "    indices = indices.to(device)\n",
        "    offsets = offsets.to(device)\n",
        "\n",
        "    # Move model to the device and set it to evaluation mode\n",
        "    model = model.to(device)\n",
        "    model.eval()\n",
        "\n",
        "    # Disable gradient calculations for inference\n",
        "    with torch.no_grad():\n",
        "        # Pass the indices and offsets to the model to get logits\n",
        "        logits = model((indices, offsets))\n",
        "\n",
        "        # Apply sigmoid to convert logits to probabilities\n",
        "        probabilities = torch.sigmoid(logits)\n",
        "\n",
        "        # Apply threshold to get binary predictions\n",
        "        predictions = (probabilities > threshold).float()\n",
        "\n",
        "    # Convert predictions to a list of class labels (0/1)\n",
        "    predicted_classes = predictions.cpu().numpy().tolist()\n",
        "    transformed_classes = []\n",
        "    for i in range(len(predicted_classes)):\n",
        "      for j in range(len(predicted_classes[i])):\n",
        "        if predicted_classes[i][j] == 1.0:\n",
        "            transformed_classes.append(j)\n",
        "    return transformed_classes,predicted_classes\n",
        "\n",
        "# Example Usage:\n",
        "# Assuming `trained_model` is the trained model, `vocab` is the vocabulary used, and `device` is your device\n",
        "for i in range(5):\n",
        "  transformed,predictions = run_inference(model_imdb, X_test[i], stckexg_vocab, device)\n",
        "\n",
        "# Print the predicted class labels\n",
        "  print(\"Transformed Predictions: observation \",i, transformed)\n",
        "  print(\"One hot Predictions: observation \",i, predictions)\n"
      ],
      "metadata": {
        "id": "jXo2dldv4G3Y",
        "colab": {
          "base_uri": "https://localhost:8080/"
        },
        "outputId": "fbe59f47-9484-480d-85a9-7241a598fa6b"
      },
      "execution_count": 52,
      "outputs": [
        {
          "output_type": "stream",
          "name": "stdout",
          "text": [
            "Transformed Predictions: observation  0 [3, 5]\n",
            "One hot Predictions: observation  0 [[0.0, 0.0, 0.0, 1.0, 0.0, 1.0, 0.0, 0.0, 0.0, 0.0]]\n",
            "Transformed Predictions: observation  1 [0, 9]\n",
            "One hot Predictions: observation  1 [[1.0, 0.0, 0.0, 0.0, 0.0, 0.0, 0.0, 0.0, 0.0, 1.0]]\n",
            "Transformed Predictions: observation  2 [1, 4]\n",
            "One hot Predictions: observation  2 [[0.0, 1.0, 0.0, 0.0, 1.0, 0.0, 0.0, 0.0, 0.0, 0.0]]\n",
            "Transformed Predictions: observation  3 [1]\n",
            "One hot Predictions: observation  3 [[0.0, 1.0, 0.0, 0.0, 0.0, 0.0, 0.0, 0.0, 0.0, 0.0]]\n",
            "Transformed Predictions: observation  4 [3, 5]\n",
            "One hot Predictions: observation  4 [[0.0, 0.0, 0.0, 1.0, 0.0, 1.0, 0.0, 0.0, 0.0, 0.0]]\n"
          ]
        }
      ]
    }
  ]
}