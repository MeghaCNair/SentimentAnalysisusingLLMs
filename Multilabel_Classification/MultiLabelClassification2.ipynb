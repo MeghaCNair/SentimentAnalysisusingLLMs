{
  "nbformat": 4,
  "nbformat_minor": 0,
  "metadata": {
    "colab": {
      "provenance": [],
      "machine_shape": "hm",
      "gpuType": "T4"
    },
    "kernelspec": {
      "name": "python3",
      "display_name": "Python 3"
    },
    "language_info": {
      "name": "python"
    },
    "accelerator": "GPU"
  },
  "cells": [
    {
      "cell_type": "markdown",
      "source": [
        "**Why do we not need collate function for this part of the assignment? Answer:<font color=\"blue\">Collate functions are often used to handle datasets where inputs vary in length, such as natural language processing tasks with variable-length sentences. In those cases, you might need to pad the shorter sequences to match the longest sequence in a batch.\n",
        "In this case, since all input vectors have a fixed length (e.g., 5000 for TF-IDF vectors), no padding is required and hence we do not need collate functions</font>**"
      ],
      "metadata": {
        "id": "WxvI0LKpzYzr"
      }
    },
    {
      "cell_type": "code",
      "execution_count": 2,
      "metadata": {
        "colab": {
          "base_uri": "https://localhost:8080/"
        },
        "id": "w09GOM7XmqaY",
        "outputId": "65069a45-ab79-4207-a226-d3e7453cdf01"
      },
      "outputs": [
        {
          "output_type": "stream",
          "name": "stdout",
          "text": [
            "\u001b[2K   \u001b[90m━━━━━━━━━━━━━━━━━━━━━━━━━━━━━━━━━━━━━━━━\u001b[0m \u001b[32m1.5/1.5 MB\u001b[0m \u001b[31m59.2 MB/s\u001b[0m eta \u001b[36m0:00:00\u001b[0m\n",
            "\u001b[2K     \u001b[90m━━━━━━━━━━━━━━━━━━━━━━━━━━━━━━━━━━━━━━━━\u001b[0m \u001b[32m12.8/12.8 MB\u001b[0m \u001b[31m108.9 MB/s\u001b[0m eta \u001b[36m0:00:00\u001b[0m\n",
            "\u001b[?25h\u001b[38;5;2m✔ Download and installation successful\u001b[0m\n",
            "You can now load the package via spacy.load('en_core_web_sm')\n",
            "\u001b[38;5;3m⚠ Restart to reload dependencies\u001b[0m\n",
            "If you are in a Jupyter or Colab notebook, you may need to restart Python in\n",
            "order to load all the package's dependencies. You can do this by selecting the\n",
            "'Restart kernel' or 'Restart runtime' option.\n"
          ]
        }
      ],
      "source": [
        "!pip install -U nltk -qq\n",
        "!pip install -U spacy -qq\n",
        "!python -m spacy download en_core_web_sm -qq"
      ]
    },
    {
      "cell_type": "code",
      "source": [
        "from google.colab import drive\n",
        "drive.mount('/content/drive')"
      ],
      "metadata": {
        "colab": {
          "base_uri": "https://localhost:8080/"
        },
        "id": "I5suaqS7nANf",
        "outputId": "192e006e-6147-4197-9e7d-15efb2bd972b"
      },
      "execution_count": 3,
      "outputs": [
        {
          "output_type": "stream",
          "name": "stdout",
          "text": [
            "Mounted at /content/drive\n"
          ]
        }
      ]
    },
    {
      "cell_type": "code",
      "source": [
        "import sys\n",
        "basepath = '/content/drive/MyDrive/data'\n",
        "sys.path.append('/content/drive/MyDrive/Applied NLP/Codes/Custom py classes')"
      ],
      "metadata": {
        "id": "rA8f4s5onQKQ"
      },
      "execution_count": 4,
      "outputs": []
    },
    {
      "cell_type": "code",
      "source": [
        "import joblib\n",
        "stackxg = joblib.load(\"/content/drive/MyDrive/Applied NLP/Codes/df_multilabel_hw_cleaned.joblib\")"
      ],
      "metadata": {
        "id": "2lyB-sBWnUZC"
      },
      "execution_count": 5,
      "outputs": []
    },
    {
      "cell_type": "markdown",
      "source": [
        "**Step 1 - One hot encoding of target labels.**"
      ],
      "metadata": {
        "id": "pg4jik3k6RXg"
      }
    },
    {
      "cell_type": "code",
      "source": [
        "import ast\n",
        "from ast import literal_eval\n",
        "stackxg['Tag_Number'] = stackxg['Tag_Number'].apply(literal_eval)\n",
        "stackxg.head()"
      ],
      "metadata": {
        "colab": {
          "base_uri": "https://localhost:8080/",
          "height": 206
        },
        "id": "dAgjJRa0nmZx",
        "outputId": "eebec22a-d3d6-4e6c-d6cd-fdf6b0e039e4"
      },
      "execution_count": 6,
      "outputs": [
        {
          "output_type": "execute_result",
          "data": {
            "text/plain": [
              "                                        cleaned_text               Tags  \\\n",
              "0  asp query stre dropdown webpage follow control...         c# asp.net   \n",
              "1  run javascript code server java code want run ...    java javascript   \n",
              "2  linq sql throw exception row find change hi li...         c# asp.net   \n",
              "3  run python script php server run nginx web ser...         php python   \n",
              "4  advice write function m try write function res...  javascript jquery   \n",
              "\n",
              "  Tag_Number  \n",
              "0     [0, 9]  \n",
              "1     [1, 3]  \n",
              "2     [0, 9]  \n",
              "3     [2, 7]  \n",
              "4     [3, 5]  "
            ],
            "text/html": [
              "\n",
              "  <div id=\"df-69d71476-e6e7-4563-953d-4aa2497d0504\" class=\"colab-df-container\">\n",
              "    <div>\n",
              "<style scoped>\n",
              "    .dataframe tbody tr th:only-of-type {\n",
              "        vertical-align: middle;\n",
              "    }\n",
              "\n",
              "    .dataframe tbody tr th {\n",
              "        vertical-align: top;\n",
              "    }\n",
              "\n",
              "    .dataframe thead th {\n",
              "        text-align: right;\n",
              "    }\n",
              "</style>\n",
              "<table border=\"1\" class=\"dataframe\">\n",
              "  <thead>\n",
              "    <tr style=\"text-align: right;\">\n",
              "      <th></th>\n",
              "      <th>cleaned_text</th>\n",
              "      <th>Tags</th>\n",
              "      <th>Tag_Number</th>\n",
              "    </tr>\n",
              "  </thead>\n",
              "  <tbody>\n",
              "    <tr>\n",
              "      <th>0</th>\n",
              "      <td>asp query stre dropdown webpage follow control...</td>\n",
              "      <td>c# asp.net</td>\n",
              "      <td>[0, 9]</td>\n",
              "    </tr>\n",
              "    <tr>\n",
              "      <th>1</th>\n",
              "      <td>run javascript code server java code want run ...</td>\n",
              "      <td>java javascript</td>\n",
              "      <td>[1, 3]</td>\n",
              "    </tr>\n",
              "    <tr>\n",
              "      <th>2</th>\n",
              "      <td>linq sql throw exception row find change hi li...</td>\n",
              "      <td>c# asp.net</td>\n",
              "      <td>[0, 9]</td>\n",
              "    </tr>\n",
              "    <tr>\n",
              "      <th>3</th>\n",
              "      <td>run python script php server run nginx web ser...</td>\n",
              "      <td>php python</td>\n",
              "      <td>[2, 7]</td>\n",
              "    </tr>\n",
              "    <tr>\n",
              "      <th>4</th>\n",
              "      <td>advice write function m try write function res...</td>\n",
              "      <td>javascript jquery</td>\n",
              "      <td>[3, 5]</td>\n",
              "    </tr>\n",
              "  </tbody>\n",
              "</table>\n",
              "</div>\n",
              "    <div class=\"colab-df-buttons\">\n",
              "\n",
              "  <div class=\"colab-df-container\">\n",
              "    <button class=\"colab-df-convert\" onclick=\"convertToInteractive('df-69d71476-e6e7-4563-953d-4aa2497d0504')\"\n",
              "            title=\"Convert this dataframe to an interactive table.\"\n",
              "            style=\"display:none;\">\n",
              "\n",
              "  <svg xmlns=\"http://www.w3.org/2000/svg\" height=\"24px\" viewBox=\"0 -960 960 960\">\n",
              "    <path d=\"M120-120v-720h720v720H120Zm60-500h600v-160H180v160Zm220 220h160v-160H400v160Zm0 220h160v-160H400v160ZM180-400h160v-160H180v160Zm440 0h160v-160H620v160ZM180-180h160v-160H180v160Zm440 0h160v-160H620v160Z\"/>\n",
              "  </svg>\n",
              "    </button>\n",
              "\n",
              "  <style>\n",
              "    .colab-df-container {\n",
              "      display:flex;\n",
              "      gap: 12px;\n",
              "    }\n",
              "\n",
              "    .colab-df-convert {\n",
              "      background-color: #E8F0FE;\n",
              "      border: none;\n",
              "      border-radius: 50%;\n",
              "      cursor: pointer;\n",
              "      display: none;\n",
              "      fill: #1967D2;\n",
              "      height: 32px;\n",
              "      padding: 0 0 0 0;\n",
              "      width: 32px;\n",
              "    }\n",
              "\n",
              "    .colab-df-convert:hover {\n",
              "      background-color: #E2EBFA;\n",
              "      box-shadow: 0px 1px 2px rgba(60, 64, 67, 0.3), 0px 1px 3px 1px rgba(60, 64, 67, 0.15);\n",
              "      fill: #174EA6;\n",
              "    }\n",
              "\n",
              "    .colab-df-buttons div {\n",
              "      margin-bottom: 4px;\n",
              "    }\n",
              "\n",
              "    [theme=dark] .colab-df-convert {\n",
              "      background-color: #3B4455;\n",
              "      fill: #D2E3FC;\n",
              "    }\n",
              "\n",
              "    [theme=dark] .colab-df-convert:hover {\n",
              "      background-color: #434B5C;\n",
              "      box-shadow: 0px 1px 3px 1px rgba(0, 0, 0, 0.15);\n",
              "      filter: drop-shadow(0px 1px 2px rgba(0, 0, 0, 0.3));\n",
              "      fill: #FFFFFF;\n",
              "    }\n",
              "  </style>\n",
              "\n",
              "    <script>\n",
              "      const buttonEl =\n",
              "        document.querySelector('#df-69d71476-e6e7-4563-953d-4aa2497d0504 button.colab-df-convert');\n",
              "      buttonEl.style.display =\n",
              "        google.colab.kernel.accessAllowed ? 'block' : 'none';\n",
              "\n",
              "      async function convertToInteractive(key) {\n",
              "        const element = document.querySelector('#df-69d71476-e6e7-4563-953d-4aa2497d0504');\n",
              "        const dataTable =\n",
              "          await google.colab.kernel.invokeFunction('convertToInteractive',\n",
              "                                                    [key], {});\n",
              "        if (!dataTable) return;\n",
              "\n",
              "        const docLinkHtml = 'Like what you see? Visit the ' +\n",
              "          '<a target=\"_blank\" href=https://colab.research.google.com/notebooks/data_table.ipynb>data table notebook</a>'\n",
              "          + ' to learn more about interactive tables.';\n",
              "        element.innerHTML = '';\n",
              "        dataTable['output_type'] = 'display_data';\n",
              "        await google.colab.output.renderOutput(dataTable, element);\n",
              "        const docLink = document.createElement('div');\n",
              "        docLink.innerHTML = docLinkHtml;\n",
              "        element.appendChild(docLink);\n",
              "      }\n",
              "    </script>\n",
              "  </div>\n",
              "\n",
              "\n",
              "<div id=\"df-503c322b-afce-4b5e-86c5-c6173d0096c1\">\n",
              "  <button class=\"colab-df-quickchart\" onclick=\"quickchart('df-503c322b-afce-4b5e-86c5-c6173d0096c1')\"\n",
              "            title=\"Suggest charts\"\n",
              "            style=\"display:none;\">\n",
              "\n",
              "<svg xmlns=\"http://www.w3.org/2000/svg\" height=\"24px\"viewBox=\"0 0 24 24\"\n",
              "     width=\"24px\">\n",
              "    <g>\n",
              "        <path d=\"M19 3H5c-1.1 0-2 .9-2 2v14c0 1.1.9 2 2 2h14c1.1 0 2-.9 2-2V5c0-1.1-.9-2-2-2zM9 17H7v-7h2v7zm4 0h-2V7h2v10zm4 0h-2v-4h2v4z\"/>\n",
              "    </g>\n",
              "</svg>\n",
              "  </button>\n",
              "\n",
              "<style>\n",
              "  .colab-df-quickchart {\n",
              "      --bg-color: #E8F0FE;\n",
              "      --fill-color: #1967D2;\n",
              "      --hover-bg-color: #E2EBFA;\n",
              "      --hover-fill-color: #174EA6;\n",
              "      --disabled-fill-color: #AAA;\n",
              "      --disabled-bg-color: #DDD;\n",
              "  }\n",
              "\n",
              "  [theme=dark] .colab-df-quickchart {\n",
              "      --bg-color: #3B4455;\n",
              "      --fill-color: #D2E3FC;\n",
              "      --hover-bg-color: #434B5C;\n",
              "      --hover-fill-color: #FFFFFF;\n",
              "      --disabled-bg-color: #3B4455;\n",
              "      --disabled-fill-color: #666;\n",
              "  }\n",
              "\n",
              "  .colab-df-quickchart {\n",
              "    background-color: var(--bg-color);\n",
              "    border: none;\n",
              "    border-radius: 50%;\n",
              "    cursor: pointer;\n",
              "    display: none;\n",
              "    fill: var(--fill-color);\n",
              "    height: 32px;\n",
              "    padding: 0;\n",
              "    width: 32px;\n",
              "  }\n",
              "\n",
              "  .colab-df-quickchart:hover {\n",
              "    background-color: var(--hover-bg-color);\n",
              "    box-shadow: 0 1px 2px rgba(60, 64, 67, 0.3), 0 1px 3px 1px rgba(60, 64, 67, 0.15);\n",
              "    fill: var(--button-hover-fill-color);\n",
              "  }\n",
              "\n",
              "  .colab-df-quickchart-complete:disabled,\n",
              "  .colab-df-quickchart-complete:disabled:hover {\n",
              "    background-color: var(--disabled-bg-color);\n",
              "    fill: var(--disabled-fill-color);\n",
              "    box-shadow: none;\n",
              "  }\n",
              "\n",
              "  .colab-df-spinner {\n",
              "    border: 2px solid var(--fill-color);\n",
              "    border-color: transparent;\n",
              "    border-bottom-color: var(--fill-color);\n",
              "    animation:\n",
              "      spin 1s steps(1) infinite;\n",
              "  }\n",
              "\n",
              "  @keyframes spin {\n",
              "    0% {\n",
              "      border-color: transparent;\n",
              "      border-bottom-color: var(--fill-color);\n",
              "      border-left-color: var(--fill-color);\n",
              "    }\n",
              "    20% {\n",
              "      border-color: transparent;\n",
              "      border-left-color: var(--fill-color);\n",
              "      border-top-color: var(--fill-color);\n",
              "    }\n",
              "    30% {\n",
              "      border-color: transparent;\n",
              "      border-left-color: var(--fill-color);\n",
              "      border-top-color: var(--fill-color);\n",
              "      border-right-color: var(--fill-color);\n",
              "    }\n",
              "    40% {\n",
              "      border-color: transparent;\n",
              "      border-right-color: var(--fill-color);\n",
              "      border-top-color: var(--fill-color);\n",
              "    }\n",
              "    60% {\n",
              "      border-color: transparent;\n",
              "      border-right-color: var(--fill-color);\n",
              "    }\n",
              "    80% {\n",
              "      border-color: transparent;\n",
              "      border-right-color: var(--fill-color);\n",
              "      border-bottom-color: var(--fill-color);\n",
              "    }\n",
              "    90% {\n",
              "      border-color: transparent;\n",
              "      border-bottom-color: var(--fill-color);\n",
              "    }\n",
              "  }\n",
              "</style>\n",
              "\n",
              "  <script>\n",
              "    async function quickchart(key) {\n",
              "      const quickchartButtonEl =\n",
              "        document.querySelector('#' + key + ' button');\n",
              "      quickchartButtonEl.disabled = true;  // To prevent multiple clicks.\n",
              "      quickchartButtonEl.classList.add('colab-df-spinner');\n",
              "      try {\n",
              "        const charts = await google.colab.kernel.invokeFunction(\n",
              "            'suggestCharts', [key], {});\n",
              "      } catch (error) {\n",
              "        console.error('Error during call to suggestCharts:', error);\n",
              "      }\n",
              "      quickchartButtonEl.classList.remove('colab-df-spinner');\n",
              "      quickchartButtonEl.classList.add('colab-df-quickchart-complete');\n",
              "    }\n",
              "    (() => {\n",
              "      let quickchartButtonEl =\n",
              "        document.querySelector('#df-503c322b-afce-4b5e-86c5-c6173d0096c1 button');\n",
              "      quickchartButtonEl.style.display =\n",
              "        google.colab.kernel.accessAllowed ? 'block' : 'none';\n",
              "    })();\n",
              "  </script>\n",
              "</div>\n",
              "\n",
              "    </div>\n",
              "  </div>\n"
            ],
            "application/vnd.google.colaboratory.intrinsic+json": {
              "type": "dataframe",
              "variable_name": "stackxg",
              "summary": "{\n  \"name\": \"stackxg\",\n  \"rows\": 47427,\n  \"fields\": [\n    {\n      \"column\": \"cleaned_text\",\n      \"properties\": {\n        \"dtype\": \"string\",\n        \"num_unique_values\": 36481,\n        \"samples\": [\n          \"fadein invisible list item jquery unordered list lis invisible display begin want specific li visible js function try $ list li nth child(1)\\\").fadein work ul visible begin code > li      display   < ul class=\\\"hide id=\\\"my list >      < li>1</li >      < li>2</li >      < li>3</li > < /ul >   try answer question feel free stab\",\n          \"deploy project server create website excel file mail d information mail d fetch excel file excel file send mail automatically mail d design subject cc bcc content create project export excel file fetch mail d ms access database send email automatically design deploy project ftp.i know create help regard padmapriya s  \",\n          \"custom keypad button functional app finish scoreboard app   user longclick score currently dialog box appear show edittext field ok cancel button   user click edittext field keypad appear number user type new score click edittext field show new value dialog box user click ok save enter value textview show current score problem feel cumbersome   like happen   user longclick score keypad appear user enter new score user click ok keypad disappear value save textview update current score   order accomplish think thing   create new class extend view new android understand option replace edittext dialog new xml file design like keypad   option 2   figure probably easy design xml layout call   user longclick file inflate dialog ok cancel   far good   know code button action thought figure setup onclick listener button layout   figure button go perform exact function   basically text button case 0 9 append textview keypad   user click ok save textview current score textview help point right direction accomplish screenshot textview number   xml code < xml version=\\\"1.0 encoding=\\\"utf-8 > < gridlayout xmlns apk res android android layout_width=\\\"wrap_content android layout_height=\\\"wrap_content android layout_gravity=\\\"fill android columncount=\\\"3 >   < textview      android id=\\\"@+id textview1      android layout_columnspan=\\\"3      android layout_gravity=\\\"fill      android gravity=\\\"right|center_vertical      android textsize=\\\"24sp >   < button android text=\\\"1 >   < button android text=\\\"2 >   < button android text=\\\"3 > < button android text=\\\"4 > < button android text=\\\"5 > < button android text=\\\"6 > < button android text=\\\"7 > < button android text=\\\"8 > < button android text=\\\"9 >   < button      android layout_columnspan=\\\"3      android layout_gravity=\\\"fill      android gravity=\\\"center      android text=\\\"0 >   \"\n        ],\n        \"semantic_type\": \"\",\n        \"description\": \"\"\n      }\n    },\n    {\n      \"column\": \"Tags\",\n      \"properties\": {\n        \"dtype\": \"category\",\n        \"num_unique_values\": 176,\n        \"samples\": [\n          \"javascript asp.net\",\n          \"c# asp.net jquery\",\n          \"c# java python\"\n        ],\n        \"semantic_type\": \"\",\n        \"description\": \"\"\n      }\n    },\n    {\n      \"column\": \"Tag_Number\",\n      \"properties\": {\n        \"dtype\": \"object\",\n        \"semantic_type\": \"\",\n        \"description\": \"\"\n      }\n    }\n  ]\n}"
            }
          },
          "metadata": {},
          "execution_count": 6
        }
      ]
    },
    {
      "cell_type": "code",
      "source": [
        "!pip install scikit-learn\n",
        "from sklearn.preprocessing import MultiLabelBinarizer"
      ],
      "metadata": {
        "colab": {
          "base_uri": "https://localhost:8080/"
        },
        "id": "PEsz8S59nqRG",
        "outputId": "db15560b-ba36-4edb-e006-293131f97b25"
      },
      "execution_count": 7,
      "outputs": [
        {
          "output_type": "stream",
          "name": "stdout",
          "text": [
            "Requirement already satisfied: scikit-learn in /usr/local/lib/python3.10/dist-packages (1.5.2)\n",
            "Requirement already satisfied: numpy>=1.19.5 in /usr/local/lib/python3.10/dist-packages (from scikit-learn) (1.26.4)\n",
            "Requirement already satisfied: scipy>=1.6.0 in /usr/local/lib/python3.10/dist-packages (from scikit-learn) (1.13.1)\n",
            "Requirement already satisfied: joblib>=1.2.0 in /usr/local/lib/python3.10/dist-packages (from scikit-learn) (1.4.2)\n",
            "Requirement already satisfied: threadpoolctl>=3.1.0 in /usr/local/lib/python3.10/dist-packages (from scikit-learn) (3.5.0)\n"
          ]
        }
      ]
    },
    {
      "cell_type": "code",
      "source": [
        "mlbinarizer = MultiLabelBinarizer()\n",
        "targets = mlbinarizer.fit_transform(stackxg['Tag_Number'])\n",
        "targets"
      ],
      "metadata": {
        "colab": {
          "base_uri": "https://localhost:8080/"
        },
        "id": "P5NjCWHBoEPG",
        "outputId": "7b008cf8-e465-4c63-b177-0ed3868a593f"
      },
      "execution_count": 8,
      "outputs": [
        {
          "output_type": "execute_result",
          "data": {
            "text/plain": [
              "array([[1, 0, 0, ..., 0, 0, 1],\n",
              "       [0, 1, 0, ..., 0, 0, 0],\n",
              "       [1, 0, 0, ..., 0, 0, 1],\n",
              "       ...,\n",
              "       [0, 1, 0, ..., 0, 0, 0],\n",
              "       [0, 0, 0, ..., 0, 0, 1],\n",
              "       [0, 0, 0, ..., 0, 0, 0]])"
            ]
          },
          "metadata": {},
          "execution_count": 8
        }
      ]
    },
    {
      "cell_type": "markdown",
      "source": [
        "**Step 2: Train,validation and  Test Splitting**"
      ],
      "metadata": {
        "id": "NkT_qp7r6eSc"
      }
    },
    {
      "cell_type": "code",
      "source": [
        "from sklearn.model_selection import train_test_split\n",
        "\n",
        "X, y = list(stackxg['cleaned_text'].values), targets\n",
        "X_train, X_test, y_train, y_test = train_test_split(X, y, test_size=0.2, random_state=42)"
      ],
      "metadata": {
        "id": "nyA0XCe2oIGT"
      },
      "execution_count": 9,
      "outputs": []
    },
    {
      "cell_type": "code",
      "source": [
        "X_train1, X_val, y_train1, y_val = train_test_split(X_train, y_train, test_size=0.2, random_state=42)"
      ],
      "metadata": {
        "id": "SZsNkenaoK2i"
      },
      "execution_count": 10,
      "outputs": []
    },
    {
      "cell_type": "markdown",
      "source": [
        "**Using spacy to do basic cleaning of the dataset**"
      ],
      "metadata": {
        "id": "Jxj_iR016kTG"
      }
    },
    {
      "cell_type": "code",
      "source": [
        "import CustomPreprocessorSpacy as cp\n",
        "from FeaturizerSpacy import ManualFeatures\n",
        "from plot_learning_curve import plot_learning_curve"
      ],
      "metadata": {
        "id": "Kd3b1b8yoP_P"
      },
      "execution_count": 11,
      "outputs": []
    },
    {
      "cell_type": "code",
      "source": [
        "cp.SpacyPreprocessor"
      ],
      "metadata": {
        "colab": {
          "base_uri": "https://localhost:8080/",
          "height": 221
        },
        "id": "7n9lVdEao12i",
        "outputId": "129cbbd0-573e-4937-c9f3-57dcc8149388"
      },
      "execution_count": 12,
      "outputs": [
        {
          "output_type": "execute_result",
          "data": {
            "text/plain": [
              "CustomPreprocessorSpacy.SpacyPreprocessor"
            ],
            "text/html": [
              "<div style=\"max-width:800px; border: 1px solid var(--colab-border-color);\"><style>\n",
              "      pre.function-repr-contents {\n",
              "        overflow-x: auto;\n",
              "        padding: 8px 12px;\n",
              "        max-height: 500px;\n",
              "      }\n",
              "\n",
              "      pre.function-repr-contents.function-repr-contents-collapsed {\n",
              "        cursor: pointer;\n",
              "        max-height: 100px;\n",
              "      }\n",
              "    </style>\n",
              "    <pre style=\"white-space: initial; background:\n",
              "         var(--colab-secondary-surface-color); padding: 8px 12px;\n",
              "         border-bottom: 1px solid var(--colab-border-color);\"><b>CustomPreprocessorSpacy.SpacyPreprocessor</b><br/>def __init__(model, *, batch_size=64, lemmatize=True, lower=True, remove_stop=True, remove_punct=True, remove_email=True, remove_url=True, remove_num=False, stemming=False, add_user_mention_prefix=True, remove_hashtag_prefix=False, basic_clean_only=False)</pre><pre class=\"function-repr-contents function-repr-contents-collapsed\" style=\"\"><a class=\"filepath\" style=\"display:none\" href=\"#\">/content/drive/MyDrive/Applied NLP/Codes/Custom py classes/CustomPreprocessorSpacy.py</a>A text preprocessor that utilizes spaCy for efficient and flexible NLP. Designed as a part of a scikit-learn\n",
              "pipeline, it provides a wide range of text cleaning and preprocessing functionalities.\n",
              "\n",
              "Attributes:\n",
              "    model (str): The spaCy language model to be used for tokenization and other NLP tasks.\n",
              "    batch_size (int): The number of documents to process at once during spaCy&#x27;s pipeline processing.\n",
              "    lemmatize (bool): If True, lemmatize tokens.\n",
              "    lower (bool): If True, convert all characters to lowercase.\n",
              "    remove_stop (bool): If True, remove stopwords.\n",
              "    remove_punct (bool): If True, remove punctuation.\n",
              "    remove_email (bool): If True, remove email addresses.\n",
              "    remove_url (bool): If True, remove URLs.\n",
              "    remove_num (bool): If True, remove numbers.\n",
              "    stemming (bool): If True, apply stemming to tokens (mutually exclusive with lemmatization).\n",
              "    add_user_mention_prefix (bool): If True, add &#x27;@&#x27; as a separate token (useful for user mentions in social \n",
              "        media data).\n",
              "    remove_hashtag_prefix (bool): If True, do not separate &#x27;#&#x27; from the following text.\n",
              "    basic_clean_only (bool): If True, perform only basic cleaning (HTML tags removal, line breaks, etc.) \n",
              "        and ignore other preprocessing steps.\n",
              "\n",
              "Methods:\n",
              "    basic_clean(text: str) -&gt; str:\n",
              "        Performs basic cleaning of the text such as removing HTML tags and excessive whitespace.\n",
              "    \n",
              "    spacy_preprocessor(texts: list) -&gt; list:\n",
              "        Processes a list of texts through the spaCy pipeline with specified preprocessing options.\n",
              "    \n",
              "    fit(X, y=None) -&gt; &#x27;SpacyPreprocessor&#x27;:\n",
              "        Fits the preprocessor to the data. This is a dummy method for scikit-learn compatibility and does not \n",
              "        change the state of the object.\n",
              "    \n",
              "    transform(X, y=None) -&gt; list:\n",
              "        Transforms the provided data using the defined preprocessing pipeline. Performs basic cleaning, \n",
              "        and if `basic_clean_only` is False, it applies advanced spaCy preprocessing steps.\n",
              "\n",
              "Raises:\n",
              "    ValueError: If both &#x27;lemmatize&#x27; and &#x27;stemming&#x27; are set to True.\n",
              "    ValueError: If &#x27;basic_clean_only&#x27; is True but other processing options are also set to True.\n",
              "    TypeError: If the input X is not a list or a numpy array.</pre>\n",
              "      <script>\n",
              "      if (google.colab.kernel.accessAllowed && google.colab.files && google.colab.files.view) {\n",
              "        for (const element of document.querySelectorAll('.filepath')) {\n",
              "          element.style.display = 'block'\n",
              "          element.onclick = (event) => {\n",
              "            event.preventDefault();\n",
              "            event.stopPropagation();\n",
              "            google.colab.files.view(element.textContent, 9);\n",
              "          };\n",
              "        }\n",
              "      }\n",
              "      for (const element of document.querySelectorAll('.function-repr-contents')) {\n",
              "        element.onclick = (event) => {\n",
              "          event.preventDefault();\n",
              "          event.stopPropagation();\n",
              "          element.classList.toggle('function-repr-contents-collapsed');\n",
              "        };\n",
              "      }\n",
              "      </script>\n",
              "      </div>"
            ]
          },
          "metadata": {},
          "execution_count": 12
        }
      ]
    },
    {
      "cell_type": "code",
      "source": [
        "X_train_cleaned = cp.SpacyPreprocessor(model='en_core_web_sm', batch_size = 100).transform(X_train1)"
      ],
      "metadata": {
        "colab": {
          "base_uri": "https://localhost:8080/"
        },
        "id": "0TTQnwzDo3dN",
        "outputId": "cac08ab3-3fe0-45e2-d486-ea10ca16b825"
      },
      "execution_count": 13,
      "outputs": [
        {
          "output_type": "stream",
          "name": "stderr",
          "text": [
            "/content/drive/MyDrive/Applied NLP/Codes/Custom py classes/CustomPreprocessorSpacy.py:83: MarkupResemblesLocatorWarning: The input looks more like a filename than markup. You may want to open this file and pass the filehandle into Beautiful Soup.\n",
            "  soup = BeautifulSoup(text, \"html.parser\")\n",
            "/usr/lib/python3.10/html/parser.py:170: XMLParsedAsHTMLWarning: It looks like you're parsing an XML document using an HTML parser. If this really is an HTML document (maybe it's XHTML?), you can ignore or filter this warning. If it's XML, you should know that using an XML parser will be more reliable. To parse this document as XML, make sure you have the lxml package installed, and pass the keyword argument `features=\"xml\"` into the BeautifulSoup constructor.\n",
            "  k = self.parse_starttag(i)\n"
          ]
        }
      ]
    },
    {
      "cell_type": "code",
      "source": [
        "X_val_cleaned = cp.SpacyPreprocessor(model='en_core_web_sm', batch_size = 100).transform(X_val)"
      ],
      "metadata": {
        "id": "GH_-UNpbpCcw",
        "colab": {
          "base_uri": "https://localhost:8080/"
        },
        "outputId": "44cfdab9-6618-40e0-c767-63260fd3d9db"
      },
      "execution_count": 14,
      "outputs": [
        {
          "output_type": "stream",
          "name": "stderr",
          "text": [
            "/usr/local/lib/python3.10/dist-packages/spacy/util.py:1740: UserWarning: [W111] Jupyter notebook detected: if using `prefer_gpu()` or `require_gpu()`, include it in the same cell right before `spacy.load()` to ensure that the model is loaded on the correct device. More information: http://spacy.io/usage/v3#jupyter-notebook-gpu\n",
            "  warnings.warn(Warnings.W111)\n"
          ]
        }
      ]
    },
    {
      "cell_type": "code",
      "source": [
        "X_test_cleaned = cp.SpacyPreprocessor(model='en_core_web_sm', batch_size = 100).transform(X_test)"
      ],
      "metadata": {
        "id": "2y0vHB0JpRbX"
      },
      "execution_count": 15,
      "outputs": []
    },
    {
      "cell_type": "markdown",
      "source": [
        "**TF-IDF vectorization**"
      ],
      "metadata": {
        "id": "AV4mXsX16ssu"
      }
    },
    {
      "cell_type": "code",
      "source": [
        "from sklearn.feature_extraction.text import TfidfVectorizer\n",
        "\n",
        "# Create a TfidfVectorizer with a maximum of 5000 features\n",
        "tfidf_vectorizer = TfidfVectorizer(max_features=5000)\n",
        "\n",
        "# Fit on training data\n",
        "X_train_tfidf = tfidf_vectorizer.fit_transform(X_train_cleaned)\n",
        "\n",
        "# Transform on validation and test sets\n",
        "X_valid_tfidf = tfidf_vectorizer.transform(X_val_cleaned)\n",
        "X_test_tfidf = tfidf_vectorizer.transform(X_test_cleaned)\n"
      ],
      "metadata": {
        "id": "ibgeiVI-pyeW"
      },
      "execution_count": 16,
      "outputs": []
    },
    {
      "cell_type": "markdown",
      "source": [
        "**Pytorch tensor created for train,val and test datasets**"
      ],
      "metadata": {
        "id": "_yKxlSx16w3h"
      }
    },
    {
      "cell_type": "code",
      "source": [
        "import torch\n",
        "from torch.utils.data import TensorDataset\n",
        "\n",
        "# Convert X and y to tensors\n",
        "X_train_tensor = torch.tensor(X_train_tfidf.toarray(), dtype=torch.float32)\n",
        "X_valid_tensor = torch.tensor(X_valid_tfidf.toarray(), dtype=torch.float32)\n",
        "X_test_tensor = torch.tensor(X_test_tfidf.toarray(), dtype=torch.float32)\n",
        "\n",
        "y_train_tensor = torch.tensor(y_train1, dtype=torch.float32)\n",
        "y_valid_tensor = torch.tensor(y_val, dtype=torch.float32)\n",
        "y_test_tensor = torch.tensor(y_test, dtype=torch.float32)\n",
        "\n",
        "# Create PyTorch datasets\n",
        "trainset = TensorDataset(X_train_tensor, y_train_tensor)\n",
        "validset = TensorDataset(X_valid_tensor, y_valid_tensor)\n",
        "testset = TensorDataset(X_test_tensor, y_test_tensor)\n"
      ],
      "metadata": {
        "id": "OIka0yyeqBdp"
      },
      "execution_count": 17,
      "outputs": []
    },
    {
      "cell_type": "markdown",
      "source": [
        "**Simple Neural Network with layers:Hidden>reLu>Dropout>BatchNorm>Hidden>relu>Dropout>Batchnorm**"
      ],
      "metadata": {
        "id": "F1VbYCrO66ZM"
      }
    },
    {
      "cell_type": "code",
      "source": [
        "import torch.nn as nn\n",
        "\n",
        "class SimpleNN(nn.Module):\n",
        "    def __init__(self, input_dim, hidden_dim1, hidden_dim2, output_dim, drop_prob1=0.5, drop_prob2=0.5):\n",
        "        super(SimpleNN, self).__init__()\n",
        "\n",
        "        # First hidden layer\n",
        "        self.hidden1 = nn.Linear(input_dim, hidden_dim1)\n",
        "        self.relu1 = nn.ReLU()\n",
        "        self.dropout1 = nn.Dropout(p=drop_prob1)\n",
        "        self.batchnorm1 = nn.BatchNorm1d(hidden_dim1)\n",
        "\n",
        "        # Second hidden layer\n",
        "        self.hidden2 = nn.Linear(hidden_dim1, hidden_dim2)\n",
        "        self.relu2 = nn.ReLU()\n",
        "        self.dropout2 = nn.Dropout(p=drop_prob2)\n",
        "        self.batchnorm2 = nn.BatchNorm1d(hidden_dim2)\n",
        "\n",
        "        # Output layer\n",
        "        self.output = nn.Linear(hidden_dim2, output_dim)\n",
        "\n",
        "    def forward(self, x):\n",
        "        # Pass through first hidden layer\n",
        "        x = self.hidden1(x)\n",
        "        x = self.relu1(x)\n",
        "        x = self.dropout1(x)\n",
        "        x = self.batchnorm1(x)\n",
        "\n",
        "        # Pass through second hidden layer\n",
        "        x = self.hidden2(x)\n",
        "        x = self.relu2(x)\n",
        "        x = self.dropout2(x)\n",
        "        x = self.batchnorm2(x)\n",
        "\n",
        "        # Output layer\n",
        "        x = self.output(x)\n",
        "        return x\n"
      ],
      "metadata": {
        "id": "tbwuufy2qmVy"
      },
      "execution_count": 18,
      "outputs": []
    },
    {
      "cell_type": "code",
      "source": [
        "!pip install torchinfo"
      ],
      "metadata": {
        "colab": {
          "base_uri": "https://localhost:8080/"
        },
        "id": "xMuN_0TYq_--",
        "outputId": "ad275550-b2a3-403c-ac54-614cad29d610"
      },
      "execution_count": 19,
      "outputs": [
        {
          "output_type": "stream",
          "name": "stdout",
          "text": [
            "Collecting torchinfo\n",
            "  Downloading torchinfo-1.8.0-py3-none-any.whl.metadata (21 kB)\n",
            "Downloading torchinfo-1.8.0-py3-none-any.whl (23 kB)\n",
            "Installing collected packages: torchinfo\n",
            "Successfully installed torchinfo-1.8.0\n"
          ]
        }
      ]
    },
    {
      "cell_type": "code",
      "source": [
        "from torchinfo import summary\n",
        "import torch\n",
        "\n",
        "# Define the device\n",
        "device = torch.device('cuda:0' if torch.cuda.is_available() else 'cpu')\n",
        "\n",
        "# Define the model architecture (as in your SimpleNN class)\n",
        "model = SimpleNN(input_dim=5, hidden_dim1=5, hidden_dim2=3, output_dim=10, drop_prob1=0.5, drop_prob2=0.5)\n",
        "\n",
        "# Move the model to the device (CPU/GPU)\n",
        "model = model.to(device)\n",
        "\n",
        "# Generate some dummy input data to match the expected input dimension for the model\n",
        "# Here, input_dim is 5, so we need to generate a tensor with that dimension\n",
        "# Example: Batch size of 2, input dimension 5\n",
        "dummy_input = torch.randn(2, 5, dtype=torch.float32).to(device)\n",
        "\n",
        "# Generate summary using torchinfo (note that input_data should be a tensor, not a tuple in this case)\n",
        "summary(model, input_data=dummy_input, device=device, depth=10, verbose=False)\n"
      ],
      "metadata": {
        "colab": {
          "base_uri": "https://localhost:8080/"
        },
        "id": "HsN9DxP2ri17",
        "outputId": "ccdfd196-34a4-4a5d-9918-4dff55bd4422"
      },
      "execution_count": 20,
      "outputs": [
        {
          "output_type": "execute_result",
          "data": {
            "text/plain": [
              "==========================================================================================\n",
              "Layer (type:depth-idx)                   Output Shape              Param #\n",
              "==========================================================================================\n",
              "SimpleNN                                 [2, 10]                   --\n",
              "├─Linear: 1-1                            [2, 5]                    30\n",
              "├─ReLU: 1-2                              [2, 5]                    --\n",
              "├─Dropout: 1-3                           [2, 5]                    --\n",
              "├─BatchNorm1d: 1-4                       [2, 5]                    10\n",
              "├─Linear: 1-5                            [2, 3]                    18\n",
              "├─ReLU: 1-6                              [2, 3]                    --\n",
              "├─Dropout: 1-7                           [2, 3]                    --\n",
              "├─BatchNorm1d: 1-8                       [2, 3]                    6\n",
              "├─Linear: 1-9                            [2, 10]                   40\n",
              "==========================================================================================\n",
              "Total params: 104\n",
              "Trainable params: 104\n",
              "Non-trainable params: 0\n",
              "Total mult-adds (M): 0.00\n",
              "==========================================================================================\n",
              "Input size (MB): 0.00\n",
              "Forward/backward pass size (MB): 0.00\n",
              "Params size (MB): 0.00\n",
              "Estimated Total Size (MB): 0.00\n",
              "=========================================================================================="
            ]
          },
          "metadata": {},
          "execution_count": 20
        }
      ]
    },
    {
      "cell_type": "code",
      "source": [
        "# Generate some dummy input data with the correct shape for the SimpleNN\n",
        "# Example: batch size 2, 5 input features\n",
        "data = torch.randn(2, 5, dtype=torch.float32).to(device)  # Create random input tensor of shape [2, 5]\n",
        "\n",
        "# Forward pass through the model\n",
        "output = model(data)\n",
        "\n",
        "# Print the output\n",
        "print(output)\n"
      ],
      "metadata": {
        "colab": {
          "base_uri": "https://localhost:8080/"
        },
        "id": "bX-1DfXZsTQu",
        "outputId": "a23eb17d-78ac-48c8-eb1d-e1da8c86ae1c"
      },
      "execution_count": 21,
      "outputs": [
        {
          "output_type": "stream",
          "name": "stdout",
          "text": [
            "tensor([[ 0.1406,  0.0323,  0.3223,  0.0693, -0.6652, -0.4747, -0.4433, -0.0151,\n",
            "         -0.0372,  0.3383],\n",
            "        [-0.6210, -0.8289, -0.2651,  1.0388, -0.4043, -0.3588,  0.7055,  0.7423,\n",
            "          0.8939,  0.8037]], device='cuda:0', grad_fn=<AddmmBackward0>)\n"
          ]
        }
      ]
    },
    {
      "cell_type": "markdown",
      "source": [
        "**STEP Function for forward and backward passes**"
      ],
      "metadata": {
        "id": "nvIUPXhC7JGD"
      }
    },
    {
      "cell_type": "code",
      "source": [
        "def step(inputs, targets, model, device, loss_function=None, optimizer=None, CLIP_TYPE=\"value\", CLIP_VALUE=10):\n",
        "    \"\"\"\n",
        "    Performs a forward and backward pass for a given batch of inputs and targets.\n",
        "\n",
        "    Parameters:\n",
        "    - inputs (torch.Tensor): The input data for the model (real-valued, not a tuple).\n",
        "    - targets (torch.Tensor): The true labels for the input data.\n",
        "    - model (torch.nn.Module): The neural network model.\n",
        "    - device (torch.device): The computing device (CPU or GPU).\n",
        "    - loss_function (torch.nn.Module, optional): The loss function to use.\n",
        "    - optimizer (torch.optim.Optimizer, optional): The optimizer to update model parameters.\n",
        "    - CLIP_TYPE (str, optional): Type of gradient clipping ('value' or 'norm').\n",
        "    - CLIP_VALUE (float, optional): Value for gradient clipping.\n",
        "\n",
        "    Returns:\n",
        "    - loss (float): The computed loss value (only if loss_function is not None).\n",
        "    - outputs (torch.Tensor): The predictions from the model.\n",
        "    - correct (int): The number of correctly classified samples in the batch.\n",
        "    \"\"\"\n",
        "    # Move the model and data to the device\n",
        "    model = model.to(device)\n",
        "    inputs = inputs.to(device)  # Inputs should be a dense tensor\n",
        "    targets = targets.to(device)\n",
        "\n",
        "    # Step 1: Forward pass to get the model's predictions\n",
        "    outputs = model(inputs)\n",
        "\n",
        "    # Step 2a: Compute the loss using the provided loss function\n",
        "    if loss_function:\n",
        "        loss = loss_function(outputs, targets)\n",
        "\n",
        "    # Apply sigmoid to the outputs for multilabel classification\n",
        "    sigmoid_outputs = torch.sigmoid(outputs)\n",
        "    predicted = (sigmoid_outputs > 0.5).float()\n",
        "\n",
        "    # Step 2b: Calculate the number of correctly classified labels\n",
        "    correct = (predicted == targets).sum().item()\n",
        "\n",
        "    # Step 3 and 4: Perform backward pass and update model parameters if an optimizer is provided\n",
        "    if optimizer:\n",
        "        optimizer.zero_grad()  # Clear gradients\n",
        "        loss.backward()        # Backward pass to compute gradients\n",
        "\n",
        "        # Clip gradients before the optimizer step\n",
        "        if CLIP_TYPE == 'value':\n",
        "            torch.nn.utils.clip_grad_value_(model.parameters(), CLIP_VALUE)\n",
        "        elif CLIP_TYPE == 'norm':\n",
        "            torch.nn.utils.clip_grad_norm_(model.parameters(), CLIP_VALUE)\n",
        "\n",
        "        optimizer.step()  # Update parameters\n",
        "\n",
        "    # Return relevant metrics\n",
        "    if loss_function:\n",
        "        return loss, outputs, correct\n",
        "    else:\n",
        "        return None, outputs, correct\n"
      ],
      "metadata": {
        "id": "fHQEqz1rsrvk"
      },
      "execution_count": 22,
      "outputs": []
    },
    {
      "cell_type": "markdown",
      "source": [
        "**Evaluation over epochs for train and val**"
      ],
      "metadata": {
        "id": "zHqaXMy67N75"
      }
    },
    {
      "cell_type": "code",
      "source": [
        "def train_epoch(train_loader, model, device, loss_function, optimizer):\n",
        "    \"\"\"\n",
        "    Trains the model for one epoch using the provided data loader and updates the model parameters.\n",
        "\n",
        "    Parameters:\n",
        "    - train_loader (torch.utils.data.DataLoader): DataLoader object for the training set.\n",
        "    - model (torch.nn.Module): The neural network model to be trained.\n",
        "    - device (torch.device): The computing device (CPU or GPU).\n",
        "    - loss_function (torch.nn.Module): The loss function to use for training.\n",
        "    - optimizer (torch.optim.Optimizer): The optimizer to update model parameters.\n",
        "\n",
        "    Returns:\n",
        "    - train_loss (float): Average training loss for the epoch.\n",
        "    - train_hamming_loss (float): Training Hamming Loss for the epoch.\n",
        "    \"\"\"\n",
        "    # Set the model to training mode\n",
        "    model = model.to(device)\n",
        "    model.train()\n",
        "\n",
        "    # Initialize variables to track running training loss and Hamming Loss\n",
        "    running_train_loss = 0.0\n",
        "    total_hamming_loss = 0.0\n",
        "\n",
        "    # Iterate over all batches in the training data\n",
        "    for inputs, targets in train_loader:\n",
        "        # Move inputs and targets to the appropriate device\n",
        "        inputs = inputs.to(device)\n",
        "        targets = targets.to(device)\n",
        "\n",
        "        # Perform a forward and backward pass, updating model parameters\n",
        "        loss, outputs, _ = step(inputs, targets, model, device, loss_function, optimizer)\n",
        "\n",
        "        # Update running loss\n",
        "        running_train_loss += loss.item()\n",
        "\n",
        "        # Apply sigmoid and threshold at 0.5 for multilabel classification\n",
        "        sigmoid_outputs = torch.sigmoid(outputs)\n",
        "        predicted = (sigmoid_outputs > 0.5).float()\n",
        "\n",
        "        # Compute Hamming Loss: fraction of incorrect labels\n",
        "        batch_hamming_loss = (predicted != targets).float().mean().item()\n",
        "\n",
        "        # Accumulate Hamming Loss\n",
        "        total_hamming_loss += batch_hamming_loss\n",
        "\n",
        "    # Compute average loss and Hamming Loss for the entire training set\n",
        "    train_loss = running_train_loss / len(train_loader)\n",
        "    train_hamming_loss = total_hamming_loss / len(train_loader)\n",
        "\n",
        "    return train_loss, train_hamming_loss\n"
      ],
      "metadata": {
        "id": "6LUQcFDOs3jo"
      },
      "execution_count": 23,
      "outputs": []
    },
    {
      "cell_type": "code",
      "source": [
        "def val_epoch(valid_loader, model, device, loss_function, threshold=0.5):\n",
        "    \"\"\"\n",
        "    Validates the model for one epoch using the provided data loader.\n",
        "\n",
        "    Parameters:\n",
        "    - valid_loader (torch.utils.data.DataLoader): DataLoader object for the validation set.\n",
        "    - model (torch.nn.Module): The neural network model to be validated.\n",
        "    - device (torch.device): The computing device (CPU or GPU).\n",
        "    - loss_function (torch.nn.Module): The loss function to evaluate the model.\n",
        "    - threshold (float, optional): Threshold for multilabel classification. Default is 0.5.\n",
        "\n",
        "    Returns:\n",
        "    - val_loss (float): Average validation loss for the epoch.\n",
        "    - val_hamming_loss (float): Validation Hamming Loss for the epoch.\n",
        "    \"\"\"\n",
        "    # Set the model to evaluation mode\n",
        "    model = model.to(device)\n",
        "    model.eval()\n",
        "\n",
        "    # Initialize variables to track running validation loss and Hamming Loss\n",
        "    running_val_loss = 0.0\n",
        "    total_hamming_loss = 0.0\n",
        "\n",
        "    # Disable gradient computation for validation\n",
        "    with torch.no_grad():\n",
        "        # Iterate over all batches in the validation data\n",
        "        for inputs, targets in valid_loader:\n",
        "            # Move inputs and targets to the appropriate device (CPU or GPU)\n",
        "            inputs = inputs.to(device)\n",
        "            targets = targets.to(device)\n",
        "\n",
        "            # Perform forward pass: compute predicted outputs by passing inputs to the model\n",
        "            outputs = model(inputs)\n",
        "\n",
        "            # Compute the loss\n",
        "            loss = loss_function(outputs, targets)\n",
        "\n",
        "            # Update running validation loss\n",
        "            running_val_loss += loss.item()\n",
        "\n",
        "            # Apply sigmoid and threshold for multilabel classification\n",
        "            sigmoid_outputs = torch.sigmoid(outputs)\n",
        "            predictions = (sigmoid_outputs > threshold).float()\n",
        "\n",
        "            # Compute Hamming Loss: fraction of incorrect labels\n",
        "            batch_hamming_loss = (predictions != targets).float().mean().item()\n",
        "\n",
        "            # Accumulate the Hamming Loss\n",
        "            total_hamming_loss += batch_hamming_loss\n",
        "\n",
        "    # Compute average loss and Hamming Loss for the entire validation set\n",
        "    val_loss = running_val_loss / len(valid_loader)\n",
        "    val_hamming_loss = total_hamming_loss / len(valid_loader)\n",
        "\n",
        "    return val_loss, val_hamming_loss\n"
      ],
      "metadata": {
        "id": "Xrq3NUdntCEV"
      },
      "execution_count": 24,
      "outputs": []
    },
    {
      "cell_type": "markdown",
      "source": [
        "**Train function definition**"
      ],
      "metadata": {
        "id": "epoO9LF67T-u"
      }
    },
    {
      "cell_type": "code",
      "source": [
        "def train(train_loader, valid_loader, model, optimizer, loss_function, epochs, device,patience=5):\n",
        "    \"\"\"\n",
        "    Trains and validates the model, and returns history of train and validation metrics.\n",
        "\n",
        "    Parameters:\n",
        "    - train_loader (torch.utils.data.DataLoader): DataLoader for the training set.\n",
        "    - valid_loader (torch.utils.data.DataLoader): DataLoader for the validation set.\n",
        "    - model (torch.nn.Module): Neural network model to train.\n",
        "    - optimizer (torch.optim.Optimizer): Optimizer algorithm.\n",
        "    - loss_function (torch.nn.Module): Loss function to evaluate the model.\n",
        "    - epochs (int): Number of epochs to train the model.\n",
        "    - device (torch.device): The computing device (CPU or GPU).\n",
        "\n",
        "    Returns:\n",
        "    - train_loss_history (list): History of training loss for each epoch.\n",
        "    - train_hamming_history (list): History of training Hamming Loss for each epoch.\n",
        "    - valid_loss_history (list): History of validation loss for each epoch.\n",
        "    - valid_hamming_history (list): History of validation Hamming Loss for each epoch.\n",
        "    \"\"\"\n",
        "\n",
        "    # Initialize lists to store metrics for each epoch\n",
        "    train_loss_history = []\n",
        "    valid_loss_history = []\n",
        "    train_hamming_history = []\n",
        "    valid_hamming_history = []\n",
        "\n",
        "    # Loop over the number of specified epochs\n",
        "    for epoch in range(epochs):\n",
        "        print(f\"Epoch {epoch+1}/{epochs}\")\n",
        "\n",
        "        # Train model on training data and capture metrics\n",
        "        train_loss, train_hamming_loss = train_epoch(\n",
        "            train_loader, model, device, loss_function, optimizer)\n",
        "\n",
        "        # Validate model on validation data and capture metrics\n",
        "        valid_loss, valid_hamming_loss = val_epoch(\n",
        "            valid_loader, model, device, loss_function)\n",
        "\n",
        "        # Store metrics for this epoch\n",
        "        train_loss_history.append(train_loss)\n",
        "        train_hamming_history.append(train_hamming_loss)\n",
        "        valid_loss_history.append(valid_loss)\n",
        "        valid_hamming_history.append(valid_hamming_loss)\n",
        "\n",
        "        # Output epoch-level summary\n",
        "        print(f\"Train Loss: {train_loss:.4f} | Train Hamming Loss: {train_hamming_loss:.4f}\")\n",
        "        print(f\"Valid Loss: {valid_loss:.4f} | Valid Hamming Loss: {valid_hamming_loss:.4f}\")\n",
        "        print()\n",
        "\n",
        "        # Early Stopping Logic\n",
        "        best_val_loss = float('inf')\n",
        "        epochs_no_improve = 0\n",
        "        if valid_loss < best_val_loss:\n",
        "            best_val_loss = valid_loss # Update best validation loss\n",
        "            epochs_no_improve = 0 # Reset counter\n",
        "        else:\n",
        "            epochs_no_improve += 1 # Increment counter if no improvement\n",
        "              # Check if patience has been reached\n",
        "        if epochs_no_improve >= patience:\n",
        "            print(f\"Early stopping triggered. No improvement for {patience} consecutive epochs.\")\n",
        "            break # Stop training\n",
        "\n",
        "\n",
        "    return train_loss_history, train_hamming_history, valid_loss_history, valid_hamming_history\n"
      ],
      "metadata": {
        "id": "QFa5CmBbtXji"
      },
      "execution_count": 25,
      "outputs": []
    },
    {
      "cell_type": "code",
      "source": [
        "FEATURE_SIZE = 5000\n",
        "HIDDEN_DIM1 = 200          # Number of neurons in the first hidden layer\n",
        "HIDDEN_DIM2 = 100          # Number of neurons in the second hidden layer\n",
        "DROP_PROB1 = 0.5           # Dropout probability for the first hidden layer\n",
        "DROP_PROB2 = 0.5           # Dropout probability for the second hidden layer\n",
        "NUM_OUTPUTS = 10           # Number of output labels (for multilabel classification)\n",
        "BATCH_SIZE = 128           # Batch size for training\n",
        "LEARNING_RATE = 0.001      # Learning rate for AdamW optimizer\n",
        "PATIENCE = 5\n",
        "EPOCHS = 5"
      ],
      "metadata": {
        "id": "5__hYIUutbwD"
      },
      "execution_count": 26,
      "outputs": []
    },
    {
      "cell_type": "code",
      "source": [
        "# Fixing the seed value for reproducibility across runs\n",
        "import random\n",
        "import numpy as np\n",
        "import torch\n",
        "\n",
        "SEED = 2345\n",
        "random.seed(SEED)                     # Set seed for Python's 'random' module\n",
        "np.random.seed(SEED)                  # Set seed for NumPy's random number generation\n",
        "torch.manual_seed(SEED)               # Set seed for PyTorch's CPU operations\n",
        "torch.cuda.manual_seed(SEED)          # Set seed for PyTorch's CUDA (GPU) operations\n",
        "torch.backends.cudnn.deterministic = True  # Ensure deterministic behavior in CuDNN\n",
        "\n",
        "# Define data loaders for training, validation, and test sets\n",
        "# Make sure trainset, validset, and testset are dense feature datasets (e.g., TF-IDF features)\n",
        "train_loader = torch.utils.data.DataLoader(trainset, batch_size=BATCH_SIZE, shuffle=True, num_workers=2)\n",
        "valid_loader = torch.utils.data.DataLoader(validset, batch_size=BATCH_SIZE, shuffle=False, num_workers=2)\n",
        "test_loader = torch.utils.data.DataLoader(testset, batch_size=BATCH_SIZE, shuffle=False, num_workers=2)\n",
        "\n",
        "# Define the loss function for the model, using binary cross-entropy loss for multilabel classification\n",
        "loss_function = torch.nn.BCEWithLogitsLoss()\n",
        "\n",
        "# Define the model architecture\n",
        "model_imdb = SimpleNN(input_dim=FEATURE_SIZE,       # Number of features (e.g., 5000 if using TF-IDF with max_features=5000)\n",
        "                      hidden_dim1=HIDDEN_DIM1,   # Number of neurons in the first hidden layer\n",
        "                      hidden_dim2=HIDDEN_DIM2,   # Number of neurons in the second hidden layer\n",
        "                      output_dim=NUM_OUTPUTS,    # Number of output labels (multilabel classification)\n",
        "                      drop_prob1=DROP_PROB1,     # Dropout probability for first hidden layer\n",
        "                      drop_prob2=DROP_PROB2)     # Dropout probability for second hidden layer\n",
        "\n",
        "# Initialize the optimizer for training, using AdamW optimizer with the specified learning rate\n",
        "optimizer = torch.optim.AdamW(model_imdb.parameters(), lr=LEARNING_RATE)\n",
        "\n",
        "# Define the device for model training (use CUDA if available, else CPU)\n",
        "device = torch.device('cuda:0' if torch.cuda.is_available() else 'cpu')\n",
        "\n",
        "# Move the model to the selected device (GPU or CPU)\n",
        "model_imdb = model_imdb.to(device)\n"
      ],
      "metadata": {
        "id": "kJDaa2swt5dl"
      },
      "execution_count": 27,
      "outputs": []
    },
    {
      "cell_type": "markdown",
      "source": [
        "**Evaluate loss of untrained model and compare it with theoretical loss**"
      ],
      "metadata": {
        "id": "sObcnV_07gJU"
      }
    },
    {
      "cell_type": "code",
      "source": [
        "# Ensure the model is on the correct device\n",
        "model_imdb = model_imdb.to(device)\n",
        "\n",
        "for inputs, targets in train_loader:\n",
        "    # Move inputs and targets to the device (CPU or GPU)\n",
        "    inputs = inputs.to(device)\n",
        "    targets = targets.to(device).float()\n",
        "\n",
        "    # Set model to evaluation mode\n",
        "    model_imdb.eval()\n",
        "\n",
        "    # Forward pass (no gradients needed since this is evaluation)\n",
        "    with torch.no_grad():\n",
        "        output = model_imdb(inputs)  # Forward pass with inputs\n",
        "\n",
        "        # Compute loss\n",
        "        loss = loss_function(output, targets)\n",
        "\n",
        "        # Print the actual loss for the batch\n",
        "        print(f'Actual loss: {loss.item()}')\n",
        "\n",
        "    # Break after the first batch (since we're testing)\n",
        "    break\n",
        "\n",
        "# Theoretical loss when all predicted probabilities are 0.5 (used in BCEWithLogitsLoss)\n",
        "print(f'Expected Theoretical loss: {-1*np.log(0.5)}')\n"
      ],
      "metadata": {
        "colab": {
          "base_uri": "https://localhost:8080/"
        },
        "id": "PeqFH-OZuWfo",
        "outputId": "11ed1912-802e-4159-ecbb-25a6da6b4747"
      },
      "execution_count": 28,
      "outputs": [
        {
          "output_type": "stream",
          "name": "stdout",
          "text": [
            "Actual loss: 0.6800308227539062\n",
            "Expected Theoretical loss: 0.6931471805599453\n"
          ]
        }
      ]
    },
    {
      "cell_type": "markdown",
      "source": [
        "**Model Training**"
      ],
      "metadata": {
        "id": "3w8HBk1S7n-5"
      }
    },
    {
      "cell_type": "code",
      "source": [
        "train_losses, train_acc, valid_losses, valid_acc = train(\n",
        "    train_loader, valid_loader, model_imdb, optimizer, loss_function, EPOCHS, device\n",
        ")"
      ],
      "metadata": {
        "colab": {
          "base_uri": "https://localhost:8080/"
        },
        "id": "ILLJwY8luj-Q",
        "outputId": "d5a6ec70-2ea7-4dbf-c911-508c8435b79d"
      },
      "execution_count": 29,
      "outputs": [
        {
          "output_type": "stream",
          "name": "stdout",
          "text": [
            "Epoch 1/5\n",
            "Train Loss: 0.3372 | Train Hamming Loss: 0.1322\n",
            "Valid Loss: 0.1443 | Valid Hamming Loss: 0.0502\n",
            "\n",
            "Epoch 2/5\n",
            "Train Loss: 0.1371 | Train Hamming Loss: 0.0487\n",
            "Valid Loss: 0.1203 | Valid Hamming Loss: 0.0450\n",
            "\n",
            "Epoch 3/5\n",
            "Train Loss: 0.1095 | Train Hamming Loss: 0.0403\n",
            "Valid Loss: 0.1133 | Valid Hamming Loss: 0.0424\n",
            "\n",
            "Epoch 4/5\n",
            "Train Loss: 0.0937 | Train Hamming Loss: 0.0342\n",
            "Valid Loss: 0.1094 | Valid Hamming Loss: 0.0402\n",
            "\n",
            "Epoch 5/5\n",
            "Train Loss: 0.0846 | Train Hamming Loss: 0.0308\n",
            "Valid Loss: 0.1083 | Valid Hamming Loss: 0.0389\n",
            "\n"
          ]
        }
      ]
    },
    {
      "cell_type": "markdown",
      "source": [
        "**Performance plots of model over epochs during training and validation**"
      ],
      "metadata": {
        "id": "JMV17kFj7rqj"
      }
    },
    {
      "cell_type": "code",
      "source": [
        "import matplotlib.pyplot as plt\n",
        "import seaborn as sns\n",
        "def plot_history(train_losses, train_metrics, val_losses=None, val_metrics=None):\n",
        "    \"\"\"\n",
        "    Plot training and validation loss and metrics over epochs.\n",
        "\n",
        "    Args:\n",
        "        train_losses (list): List of training losses for each epoch.\n",
        "        train_metrics (list): List of training metrics (e.g., accuracy) for each epoch.\n",
        "        val_losses (list, optional): List of validation losses for each epoch.\n",
        "        val_metrics (list, optional): List of validation metrics for each epoch.\n",
        "\n",
        "    Returns:\n",
        "        None\n",
        "    \"\"\"\n",
        "    # Determine the number of epochs based on the length of train_losses\n",
        "    epochs = range(1, len(train_losses) + 1)\n",
        "\n",
        "    # Plotting training and validation losses\n",
        "    plt.figure()\n",
        "    #print(train_losses)\n",
        "    plt.plot(epochs, train_losses, label=\"Train\")  # Plot training losses\n",
        "    if val_losses:  # Check if validation losses are provided\n",
        "        plt.plot(epochs, val_losses, label=\"Validation\")  # Plot validation losses\n",
        "    plt.xlabel(\"Epochs\")\n",
        "    plt.ylabel(\"Loss\")\n",
        "    plt.legend()\n",
        "    plt.show()\n",
        "\n",
        "    # Plotting training and validation metrics\n",
        "    if train_metrics[0] is not None:\n",
        "       # print(\"hi\") # Check if training metrics are available\n",
        "        plt.figure()\n",
        "        plt.plot(epochs, train_metrics, label=\"Train\")  # Plot training metrics\n",
        "        if val_metrics:  # Check if validation metrics are provided\n",
        "            plt.plot(epochs, val_metrics, label=\"Validation\")  # Plot validation metrics\n",
        "        plt.xlabel(\"Epochs\")\n",
        "        plt.ylabel(\"Metric\")\n",
        "        plt.legend()\n",
        "        plt.show()"
      ],
      "metadata": {
        "id": "g_KeSjNRu2Sy"
      },
      "execution_count": 30,
      "outputs": []
    },
    {
      "cell_type": "code",
      "source": [
        "plot_history(train_losses, train_acc, valid_losses, valid_acc)"
      ],
      "metadata": {
        "id": "5SP5pz1Yv_AB",
        "colab": {
          "base_uri": "https://localhost:8080/",
          "height": 881
        },
        "outputId": "70969334-086b-4e1b-ee71-cdf42c864b22"
      },
      "execution_count": 31,
      "outputs": [
        {
          "output_type": "display_data",
          "data": {
            "text/plain": [
              "<Figure size 640x480 with 1 Axes>"
            ],
            "image/png": "[encoded data removed]"
          },
          "metadata": {}
        },
        {
          "output_type": "display_data",
          "data": {
            "text/plain": [
              "<Figure size 640x480 with 1 Axes>"
            ],
            "image/png": "[encoded data removed]"
          },
          "metadata": {}
        }
      ]
    },
    {
      "cell_type": "markdown",
      "source": [
        "**Evaluation on test dataset***"
      ],
      "metadata": {
        "id": "7lcqHVk77zgm"
      }
    },
    {
      "cell_type": "code",
      "source": [
        "def test_model(test_loader, model, device, loss_function, threshold=0.5):\n",
        "    \"\"\"\n",
        "    Tests the model on the test dataset.\n",
        "\n",
        "    Args:\n",
        "        test_loader (DataLoader): DataLoader object for the test set.\n",
        "        model (nn.Module): Trained neural network model.\n",
        "        device (torch.device): Device to perform computation (CPU/GPU).\n",
        "        loss_function (nn.Module): Loss function to compute the test loss.\n",
        "        threshold (float, optional): Threshold for multilabel classification.\n",
        "\n",
        "    Returns:\n",
        "        avg_test_loss (float): Average loss on the test dataset.\n",
        "        test_hamming_loss (float): Hamming Loss on the test dataset.\n",
        "    \"\"\"\n",
        "    model.eval()  # Set the model to evaluation mode\n",
        "    running_test_loss = 0.0\n",
        "    total_hamming_loss = 0.0\n",
        "    num_batches = 0\n",
        "\n",
        "    with torch.no_grad():  # Disable gradient calculation\n",
        "        for inputs, targets in test_loader:\n",
        "            # Move inputs and targets to the device\n",
        "            inputs = inputs.to(device)\n",
        "            targets = targets.to(device).float()\n",
        "\n",
        "            # Forward pass to get outputs\n",
        "            outputs = model(inputs)\n",
        "\n",
        "            # Compute the loss\n",
        "            loss = loss_function(outputs, targets)\n",
        "            running_test_loss += loss.item()\n",
        "\n",
        "            # Apply sigmoid to get probabilities, then threshold to classify\n",
        "            sigmoid_outputs = torch.sigmoid(outputs)\n",
        "            predictions = (sigmoid_outputs > threshold).float()\n",
        "\n",
        "            # Compute Hamming Loss: fraction of incorrect labels\n",
        "            batch_hamming_loss = (predictions != targets).float().mean().item()\n",
        "            total_hamming_loss += batch_hamming_loss\n",
        "\n",
        "            num_batches += 1\n",
        "\n",
        "    # Compute average test loss and Hamming Loss\n",
        "    avg_test_loss = running_test_loss / num_batches\n",
        "    avg_hamming_loss = total_hamming_loss / num_batches\n",
        "\n",
        "    print(f\"Test Loss: {avg_test_loss:.4f}, Test Hamming Loss: {avg_hamming_loss:.4f}\")\n",
        "\n",
        "    return avg_test_loss, avg_hamming_loss\n"
      ],
      "metadata": {
        "id": "hMEu856TwJT-"
      },
      "execution_count": 32,
      "outputs": []
    },
    {
      "cell_type": "code",
      "source": [
        "# Assuming test_loader, model, device, and loss_function are defined\n",
        "test_loss, test_hamming_loss = test_model(test_loader, model_imdb, device, loss_function)\n",
        "\n",
        "# Print results\n",
        "print(f\"Test Loss: {test_loss}, Test Hamming Loss: {test_hamming_loss}\")\n"
      ],
      "metadata": {
        "colab": {
          "base_uri": "https://localhost:8080/"
        },
        "id": "vaDh-BQMwXyf",
        "outputId": "bdbf397e-f023-422b-b94a-24689977a63f"
      },
      "execution_count": 33,
      "outputs": [
        {
          "output_type": "stream",
          "name": "stdout",
          "text": [
            "Test Loss: 0.1075, Test Hamming Loss: 0.0391\n",
            "Test Loss: 0.10753418137629826, Test Hamming Loss: 0.03907886972030004\n"
          ]
        }
      ]
    },
    {
      "cell_type": "markdown",
      "source": [
        "**INFERENCE:**\n",
        "**The model used in this part was a simple neural network(no embedding bag). The features were created using TF-IDF vectorization with a max features of 5000.\n",
        "We can see from the performance plots and metrics that the model performed better over consecutive epochs with the clear drop in losses and the reduced hamming distances.\n",
        "From the performance on the test dataset we can see that both models in part A and part B have similar metrics,indicating that both models would be able to generalize equally well on unseen data.**\n",
        "\n",
        "#### 2. **Training Process**:\n",
        "   - The model was trained for **5 epochs** with early stopping, with a patience of **5** epochs to prevent overfitting if the validation loss didn’t improve.\n",
        "\n",
        "#### 3. **Hyperparameters**:\n",
        "   - **Hidden Layer Dimensions**: 200 and 100 neurons, respectively.\n",
        "   - **Dropout Probability**: 0.5 for both hidden layers to avoid overfitting.\n",
        "   - **Learning Rate**: 0.001, using the AdamW optimizer.\n",
        "   - **Batch Size**: 128\n",
        "\n",
        "#### 4. **Performance Metrics**:\n",
        "   - The performance of the model was evaluated using **Hamming Loss**, which measures the fraction of labels that are incorrectly predicted for each sample. Lower values of Hamming Loss indicate better performance.\n",
        "   - **Training and Validation Results**:\n",
        "     Epoch 1/5\n",
        "      Train Loss: 0.3372 | Train Hamming Loss: 0.1322\n",
        "      Valid Loss: 0.1443 | Valid Hamming Loss: 0.0502\n",
        "\n",
        "    Epoch 5/5\n",
        "    Train Loss: 0.0846 | Train Hamming Loss: 0.0308\n",
        "    Valid Loss: 0.1083 | Valid Hamming Loss: 0.0389\n",
        "\n",
        "#### 5. **Test Set Evaluation**:\n",
        "   - After training, the model was evaluated on the test set to measure generalization to unseen data.\n",
        "   - **Test Results**:\n",
        "     - **Test Loss**: 0.1075\n",
        "     - **Test Hamming Loss**: 0.039\n",
        "   - These results demonstrate that the model generalized well, with low Hamming Loss on both the validation and test sets, indicating the model's predictions were accurate for most labels.\n",
        "\n",
        "#### 6. **Observations and Insights**:\n",
        "   - **Early Stopping**: The early stopping mechanism prevented the model from overfitting, as it stopped training after 5 epochs where no significant improvements were observed in the validation loss.\n",
        "   - **Performance on Multilabel Classification**: The model achieved a low Hamming Loss, demonstrating that it was able to predict multiple labels for each sample with a high degree of accuracy.\n",
        "   - **Training Stability**: Both training and validation losses decreased consistently over the epochs, showing that the model did not overfit and learned effectively from the training data.\n"
      ],
      "metadata": {
        "id": "zZrnv5fD75DU"
      }
    },
    {
      "cell_type": "code",
      "source": [
        "def run_inference(model, text, device, threshold=0.5):\n",
        "    \"\"\"\n",
        "    Run inference on the test set using the trained model.\n",
        "\n",
        "    Parameters:\n",
        "    - model (nn.Module): The trained model.\n",
        "    - text (Tensor): Preprocessed input data (e.g., TF-IDF vectors).\n",
        "    - device (torch.device): The device to perform inference (CPU/GPU).\n",
        "    - threshold (float): Threshold for converting probabilities to binary predictions (default: 0.5).\n",
        "\n",
        "    Returns:\n",
        "    - transformed_classes (list): List of indices for the predicted classes for each instance.\n",
        "    - predicted_classes (list): One-hot encoded predictions (0/1 for each label).\n",
        "    \"\"\"\n",
        "    # Move model to the device and set it to evaluation mode\n",
        "    model = model.to(device)\n",
        "    model.eval()\n",
        "\n",
        "    # Ensure input is 2D, even for single samples (batch_size, num_features)\n",
        "    if text.dim() == 1:\n",
        "        text = text.unsqueeze(0)\n",
        "\n",
        "    # Move input to the device\n",
        "    text = text.to(device)\n",
        "\n",
        "    # Disable gradient calculations for inference\n",
        "    with torch.no_grad():\n",
        "        # Pass the text (preprocessed vector) to the model to get logits\n",
        "        logits = model(text)\n",
        "\n",
        "        # Apply sigmoid to convert logits to probabilities\n",
        "        probabilities = torch.sigmoid(logits)\n",
        "\n",
        "        # Apply threshold to get binary predictions (0 or 1)\n",
        "        predictions = (probabilities > threshold).float()\n",
        "\n",
        "    # Convert predictions to a list of class labels (0/1)\n",
        "    predicted_classes = predictions.cpu().numpy().tolist()\n",
        "\n",
        "    # Transform binary predictions to class indices\n",
        "    transformed_classes = []\n",
        "    for i in range(len(predicted_classes)):\n",
        "        instance_classes = []\n",
        "        for j in range(len(predicted_classes[i])):\n",
        "            if predicted_classes[i][j] == 1.0:\n",
        "                instance_classes.append(j)\n",
        "        transformed_classes.append(instance_classes)\n",
        "\n",
        "    return transformed_classes, predicted_classes\n",
        "\n",
        "# Example Usage:\n",
        "# Assuming `model_imdb` is the trained model, and `X_test_tensor` is the vectorized test dataset.\n",
        "for i in range(5):\n",
        "    transformed, predictions = run_inference(model_imdb, X_test_tensor[i], device)\n",
        "\n",
        "    # Print the predicted class labels\n",
        "    print(f\"Transformed Predictions: observation {i}: {transformed}\")\n",
        "    print(f\"One-hot Predictions: observation {i}: {predictions}\")\n"
      ],
      "metadata": {
        "colab": {
          "base_uri": "https://localhost:8080/"
        },
        "id": "H78Lu67NkG5S",
        "outputId": "ee7bb4bd-9ebe-4aaa-d141-75f12317e03d"
      },
      "execution_count": 45,
      "outputs": [
        {
          "output_type": "stream",
          "name": "stdout",
          "text": [
            "Transformed Predictions: observation 0: [[3, 5]]\n",
            "One-hot Predictions: observation 0: [[0.0, 0.0, 0.0, 1.0, 0.0, 1.0, 0.0, 0.0, 0.0, 0.0]]\n",
            "Transformed Predictions: observation 1: [[0, 9]]\n",
            "One-hot Predictions: observation 1: [[1.0, 0.0, 0.0, 0.0, 0.0, 0.0, 0.0, 0.0, 0.0, 1.0]]\n",
            "Transformed Predictions: observation 2: [[1, 4]]\n",
            "One-hot Predictions: observation 2: [[0.0, 1.0, 0.0, 0.0, 1.0, 0.0, 0.0, 0.0, 0.0, 0.0]]\n",
            "Transformed Predictions: observation 3: [[0]]\n",
            "One-hot Predictions: observation 3: [[1.0, 0.0, 0.0, 0.0, 0.0, 0.0, 0.0, 0.0, 0.0, 0.0]]\n",
            "Transformed Predictions: observation 4: [[3, 5]]\n",
            "One-hot Predictions: observation 4: [[0.0, 0.0, 0.0, 1.0, 0.0, 1.0, 0.0, 0.0, 0.0, 0.0]]\n"
          ]
        }
      ]
    }
  ]
}